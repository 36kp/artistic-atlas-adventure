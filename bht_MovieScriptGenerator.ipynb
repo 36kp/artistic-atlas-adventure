{
 "cells": [
  {
   "cell_type": "code",
   "execution_count": 1,
   "metadata": {},
   "outputs": [],
   "source": [
    "import google.generativeai as genai\n",
    "from PIL import Image\n",
    "from dotenv import load_dotenv\n",
    "import io\n",
    "import os\n"
   ]
  },
  {
   "cell_type": "code",
   "execution_count": 2,
   "metadata": {},
   "outputs": [],
   "source": [
    "\n",
    "# Load environment variables.\n",
    "load_dotenv()\n",
    "\n",
    "# Store the API key in a variable.\n",
    "GEMINI_API_KEY = os.getenv(\"GEMINI_API_KEY\")"
   ]
  },
  {
   "cell_type": "code",
   "execution_count": 3,
   "metadata": {},
   "outputs": [],
   "source": [
    "# Set API Key\n",
    "genai.configure(api_key=GEMINI_API_KEY)"
   ]
  },
  {
   "cell_type": "code",
   "execution_count": 7,
   "metadata": {},
   "outputs": [],
   "source": [
    "# Load image\n",
    "image_path = \"Resources/sea/107.jpg\"\n",
    "with open(image_path, \"rb\") as img_file:\n",
    "    image_bytes = img_file.read()\n",
    "\n",
    "image = Image.open(io.BytesIO(image_bytes))\n",
    "\n",
    "image.show()"
   ]
  },
  {
   "cell_type": "code",
   "execution_count": null,
   "metadata": {},
   "outputs": [],
   "source": [
    "\n",
    "# Initialize the model\n",
    "model = genai.GenerativeModel(\"gemini-1.5-flash\")\n",
    "\n",
    "# Prepare the image (replace with your image path)\n",
    "image_path = \"Resources/buildings/784.jpg\"\n",
    "\n",
    "# Create a prompt\n",
    "prompt = \"\"\"\n",
    "You are a movie producer.  \n",
    "Analyize the picutre and write an movie synopsis for a movie that is based on the picture. \n",
    "Choose a director and 3 actors for the movie that have appeared in simular movies.\n",
    "A well as an IMDB rating based on simular movies on IMBD.\n",
    "\"\"\"\n",
    "\n",
    "# Generate text\n",
    "response = model.generate_content([prompt, image]) \n",
    "\n",
    "# Print the generated text\n",
    "print(response.text)\n"
   ]
  }
 ],
 "metadata": {
  "kernelspec": {
   "display_name": "base",
   "language": "python",
   "name": "python3"
  },
  "language_info": {
   "codemirror_mode": {
    "name": "ipython",
    "version": 3
   },
   "file_extension": ".py",
   "mimetype": "text/x-python",
   "name": "python",
   "nbconvert_exporter": "python",
   "pygments_lexer": "ipython3",
   "version": "3.12.2"
  }
 },
 "nbformat": 4,
 "nbformat_minor": 2
}
