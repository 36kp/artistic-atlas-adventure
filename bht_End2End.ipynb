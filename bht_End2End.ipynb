{
 "cells": [
  {
   "cell_type": "code",
   "execution_count": 1,
   "metadata": {},
   "outputs": [],
   "source": [
    "import google.generativeai as genai\n",
    "from PIL import Image\n",
    "from dotenv import load_dotenv\n",
    "import io\n",
    "import os\n",
    "import sys\n",
    "import uuid\n",
    "\n",
    "sys.path.append(os.path.abspath(\"../MovieScriptGenerator\"))\n",
    "import MovieScriptGenerator\n",
    "\n",
    "sys.path.append(os.path.abspath(\"../MoviePosterGenerator\"))\n",
    "import MoviePosterGenerator"
   ]
  },
  {
   "cell_type": "code",
   "execution_count": 2,
   "metadata": {},
   "outputs": [],
   "source": [
    "# Import Gradio\n",
    "import gradio as gr"
   ]
  },
  {
   "cell_type": "code",
   "execution_count": 3,
   "metadata": {},
   "outputs": [],
   "source": [
    "SAVE_DIR = \"temp_images\"\n",
    "os.makedirs(SAVE_DIR, exist_ok=True)"
   ]
  },
  {
   "cell_type": "code",
   "execution_count": 4,
   "metadata": {},
   "outputs": [],
   "source": [
    "def generate(image):\n",
    "    file_path = os.path.join(SAVE_DIR, f\"{uuid.uuid4().hex}.jpg\")\n",
    "    image.save(file_path)\n",
    "    movieScriptGenerator = MovieScriptGenerator.MovieScriptGenerator()\n",
    "    script = movieScriptGenerator.generate_script(file_path)\n",
    "    moviePosterGenerator = MoviePosterGenerator.MoviePosterGenerator()\n",
    "    poster = moviePosterGenerator.generate_poster(script)\n",
    "    return script, poster"
   ]
  },
  {
   "cell_type": "code",
   "execution_count": null,
   "metadata": {},
   "outputs": [],
   "source": [
    "# Create an instance of the Gradio Interface application function with the following parameters. \n",
    "app = gr.Interface(\n",
    "    fn=generate,\n",
    "    inputs=gr.Image(type=\"pil\"),  # Allows pasting and basic editing\n",
    "    outputs=[gr.Textbox(), gr.Image(type=\"pil\")],  # Returns text and an image\n",
    "    title=\"Image Processing with Text and Image Output\",\n",
    "\n",
    "    description=\"Paste or upload an image. The system will generate a description and modify the image.\"\n",
    ")\n",
    "# Launch the app\n",
    "app.launch()"
   ]
  }
 ],
 "metadata": {
  "kernelspec": {
   "display_name": "base",
   "language": "python",
   "name": "python3"
  },
  "language_info": {
   "codemirror_mode": {
    "name": "ipython",
    "version": 3
   },
   "file_extension": ".py",
   "mimetype": "text/x-python",
   "name": "python",
   "nbconvert_exporter": "python",
   "pygments_lexer": "ipython3",
   "version": "3.12.2"
  }
 },
 "nbformat": 4,
 "nbformat_minor": 2
}
