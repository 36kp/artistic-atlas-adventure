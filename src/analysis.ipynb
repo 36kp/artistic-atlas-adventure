{
 "cells": [
  {
   "cell_type": "code",
   "execution_count": null,
   "metadata": {},
   "outputs": [],
   "source": [
    "import os\n",
    "import sys\n",
    "\n",
    "import matplotlib.pyplot as plt\n",
    "import pandas as pd\n",
    "\n",
    "sys.path.append(os.path.abspath(r\"./utilities\"))\n",
    "import ImageAnalysis as ia"
   ]
  },
  {
   "cell_type": "code",
   "execution_count": null,
   "metadata": {},
   "outputs": [],
   "source": [
    "root_folder = r\"../resources\"\n",
    "sub_folder_names = [f for f in os.listdir(root_folder) if os.path.isdir(os.path.join(root_folder, f)) and f != \".DS_Store\"]\n",
    "sub_folder_names\n",
    "\n",
    "for folder in sub_folder_names:\n",
    "    print(folder)\n",
    "    colors = ia.get_color_means(os.path.join(root_folder, folder))\n",
    "    color_df = pd.DataFrame(colors, columns=['Red', 'Green', 'Blue'])\n",
    "    plt.figure(figsize=(12, 6))\n",
    "    color_df.plot(kind='box', title='Distribution of Color Channels')\n",
    "    plt.show()\n"
   ]
  }
 ],
 "metadata": {
  "kernelspec": {
   "display_name": "base",
   "language": "python",
   "name": "python3"
  },
  "language_info": {
   "codemirror_mode": {
    "name": "ipython",
    "version": 3
   },
   "file_extension": ".py",
   "mimetype": "text/x-python",
   "name": "python",
   "nbconvert_exporter": "python",
   "pygments_lexer": "ipython3",
   "version": "3.12.2"
  }
 },
 "nbformat": 4,
 "nbformat_minor": 2
}
