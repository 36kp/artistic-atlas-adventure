{
 "cells": [
  {
   "cell_type": "code",
   "execution_count": 8,
   "metadata": {},
   "outputs": [],
   "source": [
    "import pandas as pd\n",
    "import numpy as np\n",
    "from PIL import Image\n",
    "import matplotlib.pyplot as plt\n",
    "import os"
   ]
  },
  {
   "cell_type": "code",
   "execution_count": null,
   "metadata": {},
   "outputs": [],
   "source": [
    "# get the subfolders in root folder \n",
    "root_folder = r\"../../resources\"\n",
    "sub_folder_names = [f for f in os.listdir(root_folder) if os.path.isdir(os.path.join(root_folder, f)) and f != \".DS_Store\"]\n",
    "sub_folder_names"
   ]
  },
  {
   "cell_type": "code",
   "execution_count": null,
   "metadata": {},
   "outputs": [],
   "source": [
    "#empty list for dataframes\n",
    "df_list = []\n",
    "\n",
    "# make dataframes for each subfolder and label each image\n",
    "for sub_folder_name in sub_folder_names:\n",
    "    subfolder_path = os.path.join(root_folder, sub_folder_name)\n",
    "    file_names = os.listdir(subfolder_path)\n",
    "    df = pd.DataFrame(file_names, columns=['image_id'])\n",
    "    df['label'] = sub_folder_name\n",
    "    df_list.append(df)\n",
    "\n",
    "# concat list of dataframes into one dataframe\n",
    "concat_df = pd.concat(df_list)\n",
    "concat_df"
   ]
  },
  {
   "cell_type": "code",
   "execution_count": null,
   "metadata": {},
   "outputs": [],
   "source": [
    "#check if there are null values\n",
    "concat_df.info()"
   ]
  },
  {
   "cell_type": "code",
   "execution_count": null,
   "metadata": {},
   "outputs": [],
   "source": [
    "# check that all image ids are unique\n",
    "len(concat_df['image_id'].unique())"
   ]
  },
  {
   "cell_type": "code",
   "execution_count": null,
   "metadata": {},
   "outputs": [],
   "source": [
    "# value couts for labels\n",
    "concat_df['label'].value_counts()"
   ]
  },
  {
   "cell_type": "code",
   "execution_count": null,
   "metadata": {},
   "outputs": [],
   "source": [
    "# graph value counts\n",
    "concat_df['label'].value_counts().sort_values().plot.barh()"
   ]
  },
  {
   "cell_type": "code",
   "execution_count": null,
   "metadata": {},
   "outputs": [],
   "source": [
    "plt.figure(figsize=(10,10))\n",
    "\n",
    "for i, folder in enumerate(sub_folder_names):\n",
    "    try:\n",
    "        path = os.path.join(root_folder,folder)\n",
    "        folder_path = os.path.join(path,os.listdir(path)[0])\n",
    "        img = Image.open(folder_path)\n",
    "        plt.subplot(2,3,i+1)\n",
    "        plt.imshow(img)\n",
    "        plt.title(folder)\n",
    "\n",
    "    except Exception as e:\n",
    "        print(f\"Error processing {folder_path}: {e}\")\n",
    "\n",
    "plt.tight_layout()\n",
    "plt.show()"
   ]
  },
  {
   "cell_type": "code",
   "execution_count": 10,
   "metadata": {},
   "outputs": [],
   "source": [
    "imgs = []\n",
    "\n",
    "for row in concat_df.itertuples():\n",
    "    file_path = os.path.join(root_folder, row.label, row.image_id)\n",
    "    with Image.open(file_path) as img:\n",
    "        imgs.append(img.copy())\n"
   ]
  },
  {
   "cell_type": "code",
   "execution_count": null,
   "metadata": {},
   "outputs": [],
   "source": [
    "sizes = set([img.size for img in imgs])\n",
    "sizes"
   ]
  },
  {
   "cell_type": "code",
   "execution_count": null,
   "metadata": {},
   "outputs": [],
   "source": [
    "img_size_count = {}\n",
    "\n",
    "for img in imgs:\n",
    "    if str(img.size) in img_size_count:\n",
    "        img_size_count[str(img.size)] += 1\n",
    "    else:\n",
    "        img_size_count[str(img.size)] = 1\n",
    "\n",
    "img_size_count"
   ]
  },
  {
   "cell_type": "code",
   "execution_count": null,
   "metadata": {},
   "outputs": [],
   "source": [
    "target_size = (150, 150)\n",
    "\n",
    "resized_imgs = [img.resize(target_size, resample = Image.LANCZOS) for img in imgs]\n",
    "resized_imgs[1]"
   ]
  },
  {
   "cell_type": "code",
   "execution_count": null,
   "metadata": {},
   "outputs": [],
   "source": [
    "sizes = set([img.size for img in resized_imgs])\n",
    "sizes"
   ]
  }
 ],
 "metadata": {
  "kernelspec": {
   "display_name": "base",
   "language": "python",
   "name": "python3"
  },
  "language_info": {
   "codemirror_mode": {
    "name": "ipython",
    "version": 3
   },
   "file_extension": ".py",
   "mimetype": "text/x-python",
   "name": "python",
   "nbconvert_exporter": "python",
   "pygments_lexer": "ipython3",
   "version": "3.12.2"
  }
 },
 "nbformat": 4,
 "nbformat_minor": 2
}
