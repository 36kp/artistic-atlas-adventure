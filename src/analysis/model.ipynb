{
 "cells": [
  {
   "cell_type": "code",
   "execution_count": 2,
   "metadata": {},
   "outputs": [
    {
     "name": "stderr",
     "output_type": "stream",
     "text": [
      "2025-01-29 07:52:02.840056: I tensorflow/core/platform/cpu_feature_guard.cc:210] This TensorFlow binary is optimized to use available CPU instructions in performance-critical operations.\n",
      "To enable the following instructions: AVX2 FMA, in other operations, rebuild TensorFlow with the appropriate compiler flags.\n"
     ]
    }
   ],
   "source": [
    "import os\n",
    "import sys\n",
    "import pickle\n",
    "import numpy as np\n",
    "import keras_tuner as kt\n",
    "from tensorflow import keras\n",
    "\n",
    "from tensorflow import keras\n",
    "from tensorflow.keras import layers\n",
    "from tensorflow.keras.preprocessing import image\n",
    "\n",
    "from sklearn.preprocessing import LabelEncoder\n",
    "from sklearn.model_selection import train_test_split"
   ]
  },
  {
   "cell_type": "code",
   "execution_count": 3,
   "metadata": {},
   "outputs": [],
   "source": [
    "with open(\"../../pickles/X_train_aug.pkl\", \"rb\") as file:\n",
    "    X_train = pickle.load(file)\n",
    "\n",
    "with open(\"../../pickles/y_train_aug.pkl\", \"rb\") as file:\n",
    "    y_train = pickle.load(file)\n",
    "\n",
    "with open(\"../../pickles/labels.pkl\", \"rb\") as file:\n",
    "    labels = pickle.load(file)\n",
    "\n",
    "# with open(\"../../pickles/resized_images.pkl\", \"rb\") as file:\n",
    "#     resized = pickle.load(file)\n",
    "\n",
    "\n"
   ]
  },
  {
   "cell_type": "code",
   "execution_count": 4,
   "metadata": {},
   "outputs": [
    {
     "name": "stdout",
     "output_type": "stream",
     "text": [
      "0       forest\n",
      "1       forest\n",
      "2       forest\n",
      "3       forest\n",
      "4       forest\n",
      "         ...  \n",
      "2779       sea\n",
      "2780       sea\n",
      "2781       sea\n",
      "2782       sea\n",
      "2783       sea\n",
      "Name: label, Length: 17034, dtype: object\n",
      "<bound method Series.count of 0       forest\n",
      "1       forest\n",
      "2       forest\n",
      "3       forest\n",
      "4       forest\n",
      "         ...  \n",
      "2779       sea\n",
      "2780       sea\n",
      "2781       sea\n",
      "2782       sea\n",
      "2783       sea\n",
      "Name: label, Length: 17034, dtype: object>\n",
      "[[[0.16078432 0.22352941 0.11764706]\n",
      "  [0.08235294 0.14509805 0.04313726]\n",
      "  [0.2627451  0.30588236 0.24313726]\n",
      "  ...\n",
      "  [0.21568628 0.4509804  0.6862745 ]\n",
      "  [0.40784314 0.6039216  0.8117647 ]\n",
      "  [0.4627451  0.6313726  0.83137256]]\n",
      "\n",
      " [[0.39215687 0.44313726 0.34117648]\n",
      "  [0.02745098 0.07450981 0.        ]\n",
      "  [0.03137255 0.0627451  0.00392157]\n",
      "  ...\n",
      "  [0.07058824 0.30980393 0.5568628 ]\n",
      "  [0.2509804  0.45490196 0.6901961 ]\n",
      "  [0.32941177 0.52156866 0.7490196 ]]\n",
      "\n",
      " [[0.06666667 0.09019608 0.        ]\n",
      "  [0.17254902 0.19215687 0.10588235]\n",
      "  [0.02745098 0.04313726 0.        ]\n",
      "  ...\n",
      "  [0.05490196 0.31764707 0.5921569 ]\n",
      "  [0.15294118 0.3882353  0.6627451 ]\n",
      "  [0.2        0.42352942 0.69411767]]\n",
      "\n",
      " ...\n",
      "\n",
      " [[0.03137255 0.0627451  0.        ]\n",
      "  [0.03921569 0.07058824 0.        ]\n",
      "  [0.10588235 0.15686275 0.04705882]\n",
      "  ...\n",
      "  [0.1882353  0.23921569 0.06666667]\n",
      "  [0.21960784 0.26666668 0.07843138]\n",
      "  [0.19215687 0.24313726 0.03529412]]\n",
      "\n",
      " [[0.10196079 0.11764706 0.0627451 ]\n",
      "  [0.13725491 0.16470589 0.10196079]\n",
      "  [0.05490196 0.09019608 0.01568628]\n",
      "  ...\n",
      "  [0.2        0.2627451  0.07843138]\n",
      "  [0.22352941 0.2784314  0.07843138]\n",
      "  [0.18431373 0.24313726 0.02745098]]\n",
      "\n",
      " [[0.05490196 0.06666667 0.03137255]\n",
      "  [0.         0.01960784 0.        ]\n",
      "  [0.08235294 0.10588235 0.05098039]\n",
      "  ...\n",
      "  [0.23529412 0.30588236 0.11764706]\n",
      "  [0.16862746 0.23529412 0.02352941]\n",
      "  [0.2        0.26666668 0.05098039]]]\n",
      "[0. 0. 0. 1. 0. 0.]\n",
      "(27254, 150, 150, 3)\n",
      "(27254, 6)\n",
      "(150, 150, 3)\n"
     ]
    }
   ],
   "source": [
    "print(labels)\n",
    "print(labels.count) \n",
    "print(X_train[0])\n",
    "print(y_train[0])\n",
    "print(X_train.shape)\n",
    "print(y_train.shape)    \n",
    "print(X_train.shape[1:]) "
   ]
  },
  {
   "cell_type": "code",
   "execution_count": 5,
   "metadata": {},
   "outputs": [
    {
     "name": "stdout",
     "output_type": "stream",
     "text": [
      "[0. 1.]\n",
      "(array([0., 1.]), array([136270,  27254]))\n"
     ]
    }
   ],
   "source": [
    "print(np.unique(y_train))  # Ensure this matches expected labels (0 to 5)\n",
    "count = np.unique(y_train, return_counts=True)\n",
    "print(count) "
   ]
  },
  {
   "cell_type": "code",
   "execution_count": null,
   "metadata": {},
   "outputs": [],
   "source": [
    "# y_encoder = LabelEncoder().fit(y_train)\n",
    "# y = y_encoder.transform(y_train)\n",
    "\n",
    "# # Convert values to numpy arrays\n",
    "# X = np.array(X_train)\n",
    "\n",
    "# Split the training dataset into training and validation sets\n",
    "X_train, X_test, y_train, y_test = train_test_split(X_train, y_train, test_size=0.2, random_state=42)\n",
    "#X_train, X_val, y_train, y_val = train_test_split(X_train, y_train, test_size=0.2, random_state=42)\n"
   ]
  },
  {
   "cell_type": "code",
   "execution_count": null,
   "metadata": {},
   "outputs": [
    {
     "name": "stdout",
     "output_type": "stream",
     "text": [
      "Reloading Tuner from hyperparameter_tuning/cnn_randomsearch/tuner0.json\n",
      "\n",
      "Search: Running Trial #3\n",
      "\n",
      "Value             |Best Value So Far |Hyperparameter\n",
      "64                |32                |filters\n",
      "5                 |3                 |kernel_size\n",
      "128               |64                |units\n",
      "0.00046926        |0.0028135         |learning_rate\n",
      "\n",
      "Epoch 1/10\n",
      "\u001b[1m  1/682\u001b[0m \u001b[37m━━━━━━━━━━━━━━━━━━━━\u001b[0m \u001b[1m39:22\u001b[0m 3s/step - accuracy: 0.2500 - loss: 1.8313"
     ]
    }
   ],
   "source": [
    "def build_cnn_model(hp):\n",
    "    model = keras.Sequential([\n",
    "        keras.layers.Conv2D(\n",
    "            filters=hp.Int('filters', min_value=32, max_value=128, step=32),\n",
    "            kernel_size=hp.Choice('kernel_size', values=[3, 5]),\n",
    "            activation='relu',\n",
    "            input_shape=(150, 150, 3)  # Modify for your dataset\n",
    "        ),\n",
    "        keras.layers.MaxPooling2D(pool_size=(2, 2)),\n",
    "        keras.layers.Flatten(),\n",
    "        keras.layers.Dense(\n",
    "            units=hp.Int('units', min_value=32, max_value=128, step=32),\n",
    "            activation='relu'\n",
    "        ),\n",
    "        keras.layers.Dense(6, activation='softmax')  \n",
    "    ])\n",
    "\n",
    "    model.compile(\n",
    "        optimizer=keras.optimizers.Adam(\n",
    "            learning_rate=hp.Float('learning_rate', min_value=1e-4, max_value=1e-2, sampling='LOG')\n",
    "        ),\n",
    "        loss='categorical_crossentropy',\n",
    "        metrics=['accuracy']\n",
    "    )\n",
    "\n",
    "    return model\n",
    "\n",
    "# Initialize the RandomSearch Tuner\n",
    "tuner = kt.RandomSearch(\n",
    "    hypermodel=build_cnn_model,\n",
    "    objective='val_accuracy',\n",
    "    max_trials=10,  # Number of hyperparameter sets to try\n",
    "    executions_per_trial=1,  # Number of times to train each model\n",
    "    directory='hyperparameter_tuning',\n",
    "    project_name='cnn_randomsearch'\n",
    ")\n",
    "\n",
    "\n",
    "# Start hyperparameter tuning\n",
    "tuner.search(X_train, y_train, validation_data=(X_train, y_train), epochs=10, batch_size=32)\n",
    "\n",
    "# Get the best hyperparameters\n",
    "best_hps = tuner.get_best_hyperparameters(num_trials=1)[0]\n",
    "print(\"Best hyperparameters:\", best_hps.values)\n",
    "\n",
    "# Retrieve and build the best model\n",
    "model = tuner.hypermodel.build(best_hps)\n",
    "model.summary()"
   ]
  },
  {
   "cell_type": "code",
   "execution_count": null,
   "metadata": {},
   "outputs": [],
   "source": [
    "# Compile the model\n",
    "model.compile(optimizer='adam', loss='sparse_categorical_crossentropy', metrics=['accuracy'])\n",
    "\n"
   ]
  },
  {
   "cell_type": "code",
   "execution_count": null,
   "metadata": {},
   "outputs": [],
   "source": [
    "# Train the model\n",
    "batch_size = 32\n",
    "epochs = 10\n",
    "history = model.fit(\n",
    "    X_train, y_train,\n",
    "    validation_data=(X_test, y_test),\n",
    "    epochs=epochs\n",
    ")"
   ]
  },
  {
   "cell_type": "code",
   "execution_count": null,
   "metadata": {},
   "outputs": [],
   "source": [
    "model.save(\"../../models/keras_model.h5\")"
   ]
  },
  {
   "cell_type": "code",
   "execution_count": null,
   "metadata": {},
   "outputs": [],
   "source": [
    "img_path = \"../../model/pred/93.jpg\"  # Change this to your image path\n",
    "img_path = \"../../resources/buildings/66.jpg\"  # Change this to your image path\n",
    "\n",
    "img = image.load_img(img_path, target_size=(150, 150))  # Resize to match model input size\n",
    "img.show()\n",
    "img_array = image.img_to_array(img)\n",
    "img_array = img_array / 255.0  # Normalize if the model was trained with normalized images\n",
    "\n",
    "# Expand dimensions to match the batch shape (model expects a batch, not a single image)\n",
    "img_array = np.expand_dims(img_array, axis=0)\n",
    "print(img_array.shape)\n",
    "print(img_array.dtype)\n",
    "# Make prediction\n",
    "predictions = model.predict(img_array)\n",
    "predicted_class = np.argmax(predictions)\n",
    "# Print predictions\n",
    "text = predictions[0][predicted_class]\n",
    "print(predictions)\n",
    "print(predicted_class)"
   ]
  },
  {
   "cell_type": "code",
   "execution_count": null,
   "metadata": {},
   "outputs": [],
   "source": [
    "predicted_class = np.argmax(predictions, axis=1)  # Get class index\n",
    "print(\"Predicted Class:\", predicted_class)"
   ]
  }
 ],
 "metadata": {
  "kernelspec": {
   "display_name": "base",
   "language": "python",
   "name": "python3"
  },
  "language_info": {
   "codemirror_mode": {
    "name": "ipython",
    "version": 3
   },
   "file_extension": ".py",
   "mimetype": "text/x-python",
   "name": "python",
   "nbconvert_exporter": "python",
   "pygments_lexer": "ipython3",
   "version": "3.12.2"
  }
 },
 "nbformat": 4,
 "nbformat_minor": 2
}
