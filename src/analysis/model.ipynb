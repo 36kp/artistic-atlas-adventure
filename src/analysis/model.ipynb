{
 "cells": [
  {
   "cell_type": "code",
   "execution_count": 1,
   "metadata": {},
   "outputs": [
    {
     "name": "stderr",
     "output_type": "stream",
     "text": [
      "2025-01-27 21:06:12.274106: I tensorflow/core/platform/cpu_feature_guard.cc:210] This TensorFlow binary is optimized to use available CPU instructions in performance-critical operations.\n",
      "To enable the following instructions: AVX2 FMA, in other operations, rebuild TensorFlow with the appropriate compiler flags.\n"
     ]
    }
   ],
   "source": [
    "import pickle\n",
    "import numpy as np\n",
    "\n",
    "from tensorflow import keras\n",
    "from tensorflow import keras\n",
    "from tensorflow.keras import layers\n",
    "\n",
    "from sklearn.preprocessing import LabelEncoder\n",
    "from sklearn.model_selection import train_test_split\n",
    "\n"
   ]
  },
  {
   "cell_type": "code",
   "execution_count": 2,
   "metadata": {},
   "outputs": [],
   "source": [
    "with open(\"../../pickles/X_train_aug.pkl\", \"rb\") as file:\n",
    "    X_train = pickle.load(file)\n",
    "\n",
    "with open(\"../../pickles/y_train_aug.pkl\", \"rb\") as file:\n",
    "    y_train = pickle.load(file)\n",
    "\n",
    "with open(\"../../pickles/labels.pkl\", \"rb\") as file:\n",
    "    labels = pickle.load(file)\n",
    "\n",
    "with open(\"../../pickles/resized_images.pkl\", \"rb\") as file:\n",
    "    resized = pickle.load(file)\n",
    "\n"
   ]
  },
  {
   "cell_type": "code",
   "execution_count": 3,
   "metadata": {},
   "outputs": [
    {
     "name": "stdout",
     "output_type": "stream",
     "text": [
      "[[[0.16078432 0.22352941 0.11764706]\n",
      "  [0.08235294 0.14509805 0.04313726]\n",
      "  [0.2627451  0.30588236 0.24313726]\n",
      "  ...\n",
      "  [0.21568628 0.4509804  0.6862745 ]\n",
      "  [0.40784314 0.6039216  0.8117647 ]\n",
      "  [0.4627451  0.6313726  0.83137256]]\n",
      "\n",
      " [[0.39215687 0.44313726 0.34117648]\n",
      "  [0.02745098 0.07450981 0.        ]\n",
      "  [0.03137255 0.0627451  0.00392157]\n",
      "  ...\n",
      "  [0.07058824 0.30980393 0.5568628 ]\n",
      "  [0.2509804  0.45490196 0.6901961 ]\n",
      "  [0.32941177 0.52156866 0.7490196 ]]\n",
      "\n",
      " [[0.06666667 0.09019608 0.        ]\n",
      "  [0.17254902 0.19215687 0.10588235]\n",
      "  [0.02745098 0.04313726 0.        ]\n",
      "  ...\n",
      "  [0.05490196 0.31764707 0.5921569 ]\n",
      "  [0.15294118 0.3882353  0.6627451 ]\n",
      "  [0.2        0.42352942 0.69411767]]\n",
      "\n",
      " ...\n",
      "\n",
      " [[0.03137255 0.0627451  0.        ]\n",
      "  [0.03921569 0.07058824 0.        ]\n",
      "  [0.10588235 0.15686275 0.04705882]\n",
      "  ...\n",
      "  [0.1882353  0.23921569 0.06666667]\n",
      "  [0.21960784 0.26666668 0.07843138]\n",
      "  [0.19215687 0.24313726 0.03529412]]\n",
      "\n",
      " [[0.10196079 0.11764706 0.0627451 ]\n",
      "  [0.13725491 0.16470589 0.10196079]\n",
      "  [0.05490196 0.09019608 0.01568628]\n",
      "  ...\n",
      "  [0.2        0.2627451  0.07843138]\n",
      "  [0.22352941 0.2784314  0.07843138]\n",
      "  [0.18431373 0.24313726 0.02745098]]\n",
      "\n",
      " [[0.05490196 0.06666667 0.03137255]\n",
      "  [0.         0.01960784 0.        ]\n",
      "  [0.08235294 0.10588235 0.05098039]\n",
      "  ...\n",
      "  [0.23529412 0.30588236 0.11764706]\n",
      "  [0.16862746 0.23529412 0.02352941]\n",
      "  [0.2        0.26666668 0.05098039]]]\n",
      "3\n",
      "0       forest\n",
      "0    buildings\n",
      "0      glacier\n",
      "0       street\n",
      "0     mountain\n",
      "0          sea\n",
      "Name: label, dtype: object\n"
     ]
    }
   ],
   "source": [
    "\n",
    "print(X_train[0])\n",
    "print(y_train[0])\n",
    "print(labels[0])\n"
   ]
  },
  {
   "cell_type": "code",
   "execution_count": 4,
   "metadata": {},
   "outputs": [
    {
     "name": "stdout",
     "output_type": "stream",
     "text": [
      "[0 1 2 3 4 5]\n"
     ]
    }
   ],
   "source": [
    "print(np.unique(y_train))  # Ensure this matches expected labels (0 to 5)\n"
   ]
  },
  {
   "cell_type": "code",
   "execution_count": null,
   "metadata": {},
   "outputs": [],
   "source": []
  },
  {
   "cell_type": "code",
   "execution_count": null,
   "metadata": {},
   "outputs": [
    {
     "name": "stdout",
     "output_type": "stream",
     "text": [
      "Epoch 1/10\n",
      "\u001b[1m184/682\u001b[0m \u001b[32m━━━━━\u001b[0m\u001b[37m━━━━━━━━━━━━━━━\u001b[0m \u001b[1m6:59\u001b[0m 843ms/step - accuracy: 0.4747 - loss: 1.4348"
     ]
    }
   ],
   "source": [
    "y_encoder = LabelEncoder().fit(y_train)\n",
    "y = y_encoder.transform(y_train)\n",
    "\n",
    "# Convert values to numpy arrays\n",
    "X = np.array(X_train)\n",
    "\n",
    "# Split the training dataset into training and validation sets\n",
    "X_train, X_test, y_train, y_test = train_test_split(X_train, y_train, test_size=0.2, random_state=42)\n",
    "\n",
    "model = keras.Sequential([\n",
    "    layers.Input(shape=(150, 150, 3)),  \n",
    "    layers.Conv2D(32, (3, 3), activation='relu'),\n",
    "    layers.MaxPooling2D((2, 2)),\n",
    "    layers.Conv2D(64, (3, 3), activation='relu'),\n",
    "    layers.MaxPooling2D((2, 2)),\n",
    "    layers.Conv2D(128, (3, 3), activation='relu'),\n",
    "    layers.Flatten(),\n",
    "    layers.Dense(128, activation='relu'),\n",
    "    layers.Dense(6, activation='softmax')  # ✅ Change output layer to match number of classes (6)\n",
    "])\n",
    "\n",
    "# Compile the model\n",
    "model.compile(optimizer='adam', loss='sparse_categorical_crossentropy', metrics=['accuracy'])\n",
    "\n",
    "# Train the model\n",
    "batch_size = 32\n",
    "epochs = 10\n",
    "history = model.fit(\n",
    "    X_train, y_train,\n",
    "    validation_data=(X_test, y_test),\n",
    "    epochs=epochs\n",
    ")"
   ]
  }
 ],
 "metadata": {
  "kernelspec": {
   "display_name": "base",
   "language": "python",
   "name": "python3"
  },
  "language_info": {
   "codemirror_mode": {
    "name": "ipython",
    "version": 3
   },
   "file_extension": ".py",
   "mimetype": "text/x-python",
   "name": "python",
   "nbconvert_exporter": "python",
   "pygments_lexer": "ipython3",
   "version": "3.12.2"
  }
 },
 "nbformat": 4,
 "nbformat_minor": 2
}
