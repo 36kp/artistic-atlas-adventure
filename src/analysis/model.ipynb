{
 "cells": [
  {
   "cell_type": "code",
   "execution_count": null,
   "metadata": {},
   "outputs": [],
   "source": [
    "import os\n",
    "import sys\n",
    "import pickle\n",
    "import numpy as np\n",
    "import keras_tuner as kt\n",
    "from tensorflow import keras\n",
    "\n",
    "from tensorflow import keras\n",
    "from tensorflow.keras import layers\n",
    "from tensorflow.keras.preprocessing import image\n",
    "\n",
    "from sklearn.preprocessing import LabelEncoder\n",
    "from sklearn.model_selection import train_test_split"
   ]
  },
  {
   "cell_type": "code",
   "execution_count": 3,
   "metadata": {},
   "outputs": [],
   "source": [
    "with open(\"../../pickles/X_train_aug.pkl\", \"rb\") as file:\n",
    "    X_train = pickle.load(file)\n",
    "\n",
    "with open(\"../../pickles/y_train_aug.pkl\", \"rb\") as file:\n",
    "    y_train = pickle.load(file)\n",
    "\n",
    "with open(\"../../pickles/labels.pkl\", \"rb\") as file:\n",
    "    labels = pickle.load(file)\n",
    "\n",
    "# with open(\"../../pickles/resized_images.pkl\", \"rb\") as file:\n",
    "#     resized = pickle.load(file)\n",
    "\n",
    "\n"
   ]
  },
  {
   "cell_type": "code",
   "execution_count": null,
   "metadata": {},
   "outputs": [],
   "source": [
    "print(labels)\n",
    "print(labels.count) \n",
    "print(X_train[0])\n",
    "print(y_train[0])\n",
    "print(X_train.shape)\n",
    "print(y_train.shape)    \n",
    "print(X_train.shape[1:]) "
   ]
  },
  {
   "cell_type": "code",
   "execution_count": null,
   "metadata": {},
   "outputs": [],
   "source": [
    "print(np.unique(y_train))  # Ensure this matches expected labels (0 to 5)\n",
    "count = np.unique(y_train, return_counts=True)\n",
    "print(count) "
   ]
  },
  {
   "cell_type": "code",
   "execution_count": null,
   "metadata": {},
   "outputs": [],
   "source": [
    "\n",
    "# Split the training dataset into training and validation sets\n",
    "X_train, X_test, y_train, y_test = train_test_split(X_train, y_train, test_size=0.2, random_state=42)"
   ]
  },
  {
   "cell_type": "code",
   "execution_count": null,
   "metadata": {},
   "outputs": [],
   "source": [
    "def build_cnn_model(hp):\n",
    "    model = keras.Sequential([\n",
    "        keras.layers.Conv2D(\n",
    "            filters=hp.Int('filters', min_value=32, max_value=128, step=32),\n",
    "            kernel_size=hp.Choice('kernel_size', values=[3, 5]),\n",
    "            activation='relu',\n",
    "            input_shape=(150, 150, 3)  # Modify for your dataset\n",
    "        ),\n",
    "        keras.layers.MaxPooling2D(pool_size=(2, 2)),\n",
    "        keras.layers.Flatten(),\n",
    "        keras.layers.Dense(\n",
    "            units=hp.Int('units', min_value=32, max_value=128, step=32),\n",
    "            activation='relu'\n",
    "        ),\n",
    "        keras.layers.Dense(6, activation='softmax')  \n",
    "    ])\n",
    "\n",
    "    model.compile(\n",
    "        optimizer=keras.optimizers.Adam(\n",
    "            learning_rate=hp.Float('learning_rate', min_value=1e-4, max_value=1e-2, sampling='LOG')\n",
    "        ),\n",
    "        loss='categorical_crossentropy',\n",
    "        metrics=['accuracy']\n",
    "    )\n",
    "\n",
    "    return model\n",
    "\n",
    "# Initialize the RandomSearch Tuner\n",
    "tuner = kt.RandomSearch(\n",
    "    hypermodel=build_cnn_model,\n",
    "    objective='val_accuracy',\n",
    "    max_trials=10,\n",
    "    executions_per_trial=1,  \n",
    "    directory='hyperparameter_tuning',\n",
    "    project_name='cnn_randomsearch'\n",
    ")\n",
    "\n",
    "\n",
    "# Start hyperparameter tuning\n",
    "tuner.search(X_train, y_train, validation_data=(X_train, y_train), epochs=10, batch_size=32)\n",
    "\n",
    "# Get the best hyperparameters\n",
    "best_hps = tuner.get_best_hyperparameters(num_trials=1)[0]\n",
    "print(\"Best hyperparameters:\", best_hps.values)\n",
    "\n",
    "# Retrieve and build the best model\n",
    "model = tuner.hypermodel.build(best_hps)\n",
    "model.summary()"
   ]
  },
  {
   "cell_type": "code",
   "execution_count": null,
   "metadata": {},
   "outputs": [],
   "source": [
    "# Compile the model\n",
    "model.compile(optimizer='adam', loss='sparse_categorical_crossentropy', metrics=['accuracy'])"
   ]
  },
  {
   "cell_type": "code",
   "execution_count": null,
   "metadata": {},
   "outputs": [],
   "source": [
    "# Train the model\n",
    "batch_size = 32\n",
    "epochs = 10\n",
    "history = model.fit(\n",
    "    X_train, y_train,\n",
    "    validation_data=(X_test, y_test),\n",
    "    epochs=epochs\n",
    ")"
   ]
  },
  {
   "cell_type": "code",
   "execution_count": null,
   "metadata": {},
   "outputs": [],
   "source": [
    "# Save the model\n",
    "model.save(\"../../models/keras_model.h5\")"
   ]
  },
  {
   "cell_type": "code",
   "execution_count": null,
   "metadata": {},
   "outputs": [],
   "source": [
    "# Test code\n",
    "img_path = \"../../model/pred/93.jpg\"  # Change this to your image path\n",
    "img_path = \"../../resources/buildings/66.jpg\"  # Change this to your image path\n",
    "\n",
    "img = image.load_img(img_path, target_size=(150, 150))  # Resize to match model input size\n",
    "img.show()\n",
    "img_array = image.img_to_array(img)\n",
    "img_array = img_array / 255.0  # Normalize if the model was trained with normalized images\n",
    "\n",
    "# Expand dimensions to match the batch shape (model expects a batch, not a single image)\n",
    "img_array = np.expand_dims(img_array, axis=0)\n",
    "print(img_array.shape)\n",
    "print(img_array.dtype)\n",
    "# Make prediction\n",
    "predictions = model.predict(img_array)\n",
    "predicted_class = np.argmax(predictions)\n",
    "# Print predictions\n",
    "text = predictions[0][predicted_class]\n",
    "print(predictions)\n",
    "print(predicted_class)"
   ]
  },
  {
   "cell_type": "code",
   "execution_count": null,
   "metadata": {},
   "outputs": [],
   "source": [
    "predicted_class = np.argmax(predictions, axis=1)  # Get class index\n",
    "print(\"Predicted Class:\", predicted_class)"
   ]
  }
 ],
 "metadata": {
  "kernelspec": {
   "display_name": "base",
   "language": "python",
   "name": "python3"
  },
  "language_info": {
   "codemirror_mode": {
    "name": "ipython",
    "version": 3
   },
   "file_extension": ".py",
   "mimetype": "text/x-python",
   "name": "python",
   "nbconvert_exporter": "python",
   "pygments_lexer": "ipython3",
   "version": "3.12.2"
  }
 },
 "nbformat": 4,
 "nbformat_minor": 2
}
