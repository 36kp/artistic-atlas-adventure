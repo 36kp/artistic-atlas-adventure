{
  "cells": [
    {
      "cell_type": "code",
      "source": [
        "!pip install keras-tuner -q"
      ],
      "metadata": {
        "colab": {
          "base_uri": "https://localhost:8080/"
        },
        "id": "9fuiR6jsAzKS",
        "outputId": "55255ff8-6fbd-4655-b0d0-597317225393"
      },
      "execution_count": 2,
      "outputs": [
        {
          "output_type": "stream",
          "name": "stdout",
          "text": [
            "\u001b[?25l   \u001b[90m━━━━━━━━━━━━━━━━━━━━━━━━━━━━━━━━━━━━━━━━\u001b[0m \u001b[32m0.0/129.1 kB\u001b[0m \u001b[31m?\u001b[0m eta \u001b[36m-:--:--\u001b[0m\r\u001b[2K   \u001b[91m━━━━━━━━━━━━━━━━━━━━━━━━━━━━━━━\u001b[0m\u001b[91m╸\u001b[0m\u001b[90m━━━━━━━━\u001b[0m \u001b[32m102.4/129.1 kB\u001b[0m \u001b[31m2.8 MB/s\u001b[0m eta \u001b[36m0:00:01\u001b[0m\r\u001b[2K   \u001b[90m━━━━━━━━━━━━━━━━━━━━━━━━━━━━━━━━━━━━━━━━\u001b[0m \u001b[32m129.1/129.1 kB\u001b[0m \u001b[31m2.8 MB/s\u001b[0m eta \u001b[36m0:00:00\u001b[0m\n",
            "\u001b[?25h"
          ]
        }
      ]
    },
    {
      "cell_type": "code",
      "execution_count": 3,
      "metadata": {
        "id": "B0oO5XI_-wkk"
      },
      "outputs": [],
      "source": [
        "import keras\n",
        "from keras import layers\n",
        "import keras_tuner as kt\n",
        "import pickle\n",
        "from sklearn.model_selection import train_test_split"
      ]
    },
    {
      "cell_type": "code",
      "source": [
        "# Import the modules\n",
        "from google.colab import drive\n",
        "import pickle\n",
        "\n",
        "drive.mount('/content/drive')"
      ],
      "metadata": {
        "colab": {
          "base_uri": "https://localhost:8080/"
        },
        "id": "-AKcejsl_4Zq",
        "outputId": "83c9fa15-5219-414a-e0de-78b2e23bdd74"
      },
      "execution_count": 4,
      "outputs": [
        {
          "output_type": "stream",
          "name": "stdout",
          "text": [
            "Mounted at /content/drive\n"
          ]
        }
      ]
    },
    {
      "cell_type": "code",
      "execution_count": 38,
      "metadata": {
        "id": "VlaI-LAx-wkn"
      },
      "outputs": [],
      "source": [
        "def model_builder(hp):\n",
        "    model = keras.Sequential()\n",
        "\n",
        "    # First Conv Layer\n",
        "    model.add(layers.Conv2D(\n",
        "        filters=hp.Int('conv_1_filters', min_value=32, max_value=256, step=32),\n",
        "        kernel_size=hp.Choice('conv_1_kernel', values=[3, 5]),\n",
        "        activation='relu'\n",
        "    ))\n",
        "    model.add(layers.MaxPooling2D(pool_size=(2, 2)))\n",
        "\n",
        "    # Second Conv Layer\n",
        "    model.add(layers.Conv2D(\n",
        "        filters=hp.Int('conv_2_filters', min_value=32, max_value=256, step=32),\n",
        "        kernel_size=hp.Choice('conv_2_kernel', values=[3, 5]),\n",
        "        activation='relu'\n",
        "    ))\n",
        "    model.add(layers.MaxPooling2D(pool_size=(2, 2)))\n",
        "\n",
        "    # Third Conv Layer\n",
        "    model.add(layers.Conv2D(\n",
        "        filters=hp.Int('conv_3_filters', min_value=32, max_value=256, step=32),\n",
        "        kernel_size=hp.Choice('conv_3_kernel', values=[3, 5]),\n",
        "        activation='relu'\n",
        "    ))\n",
        "\n",
        "    model.add(layers.Flatten())\n",
        "\n",
        "    # Fully Connected Dense Layer\n",
        "    model.add(layers.Dense(\n",
        "        units=hp.Int('dense_units', min_value=32, max_value=256, step=32),\n",
        "        activation='relu'\n",
        "    ))\n",
        "    model.add(layers.Dense(\n",
        "        units=hp.Int('dense_units_2', min_value=32, max_value=256, step=32),\n",
        "        activation='relu'\n",
        "    ))\n",
        "\n",
        "    # Output Layer\n",
        "    model.add(layers.Dense(6, activation='softmax'))\n",
        "\n",
        "    # Compile the model\n",
        "    model.compile(\n",
        "        optimizer=keras.optimizers.Adam(\n",
        "            hp.Choice('learning_rate', values=[1e-2, 1e-3, 1e-4])\n",
        "        ),\n",
        "        loss='categorical_crossentropy',\n",
        "        metrics=['accuracy']\n",
        "    )\n",
        "\n",
        "    return model"
      ]
    },
    {
      "cell_type": "code",
      "execution_count": null,
      "metadata": {
        "id": "KlWfqDu0-wkn"
      },
      "outputs": [],
      "source": [
        "# Load already augmented data from saved pickle files\n",
        "X_train_aug = pickle.load(open(\"/content/drive/My Drive/X_train_aug.pkl\", \"rb\"))\n",
        "y_train_aug = pickle.load(open(\"/content/drive/My Drive/y_train_aug.pkl\", \"rb\"))\n",
        "X_test = pickle.load(open(\"/content/drive/My Drive/X_test.pkl\", \"rb\"))\n",
        "y_test = pickle.load(open(\"/content/drive/My Drive/y_test.pkl\", \"rb\"))\n",
        "\n",
        "# further split the training data into training and validation\n",
        "X_train, X_val, y_train, y_val = train_test_split(X_train_aug, y_train_aug, test_size=0.2, random_state=42)"
      ]
    },
    {
      "cell_type": "code",
      "execution_count": 57,
      "metadata": {
        "colab": {
          "base_uri": "https://localhost:8080/"
        },
        "id": "tTshBRul-wkn",
        "outputId": "9828a720-357d-4bc3-d970-39c8d7c4efd6"
      },
      "outputs": [
        {
          "output_type": "stream",
          "name": "stdout",
          "text": [
            "Trial 20 Complete [00h 01m 49s]\n",
            "val_accuracy: 0.8222344517707825\n",
            "\n",
            "Best val_accuracy So Far: 0.8345257639884949\n",
            "Total elapsed time: 01h 09m 39s\n",
            "Epoch 1/20\n",
            "\u001b[1m682/682\u001b[0m \u001b[32m━━━━━━━━━━━━━━━━━━━━\u001b[0m\u001b[37m\u001b[0m \u001b[1m20s\u001b[0m 23ms/step - accuracy: 0.5547 - loss: 1.1308 - val_accuracy: 0.7443 - val_loss: 0.7111\n",
            "Epoch 2/20\n",
            "\u001b[1m682/682\u001b[0m \u001b[32m━━━━━━━━━━━━━━━━━━━━\u001b[0m\u001b[37m\u001b[0m \u001b[1m12s\u001b[0m 17ms/step - accuracy: 0.7563 - loss: 0.6777 - val_accuracy: 0.7859 - val_loss: 0.5873\n",
            "Epoch 3/20\n",
            "\u001b[1m682/682\u001b[0m \u001b[32m━━━━━━━━━━━━━━━━━━━━\u001b[0m\u001b[37m\u001b[0m \u001b[1m12s\u001b[0m 17ms/step - accuracy: 0.8117 - loss: 0.5240 - val_accuracy: 0.8127 - val_loss: 0.5283\n",
            "Epoch 4/20\n",
            "\u001b[1m682/682\u001b[0m \u001b[32m━━━━━━━━━━━━━━━━━━━━\u001b[0m\u001b[37m\u001b[0m \u001b[1m12s\u001b[0m 17ms/step - accuracy: 0.8628 - loss: 0.3894 - val_accuracy: 0.8109 - val_loss: 0.5197\n",
            "Epoch 5/20\n",
            "\u001b[1m682/682\u001b[0m \u001b[32m━━━━━━━━━━━━━━━━━━━━\u001b[0m\u001b[37m\u001b[0m \u001b[1m12s\u001b[0m 17ms/step - accuracy: 0.8903 - loss: 0.3069 - val_accuracy: 0.8202 - val_loss: 0.5186\n",
            "Epoch 6/20\n",
            "\u001b[1m682/682\u001b[0m \u001b[32m━━━━━━━━━━━━━━━━━━━━\u001b[0m\u001b[37m\u001b[0m \u001b[1m12s\u001b[0m 17ms/step - accuracy: 0.9157 - loss: 0.2293 - val_accuracy: 0.8187 - val_loss: 0.5725\n",
            "Epoch 7/20\n",
            "\u001b[1m682/682\u001b[0m \u001b[32m━━━━━━━━━━━━━━━━━━━━\u001b[0m\u001b[37m\u001b[0m \u001b[1m12s\u001b[0m 17ms/step - accuracy: 0.9457 - loss: 0.1599 - val_accuracy: 0.8342 - val_loss: 0.5458\n",
            "Epoch 8/20\n",
            "\u001b[1m682/682\u001b[0m \u001b[32m━━━━━━━━━━━━━━━━━━━━\u001b[0m\u001b[37m\u001b[0m \u001b[1m12s\u001b[0m 17ms/step - accuracy: 0.9627 - loss: 0.1137 - val_accuracy: 0.8257 - val_loss: 0.6707\n",
            "Epoch 9/20\n",
            "\u001b[1m682/682\u001b[0m \u001b[32m━━━━━━━━━━━━━━━━━━━━\u001b[0m\u001b[37m\u001b[0m \u001b[1m12s\u001b[0m 17ms/step - accuracy: 0.9751 - loss: 0.0809 - val_accuracy: 0.8298 - val_loss: 0.6416\n",
            "Epoch 10/20\n",
            "\u001b[1m682/682\u001b[0m \u001b[32m━━━━━━━━━━━━━━━━━━━━\u001b[0m\u001b[37m\u001b[0m \u001b[1m12s\u001b[0m 17ms/step - accuracy: 0.9856 - loss: 0.0532 - val_accuracy: 0.8265 - val_loss: 0.6957\n",
            "Epoch 11/20\n",
            "\u001b[1m682/682\u001b[0m \u001b[32m━━━━━━━━━━━━━━━━━━━━\u001b[0m\u001b[37m\u001b[0m \u001b[1m12s\u001b[0m 17ms/step - accuracy: 0.9874 - loss: 0.0411 - val_accuracy: 0.8076 - val_loss: 0.8051\n",
            "Epoch 12/20\n",
            "\u001b[1m682/682\u001b[0m \u001b[32m━━━━━━━━━━━━━━━━━━━━\u001b[0m\u001b[37m\u001b[0m \u001b[1m12s\u001b[0m 17ms/step - accuracy: 0.9921 - loss: 0.0338 - val_accuracy: 0.8277 - val_loss: 0.8190\n",
            "Epoch 13/20\n",
            "\u001b[1m682/682\u001b[0m \u001b[32m━━━━━━━━━━━━━━━━━━━━\u001b[0m\u001b[37m\u001b[0m \u001b[1m12s\u001b[0m 17ms/step - accuracy: 0.9896 - loss: 0.0405 - val_accuracy: 0.8285 - val_loss: 0.8618\n",
            "Epoch 14/20\n",
            "\u001b[1m682/682\u001b[0m \u001b[32m━━━━━━━━━━━━━━━━━━━━\u001b[0m\u001b[37m\u001b[0m \u001b[1m12s\u001b[0m 17ms/step - accuracy: 0.9928 - loss: 0.0286 - val_accuracy: 0.8076 - val_loss: 0.9592\n",
            "Epoch 15/20\n",
            "\u001b[1m682/682\u001b[0m \u001b[32m━━━━━━━━━━━━━━━━━━━━\u001b[0m\u001b[37m\u001b[0m \u001b[1m12s\u001b[0m 17ms/step - accuracy: 0.9915 - loss: 0.0321 - val_accuracy: 0.8149 - val_loss: 0.9408\n",
            "Epoch 16/20\n",
            "\u001b[1m682/682\u001b[0m \u001b[32m━━━━━━━━━━━━━━━━━━━━\u001b[0m\u001b[37m\u001b[0m \u001b[1m12s\u001b[0m 17ms/step - accuracy: 0.9934 - loss: 0.0251 - val_accuracy: 0.8076 - val_loss: 1.0124\n",
            "Epoch 17/20\n",
            "\u001b[1m682/682\u001b[0m \u001b[32m━━━━━━━━━━━━━━━━━━━━\u001b[0m\u001b[37m\u001b[0m \u001b[1m12s\u001b[0m 17ms/step - accuracy: 0.9974 - loss: 0.0123 - val_accuracy: 0.8096 - val_loss: 0.9926\n",
            "Epoch 18/20\n",
            "\u001b[1m682/682\u001b[0m \u001b[32m━━━━━━━━━━━━━━━━━━━━\u001b[0m\u001b[37m\u001b[0m \u001b[1m12s\u001b[0m 17ms/step - accuracy: 0.9917 - loss: 0.0270 - val_accuracy: 0.8222 - val_loss: 1.0728\n",
            "Epoch 19/20\n",
            "\u001b[1m682/682\u001b[0m \u001b[32m━━━━━━━━━━━━━━━━━━━━\u001b[0m\u001b[37m\u001b[0m \u001b[1m12s\u001b[0m 17ms/step - accuracy: 0.9987 - loss: 0.0079 - val_accuracy: 0.8320 - val_loss: 0.9930\n",
            "Epoch 20/20\n",
            "\u001b[1m682/682\u001b[0m \u001b[32m━━━━━━━━━━━━━━━━━━━━\u001b[0m\u001b[37m\u001b[0m \u001b[1m12s\u001b[0m 17ms/step - accuracy: 0.9956 - loss: 0.0166 - val_accuracy: 0.8178 - val_loss: 1.0406\n",
            "\u001b[1m107/107\u001b[0m \u001b[32m━━━━━━━━━━━━━━━━━━━━\u001b[0m\u001b[37m\u001b[0m \u001b[1m2s\u001b[0m 16ms/step - accuracy: 0.8131 - loss: 1.3377\n",
            "Test Accuracy: 0.8221\n"
          ]
        }
      ],
      "source": [
        "# Initialize the tuner\n",
        "tuner = kt.RandomSearch(\n",
        "    model_builder,\n",
        "    objective='val_accuracy',\n",
        "    max_trials=20,  # Number of different models to try\n",
        "    executions_per_trial=1,  # Number of times to train each model\n",
        "    directory='keras_tuner_results',\n",
        "    project_name='cnn_hp_tuning_random_search'\n",
        ")\n",
        "\n",
        "# Perform Hyperparameter Search\n",
        "tuner.search(X_train, y_train, epochs=10, validation_data=(X_val, y_val), batch_size=32)\n",
        "\n",
        "# Get the Best Hyperparameters\n",
        "best_hps = tuner.get_best_hyperparameters(num_trials=1)[0]\n",
        "\n",
        "# Build and Train the Best Model\n",
        "best_model = tuner.hypermodel.build(best_hps)\n",
        "history = best_model.fit(X_train, y_train, epochs=20, validation_data=(X_val, y_val))\n",
        "\n",
        "# Evaluate on Test Data\n",
        "test_loss, test_acc = best_model.evaluate(X_test, y_test)\n",
        "print(f\"Test Accuracy: {test_acc:.4f}\")"
      ]
    },
    {
      "cell_type": "code",
      "execution_count": 59,
      "metadata": {
        "id": "nrWZBsJQ-wko",
        "colab": {
          "base_uri": "https://localhost:8080/",
          "height": 182
        },
        "outputId": "feeea187-17f7-4db4-8839-dc1a3d90a9af"
      },
      "outputs": [
        {
          "output_type": "display_data",
          "data": {
            "text/plain": [
              "{'conv_1_filters': 160,\n",
              " 'conv_1_kernel': 3,\n",
              " 'conv_2_filters': 128,\n",
              " 'conv_2_kernel': 3,\n",
              " 'conv_3_filters': 256,\n",
              " 'conv_3_kernel': 5,\n",
              " 'dense_units': 96,\n",
              " 'dense_units_2': 64,\n",
              " 'learning_rate': 0.0001}"
            ]
          },
          "metadata": {}
        }
      ],
      "source": [
        "display(best_hps.values)"
      ]
    },
    {
      "cell_type": "code",
      "source": [
        "best_tuned_model = tuner.get_best_models(1)[0]\n",
        "tuned_hp = tuner.get_best_hyperparameters(1)[0]\n",
        "\n",
        "model_loss, model_accuracy = best_tuned_model.evaluate(X_test, y_test)\n",
        "print(f\"Test Accuracy: {model_accuracy:.4f}\\nTest Loss: {model_loss:.4f}\\n\")\n",
        "display(f\"Best Hyperparameters: {tuned_hp.values}\")"
      ],
      "metadata": {
        "colab": {
          "base_uri": "https://localhost:8080/",
          "height": 109
        },
        "id": "wW7afoc5uMJH",
        "outputId": "5a7de98b-d9d2-4a07-c9cb-0520cb608805"
      },
      "execution_count": 66,
      "outputs": [
        {
          "output_type": "stream",
          "name": "stdout",
          "text": [
            "\u001b[1m107/107\u001b[0m \u001b[32m━━━━━━━━━━━━━━━━━━━━\u001b[0m\u001b[37m\u001b[0m \u001b[1m2s\u001b[0m 10ms/step - accuracy: 0.8159 - loss: 0.7796\n",
            "Test Accuracy: 0.8180\n",
            "Test Loss: 0.7389\n",
            "\n"
          ]
        },
        {
          "output_type": "display_data",
          "data": {
            "text/plain": [
              "\"Best Hyperparameters: {'conv_1_filters': 160, 'conv_1_kernel': 3, 'conv_2_filters': 128, 'conv_2_kernel': 3, 'conv_3_filters': 256, 'conv_3_kernel': 5, 'dense_units': 96, 'dense_units_2': 64, 'learning_rate': 0.0001}\""
            ],
            "application/vnd.google.colaboratory.intrinsic+json": {
              "type": "string"
            }
          },
          "metadata": {}
        }
      ]
    },
    {
      "cell_type": "code",
      "source": [
        "optimum_model = tuner.hypermodel.build(tuned_hp)\n",
        "optimum_model.fit(X_train, y_train, epochs=7, validation_data=(X_val, y_val))\n",
        "\n",
        "model_loss, model_accuracy = optimum_model.evaluate(X_test, y_test)\n",
        "print(f\"Test Accuracy: {model_accuracy:.4f}\\nTest Loss: {model_loss:.4f}\\n\")\n",
        "display(f\"Best Hyperparameters: {tuned_hp.values}\")"
      ],
      "metadata": {
        "colab": {
          "base_uri": "https://localhost:8080/",
          "height": 367
        },
        "id": "O4oR3Z7QuL0h",
        "outputId": "4d57b8ea-1877-42b4-a267-531dcbcfc752"
      },
      "execution_count": 67,
      "outputs": [
        {
          "output_type": "stream",
          "name": "stdout",
          "text": [
            "Epoch 1/7\n",
            "\u001b[1m682/682\u001b[0m \u001b[32m━━━━━━━━━━━━━━━━━━━━\u001b[0m\u001b[37m\u001b[0m \u001b[1m19s\u001b[0m 22ms/step - accuracy: 0.5348 - loss: 1.1723 - val_accuracy: 0.7204 - val_loss: 0.7483\n",
            "Epoch 2/7\n",
            "\u001b[1m682/682\u001b[0m \u001b[32m━━━━━━━━━━━━━━━━━━━━\u001b[0m\u001b[37m\u001b[0m \u001b[1m12s\u001b[0m 17ms/step - accuracy: 0.7585 - loss: 0.6577 - val_accuracy: 0.7971 - val_loss: 0.5699\n",
            "Epoch 3/7\n",
            "\u001b[1m682/682\u001b[0m \u001b[32m━━━━━━━━━━━━━━━━━━━━\u001b[0m\u001b[37m\u001b[0m \u001b[1m12s\u001b[0m 17ms/step - accuracy: 0.8127 - loss: 0.5185 - val_accuracy: 0.8103 - val_loss: 0.5301\n",
            "Epoch 4/7\n",
            "\u001b[1m682/682\u001b[0m \u001b[32m━━━━━━━━━━━━━━━━━━━━\u001b[0m\u001b[37m\u001b[0m \u001b[1m12s\u001b[0m 17ms/step - accuracy: 0.8508 - loss: 0.4070 - val_accuracy: 0.8087 - val_loss: 0.5380\n",
            "Epoch 5/7\n",
            "\u001b[1m682/682\u001b[0m \u001b[32m━━━━━━━━━━━━━━━━━━━━\u001b[0m\u001b[37m\u001b[0m \u001b[1m12s\u001b[0m 17ms/step - accuracy: 0.8828 - loss: 0.3283 - val_accuracy: 0.8386 - val_loss: 0.4562\n",
            "Epoch 6/7\n",
            "\u001b[1m682/682\u001b[0m \u001b[32m━━━━━━━━━━━━━━━━━━━━\u001b[0m\u001b[37m\u001b[0m \u001b[1m12s\u001b[0m 17ms/step - accuracy: 0.9135 - loss: 0.2403 - val_accuracy: 0.8397 - val_loss: 0.4818\n",
            "Epoch 7/7\n",
            "\u001b[1m682/682\u001b[0m \u001b[32m━━━━━━━━━━━━━━━━━━━━\u001b[0m\u001b[37m\u001b[0m \u001b[1m12s\u001b[0m 17ms/step - accuracy: 0.9333 - loss: 0.1894 - val_accuracy: 0.8243 - val_loss: 0.5207\n",
            "\u001b[1m107/107\u001b[0m \u001b[32m━━━━━━━━━━━━━━━━━━━━\u001b[0m\u001b[37m\u001b[0m \u001b[1m1s\u001b[0m 10ms/step - accuracy: 0.8250 - loss: 0.6056\n",
            "Test Accuracy: 0.8303\n",
            "Test Loss: 0.5872\n",
            "\n"
          ]
        },
        {
          "output_type": "display_data",
          "data": {
            "text/plain": [
              "\"Best Hyperparameters: {'conv_1_filters': 160, 'conv_1_kernel': 3, 'conv_2_filters': 128, 'conv_2_kernel': 3, 'conv_3_filters': 256, 'conv_3_kernel': 5, 'dense_units': 96, 'dense_units_2': 64, 'learning_rate': 0.0001}\""
            ],
            "application/vnd.google.colaboratory.intrinsic+json": {
              "type": "string"
            }
          },
          "metadata": {}
        }
      ]
    },
    {
      "cell_type": "code",
      "execution_count": 69,
      "metadata": {
        "id": "yBV9PgHi-wko"
      },
      "outputs": [],
      "source": [
        "optimum_model.save(\"/content/drive/My Drive/project/models/tuned_model_randomsearch.keras\")"
      ]
    },
    {
      "cell_type": "code",
      "source": [
        "optimum_model.summary()"
      ],
      "metadata": {
        "colab": {
          "base_uri": "https://localhost:8080/",
          "height": 446
        },
        "id": "kJ_PJmRwgNtP",
        "outputId": "a17f0632-e662-4404-cb87-cc6534c0449c"
      },
      "execution_count": 70,
      "outputs": [
        {
          "output_type": "display_data",
          "data": {
            "text/plain": [
              "\u001b[1mModel: \"sequential_1\"\u001b[0m\n"
            ],
            "text/html": [
              "<pre style=\"white-space:pre;overflow-x:auto;line-height:normal;font-family:Menlo,'DejaVu Sans Mono',consolas,'Courier New',monospace\"><span style=\"font-weight: bold\">Model: \"sequential_1\"</span>\n",
              "</pre>\n"
            ]
          },
          "metadata": {}
        },
        {
          "output_type": "display_data",
          "data": {
            "text/plain": [
              "┏━━━━━━━━━━━━━━━━━━━━━━━━━━━━━━━━━━━━━━┳━━━━━━━━━━━━━━━━━━━━━━━━━━━━━┳━━━━━━━━━━━━━━━━━┓\n",
              "┃\u001b[1m \u001b[0m\u001b[1mLayer (type)                        \u001b[0m\u001b[1m \u001b[0m┃\u001b[1m \u001b[0m\u001b[1mOutput Shape               \u001b[0m\u001b[1m \u001b[0m┃\u001b[1m \u001b[0m\u001b[1m        Param #\u001b[0m\u001b[1m \u001b[0m┃\n",
              "┡━━━━━━━━━━━━━━━━━━━━━━━━━━━━━━━━━━━━━━╇━━━━━━━━━━━━━━━━━━━━━━━━━━━━━╇━━━━━━━━━━━━━━━━━┩\n",
              "│ conv2d_3 (\u001b[38;5;33mConv2D\u001b[0m)                    │ (\u001b[38;5;45mNone\u001b[0m, \u001b[38;5;34m148\u001b[0m, \u001b[38;5;34m148\u001b[0m, \u001b[38;5;34m160\u001b[0m)       │           \u001b[38;5;34m4,480\u001b[0m │\n",
              "├──────────────────────────────────────┼─────────────────────────────┼─────────────────┤\n",
              "│ max_pooling2d_2 (\u001b[38;5;33mMaxPooling2D\u001b[0m)       │ (\u001b[38;5;45mNone\u001b[0m, \u001b[38;5;34m74\u001b[0m, \u001b[38;5;34m74\u001b[0m, \u001b[38;5;34m160\u001b[0m)         │               \u001b[38;5;34m0\u001b[0m │\n",
              "├──────────────────────────────────────┼─────────────────────────────┼─────────────────┤\n",
              "│ conv2d_4 (\u001b[38;5;33mConv2D\u001b[0m)                    │ (\u001b[38;5;45mNone\u001b[0m, \u001b[38;5;34m72\u001b[0m, \u001b[38;5;34m72\u001b[0m, \u001b[38;5;34m128\u001b[0m)         │         \u001b[38;5;34m184,448\u001b[0m │\n",
              "├──────────────────────────────────────┼─────────────────────────────┼─────────────────┤\n",
              "│ max_pooling2d_3 (\u001b[38;5;33mMaxPooling2D\u001b[0m)       │ (\u001b[38;5;45mNone\u001b[0m, \u001b[38;5;34m36\u001b[0m, \u001b[38;5;34m36\u001b[0m, \u001b[38;5;34m128\u001b[0m)         │               \u001b[38;5;34m0\u001b[0m │\n",
              "├──────────────────────────────────────┼─────────────────────────────┼─────────────────┤\n",
              "│ conv2d_5 (\u001b[38;5;33mConv2D\u001b[0m)                    │ (\u001b[38;5;45mNone\u001b[0m, \u001b[38;5;34m32\u001b[0m, \u001b[38;5;34m32\u001b[0m, \u001b[38;5;34m256\u001b[0m)         │         \u001b[38;5;34m819,456\u001b[0m │\n",
              "├──────────────────────────────────────┼─────────────────────────────┼─────────────────┤\n",
              "│ flatten_1 (\u001b[38;5;33mFlatten\u001b[0m)                  │ (\u001b[38;5;45mNone\u001b[0m, \u001b[38;5;34m262144\u001b[0m)              │               \u001b[38;5;34m0\u001b[0m │\n",
              "├──────────────────────────────────────┼─────────────────────────────┼─────────────────┤\n",
              "│ dense_3 (\u001b[38;5;33mDense\u001b[0m)                      │ (\u001b[38;5;45mNone\u001b[0m, \u001b[38;5;34m96\u001b[0m)                  │      \u001b[38;5;34m25,165,920\u001b[0m │\n",
              "├──────────────────────────────────────┼─────────────────────────────┼─────────────────┤\n",
              "│ dense_4 (\u001b[38;5;33mDense\u001b[0m)                      │ (\u001b[38;5;45mNone\u001b[0m, \u001b[38;5;34m64\u001b[0m)                  │           \u001b[38;5;34m6,208\u001b[0m │\n",
              "├──────────────────────────────────────┼─────────────────────────────┼─────────────────┤\n",
              "│ dense_5 (\u001b[38;5;33mDense\u001b[0m)                      │ (\u001b[38;5;45mNone\u001b[0m, \u001b[38;5;34m6\u001b[0m)                   │             \u001b[38;5;34m390\u001b[0m │\n",
              "└──────────────────────────────────────┴─────────────────────────────┴─────────────────┘\n"
            ],
            "text/html": [
              "<pre style=\"white-space:pre;overflow-x:auto;line-height:normal;font-family:Menlo,'DejaVu Sans Mono',consolas,'Courier New',monospace\">┏━━━━━━━━━━━━━━━━━━━━━━━━━━━━━━━━━━━━━━┳━━━━━━━━━━━━━━━━━━━━━━━━━━━━━┳━━━━━━━━━━━━━━━━━┓\n",
              "┃<span style=\"font-weight: bold\"> Layer (type)                         </span>┃<span style=\"font-weight: bold\"> Output Shape                </span>┃<span style=\"font-weight: bold\">         Param # </span>┃\n",
              "┡━━━━━━━━━━━━━━━━━━━━━━━━━━━━━━━━━━━━━━╇━━━━━━━━━━━━━━━━━━━━━━━━━━━━━╇━━━━━━━━━━━━━━━━━┩\n",
              "│ conv2d_3 (<span style=\"color: #0087ff; text-decoration-color: #0087ff\">Conv2D</span>)                    │ (<span style=\"color: #00d7ff; text-decoration-color: #00d7ff\">None</span>, <span style=\"color: #00af00; text-decoration-color: #00af00\">148</span>, <span style=\"color: #00af00; text-decoration-color: #00af00\">148</span>, <span style=\"color: #00af00; text-decoration-color: #00af00\">160</span>)       │           <span style=\"color: #00af00; text-decoration-color: #00af00\">4,480</span> │\n",
              "├──────────────────────────────────────┼─────────────────────────────┼─────────────────┤\n",
              "│ max_pooling2d_2 (<span style=\"color: #0087ff; text-decoration-color: #0087ff\">MaxPooling2D</span>)       │ (<span style=\"color: #00d7ff; text-decoration-color: #00d7ff\">None</span>, <span style=\"color: #00af00; text-decoration-color: #00af00\">74</span>, <span style=\"color: #00af00; text-decoration-color: #00af00\">74</span>, <span style=\"color: #00af00; text-decoration-color: #00af00\">160</span>)         │               <span style=\"color: #00af00; text-decoration-color: #00af00\">0</span> │\n",
              "├──────────────────────────────────────┼─────────────────────────────┼─────────────────┤\n",
              "│ conv2d_4 (<span style=\"color: #0087ff; text-decoration-color: #0087ff\">Conv2D</span>)                    │ (<span style=\"color: #00d7ff; text-decoration-color: #00d7ff\">None</span>, <span style=\"color: #00af00; text-decoration-color: #00af00\">72</span>, <span style=\"color: #00af00; text-decoration-color: #00af00\">72</span>, <span style=\"color: #00af00; text-decoration-color: #00af00\">128</span>)         │         <span style=\"color: #00af00; text-decoration-color: #00af00\">184,448</span> │\n",
              "├──────────────────────────────────────┼─────────────────────────────┼─────────────────┤\n",
              "│ max_pooling2d_3 (<span style=\"color: #0087ff; text-decoration-color: #0087ff\">MaxPooling2D</span>)       │ (<span style=\"color: #00d7ff; text-decoration-color: #00d7ff\">None</span>, <span style=\"color: #00af00; text-decoration-color: #00af00\">36</span>, <span style=\"color: #00af00; text-decoration-color: #00af00\">36</span>, <span style=\"color: #00af00; text-decoration-color: #00af00\">128</span>)         │               <span style=\"color: #00af00; text-decoration-color: #00af00\">0</span> │\n",
              "├──────────────────────────────────────┼─────────────────────────────┼─────────────────┤\n",
              "│ conv2d_5 (<span style=\"color: #0087ff; text-decoration-color: #0087ff\">Conv2D</span>)                    │ (<span style=\"color: #00d7ff; text-decoration-color: #00d7ff\">None</span>, <span style=\"color: #00af00; text-decoration-color: #00af00\">32</span>, <span style=\"color: #00af00; text-decoration-color: #00af00\">32</span>, <span style=\"color: #00af00; text-decoration-color: #00af00\">256</span>)         │         <span style=\"color: #00af00; text-decoration-color: #00af00\">819,456</span> │\n",
              "├──────────────────────────────────────┼─────────────────────────────┼─────────────────┤\n",
              "│ flatten_1 (<span style=\"color: #0087ff; text-decoration-color: #0087ff\">Flatten</span>)                  │ (<span style=\"color: #00d7ff; text-decoration-color: #00d7ff\">None</span>, <span style=\"color: #00af00; text-decoration-color: #00af00\">262144</span>)              │               <span style=\"color: #00af00; text-decoration-color: #00af00\">0</span> │\n",
              "├──────────────────────────────────────┼─────────────────────────────┼─────────────────┤\n",
              "│ dense_3 (<span style=\"color: #0087ff; text-decoration-color: #0087ff\">Dense</span>)                      │ (<span style=\"color: #00d7ff; text-decoration-color: #00d7ff\">None</span>, <span style=\"color: #00af00; text-decoration-color: #00af00\">96</span>)                  │      <span style=\"color: #00af00; text-decoration-color: #00af00\">25,165,920</span> │\n",
              "├──────────────────────────────────────┼─────────────────────────────┼─────────────────┤\n",
              "│ dense_4 (<span style=\"color: #0087ff; text-decoration-color: #0087ff\">Dense</span>)                      │ (<span style=\"color: #00d7ff; text-decoration-color: #00d7ff\">None</span>, <span style=\"color: #00af00; text-decoration-color: #00af00\">64</span>)                  │           <span style=\"color: #00af00; text-decoration-color: #00af00\">6,208</span> │\n",
              "├──────────────────────────────────────┼─────────────────────────────┼─────────────────┤\n",
              "│ dense_5 (<span style=\"color: #0087ff; text-decoration-color: #0087ff\">Dense</span>)                      │ (<span style=\"color: #00d7ff; text-decoration-color: #00d7ff\">None</span>, <span style=\"color: #00af00; text-decoration-color: #00af00\">6</span>)                   │             <span style=\"color: #00af00; text-decoration-color: #00af00\">390</span> │\n",
              "└──────────────────────────────────────┴─────────────────────────────┴─────────────────┘\n",
              "</pre>\n"
            ]
          },
          "metadata": {}
        },
        {
          "output_type": "display_data",
          "data": {
            "text/plain": [
              "\u001b[1m Total params: \u001b[0m\u001b[38;5;34m78,542,708\u001b[0m (299.62 MB)\n"
            ],
            "text/html": [
              "<pre style=\"white-space:pre;overflow-x:auto;line-height:normal;font-family:Menlo,'DejaVu Sans Mono',consolas,'Courier New',monospace\"><span style=\"font-weight: bold\"> Total params: </span><span style=\"color: #00af00; text-decoration-color: #00af00\">78,542,708</span> (299.62 MB)\n",
              "</pre>\n"
            ]
          },
          "metadata": {}
        },
        {
          "output_type": "display_data",
          "data": {
            "text/plain": [
              "\u001b[1m Trainable params: \u001b[0m\u001b[38;5;34m26,180,902\u001b[0m (99.87 MB)\n"
            ],
            "text/html": [
              "<pre style=\"white-space:pre;overflow-x:auto;line-height:normal;font-family:Menlo,'DejaVu Sans Mono',consolas,'Courier New',monospace\"><span style=\"font-weight: bold\"> Trainable params: </span><span style=\"color: #00af00; text-decoration-color: #00af00\">26,180,902</span> (99.87 MB)\n",
              "</pre>\n"
            ]
          },
          "metadata": {}
        },
        {
          "output_type": "display_data",
          "data": {
            "text/plain": [
              "\u001b[1m Non-trainable params: \u001b[0m\u001b[38;5;34m0\u001b[0m (0.00 B)\n"
            ],
            "text/html": [
              "<pre style=\"white-space:pre;overflow-x:auto;line-height:normal;font-family:Menlo,'DejaVu Sans Mono',consolas,'Courier New',monospace\"><span style=\"font-weight: bold\"> Non-trainable params: </span><span style=\"color: #00af00; text-decoration-color: #00af00\">0</span> (0.00 B)\n",
              "</pre>\n"
            ]
          },
          "metadata": {}
        },
        {
          "output_type": "display_data",
          "data": {
            "text/plain": [
              "\u001b[1m Optimizer params: \u001b[0m\u001b[38;5;34m52,361,806\u001b[0m (199.74 MB)\n"
            ],
            "text/html": [
              "<pre style=\"white-space:pre;overflow-x:auto;line-height:normal;font-family:Menlo,'DejaVu Sans Mono',consolas,'Courier New',monospace\"><span style=\"font-weight: bold\"> Optimizer params: </span><span style=\"color: #00af00; text-decoration-color: #00af00\">52,361,806</span> (199.74 MB)\n",
              "</pre>\n"
            ]
          },
          "metadata": {}
        }
      ]
    },
    {
      "cell_type": "code",
      "source": [
        "optimum_model.evaluate(X_test, y_test)"
      ],
      "metadata": {
        "id": "d3mXLMTnElfw",
        "colab": {
          "base_uri": "https://localhost:8080/"
        },
        "outputId": "84ee0f15-9c65-4c4c-ea2b-2e527769e247"
      },
      "execution_count": 71,
      "outputs": [
        {
          "output_type": "stream",
          "name": "stdout",
          "text": [
            "\u001b[1m107/107\u001b[0m \u001b[32m━━━━━━━━━━━━━━━━━━━━\u001b[0m\u001b[37m\u001b[0m \u001b[1m1s\u001b[0m 7ms/step - accuracy: 0.8250 - loss: 0.6056\n"
          ]
        },
        {
          "output_type": "execute_result",
          "data": {
            "text/plain": [
              "[0.5872045755386353, 0.8303492665290833]"
            ]
          },
          "metadata": {},
          "execution_count": 71
        }
      ]
    },
    {
      "cell_type": "code",
      "source": [
        "import pandas as pd\n",
        "import matplotlib.pyplot as plt\n",
        "import numpy as np\n",
        "\n",
        "# Get all trials and results\n",
        "trials = tuner.oracle.get_best_trials(num_trials=20)  # Get top 10 trials\n",
        "\n",
        "# Extract data\n",
        "trial_data = []\n",
        "for trial in trials:\n",
        "    trial_data.append({\n",
        "        'trial_id': trial.trial_id,\n",
        "        'conv_1_filters': trial.hyperparameters.get('conv_1_filters'),\n",
        "        'conv_2_filters': trial.hyperparameters.get('conv_2_filters'),\n",
        "        'conv_3_filters': trial.hyperparameters.get('conv_3_filters'),\n",
        "        'dense_units': trial.hyperparameters.get('dense_units'),\n",
        "        'dense_units_2': trial.hyperparameters.get('dense_units_2'),\n",
        "        'kernel_size': trial.hyperparameters.get('conv_1_kernel'),\n",
        "        'learning_rate': trial.hyperparameters.get('learning_rate'),\n",
        "        'val_accuracy': trial.metrics.get_best_value('val_accuracy'),\n",
        "        'val_loss': trial.metrics.get_best_value('val_loss')\n",
        "    })\n",
        "\n",
        "# Convert to DataFrame\n",
        "df = pd.DataFrame(trial_data)"
      ],
      "metadata": {
        "id": "dxfiTQ825tlg"
      },
      "execution_count": 95,
      "outputs": []
    },
    {
      "cell_type": "code",
      "source": [
        "\n",
        "\n",
        "# Define color gradient based on accuracy\n",
        "colors = plt.cm.Greens(np.linspace(1, 0.4, len(df)))\n",
        "\n",
        "\n",
        "plt.figure(figsize=(10, 5))\n",
        "df_sorted = df.sort_values(by=\"val_accuracy\", ascending=False)\n",
        "\n",
        "# Define Bar Width\n",
        "bar_width = 0.4\n",
        "\n",
        "# Create Figure\n",
        "fig, ax = plt.subplots(figsize=(12, 8))\n",
        "\n",
        "# Set positions for bars\n",
        "x = np.arange(len(df_sorted))\n",
        "\n",
        "# Plot Bars for Accuracy\n",
        "bars1 = ax.bar(x - bar_width/2, df_sorted['val_accuracy'], bar_width, label='Validation Accuracy', color='green', edgecolor='black')\n",
        "\n",
        "# Plot Bars for Loss\n",
        "bars2 = ax.bar(x + bar_width/2, df_sorted['val_loss'], bar_width, label='Validation Loss', color='red', edgecolor='black')\n",
        "\n",
        "# Add Data Labels for Accuracy\n",
        "for bar in bars1:\n",
        "    yval = bar.get_height()\n",
        "    ax.text(bar.get_x() + bar.get_width()/2, yval, f\"{yval:.2f}\", ha='center', va='bottom', fontsize=10, fontweight='bold')\n",
        "\n",
        "# Add Data Labels for Loss\n",
        "for bar in bars2:\n",
        "    yval = bar.get_height()\n",
        "    ax.text(bar.get_x() + bar.get_width()/2, yval, f\"{yval:.2f}\", ha='center', va='bottom', fontsize=10, fontweight='bold', color='black')\n",
        "\n",
        "# Labels and Title\n",
        "ax.set_xlabel('Trial ID')\n",
        "ax.set_ylabel('Value')\n",
        "ax.set_title('Validation Accuracy & Loss for Top Trials')\n",
        "ax.set_xticks(x)\n",
        "ax.set_xticklabels(df_sorted['trial_id'], rotation=45)\n",
        "ax.legend()\n",
        "ax.grid(axis='y', linestyle='--', alpha=0.7)\n",
        "\n",
        "# Show Plot\n",
        "plt.show()"
      ],
      "metadata": {
        "colab": {
          "base_uri": "https://localhost:8080/",
          "height": 745
        },
        "id": "sgND2ewcYSYn",
        "outputId": "0cf2de68-5b7b-488c-97c5-44e720aaf5e6"
      },
      "execution_count": 96,
      "outputs": [
        {
          "output_type": "display_data",
          "data": {
            "text/plain": [
              "<Figure size 1000x500 with 0 Axes>"
            ]
          },
          "metadata": {}
        },
        {
          "output_type": "display_data",
          "data": {
            "text/plain": [
              "<Figure size 1200x800 with 1 Axes>"
            ],
            "image/png": "[encoded data removed]"
          },
          "metadata": {}
        }
      ]
    },
    {
      "cell_type": "code",
      "source": [
        "display(df)"
      ],
      "metadata": {
        "colab": {
          "base_uri": "https://localhost:8080/",
          "height": 677
        },
        "id": "w40aOC0gjqnl",
        "outputId": "755506ff-cfc5-4926-d5e2-ec8cdae8bedc"
      },
      "execution_count": 91,
      "outputs": [
        {
          "output_type": "display_data",
          "data": {
            "text/plain": [
              "   trial_id  conv_1_filters  conv_2_filters  conv_3_filters  dense_units  \\\n",
              "0        16             160             128             256           96   \n",
              "1        00              96             160              96           64   \n",
              "2        14             128             160             192           96   \n",
              "3        03              32              32              64          256   \n",
              "4        19              96              32             160          160   \n",
              "5        04              32             192              96           32   \n",
              "6        08             192             224             160          192   \n",
              "7        01              96              64             192           96   \n",
              "8        07             192              64             224          128   \n",
              "9        17             224             256             128           32   \n",
              "10       11              32              96              32           32   \n",
              "11       13              96             128              96           32   \n",
              "12       12              64              96              96          192   \n",
              "13       15              96             128              64          256   \n",
              "14       02             192              64              96           32   \n",
              "15       05             160             192              32          160   \n",
              "16       06             256             160              32          160   \n",
              "17       09             160             128              64          160   \n",
              "18       10             128              64              64          256   \n",
              "19       18             192             256             128           64   \n",
              "\n",
              "    dense_units_2  kernel_size  learning_rate  val_accuracy  val_loss  \n",
              "0              64            3         0.0001      0.834526  0.601675  \n",
              "1             160            5         0.0001      0.828839  0.502672  \n",
              "2             160            5         0.0001      0.827922  0.493218  \n",
              "3             128            5         0.0001      0.823152  0.588161  \n",
              "4             160            3         0.0001      0.822234  0.582755  \n",
              "5             160            5         0.0001      0.819666  0.515238  \n",
              "6              96            5         0.0001      0.811961  0.883144  \n",
              "7              64            5         0.0001      0.810493  0.574271  \n",
              "8              64            5         0.0001      0.809393  0.824913  \n",
              "9             128            3         0.0010      0.807191  0.611667  \n",
              "10            256            3         0.0010      0.799853  0.690908  \n",
              "11             96            3         0.0010      0.796001  0.580842  \n",
              "12            256            5         0.0010      0.779123  1.090236  \n",
              "13            224            3         0.0100      0.617318  0.987127  \n",
              "14            256            3         0.0100      0.180884  1.790055  \n",
              "15            160            5         0.0100      0.180884  1.790328  \n",
              "16            192            3         0.0100      0.180884  1.789637  \n",
              "17             96            5         0.0100      0.180884  1.792218  \n",
              "18             32            3         0.0100      0.180884  1.789902  \n",
              "19            160            5         0.0100      0.180884  1.791206  "
            ],
            "text/html": [
              "\n",
              "  <div id=\"df-24caf98a-f92b-46c1-aa0b-30c459e170f2\" class=\"colab-df-container\">\n",
              "    <div>\n",
              "<style scoped>\n",
              "    .dataframe tbody tr th:only-of-type {\n",
              "        vertical-align: middle;\n",
              "    }\n",
              "\n",
              "    .dataframe tbody tr th {\n",
              "        vertical-align: top;\n",
              "    }\n",
              "\n",
              "    .dataframe thead th {\n",
              "        text-align: right;\n",
              "    }\n",
              "</style>\n",
              "<table border=\"1\" class=\"dataframe\">\n",
              "  <thead>\n",
              "    <tr style=\"text-align: right;\">\n",
              "      <th></th>\n",
              "      <th>trial_id</th>\n",
              "      <th>conv_1_filters</th>\n",
              "      <th>conv_2_filters</th>\n",
              "      <th>conv_3_filters</th>\n",
              "      <th>dense_units</th>\n",
              "      <th>dense_units_2</th>\n",
              "      <th>kernel_size</th>\n",
              "      <th>learning_rate</th>\n",
              "      <th>val_accuracy</th>\n",
              "      <th>val_loss</th>\n",
              "    </tr>\n",
              "  </thead>\n",
              "  <tbody>\n",
              "    <tr>\n",
              "      <th>0</th>\n",
              "      <td>16</td>\n",
              "      <td>160</td>\n",
              "      <td>128</td>\n",
              "      <td>256</td>\n",
              "      <td>96</td>\n",
              "      <td>64</td>\n",
              "      <td>3</td>\n",
              "      <td>0.0001</td>\n",
              "      <td>0.834526</td>\n",
              "      <td>0.601675</td>\n",
              "    </tr>\n",
              "    <tr>\n",
              "      <th>1</th>\n",
              "      <td>00</td>\n",
              "      <td>96</td>\n",
              "      <td>160</td>\n",
              "      <td>96</td>\n",
              "      <td>64</td>\n",
              "      <td>160</td>\n",
              "      <td>5</td>\n",
              "      <td>0.0001</td>\n",
              "      <td>0.828839</td>\n",
              "      <td>0.502672</td>\n",
              "    </tr>\n",
              "    <tr>\n",
              "      <th>2</th>\n",
              "      <td>14</td>\n",
              "      <td>128</td>\n",
              "      <td>160</td>\n",
              "      <td>192</td>\n",
              "      <td>96</td>\n",
              "      <td>160</td>\n",
              "      <td>5</td>\n",
              "      <td>0.0001</td>\n",
              "      <td>0.827922</td>\n",
              "      <td>0.493218</td>\n",
              "    </tr>\n",
              "    <tr>\n",
              "      <th>3</th>\n",
              "      <td>03</td>\n",
              "      <td>32</td>\n",
              "      <td>32</td>\n",
              "      <td>64</td>\n",
              "      <td>256</td>\n",
              "      <td>128</td>\n",
              "      <td>5</td>\n",
              "      <td>0.0001</td>\n",
              "      <td>0.823152</td>\n",
              "      <td>0.588161</td>\n",
              "    </tr>\n",
              "    <tr>\n",
              "      <th>4</th>\n",
              "      <td>19</td>\n",
              "      <td>96</td>\n",
              "      <td>32</td>\n",
              "      <td>160</td>\n",
              "      <td>160</td>\n",
              "      <td>160</td>\n",
              "      <td>3</td>\n",
              "      <td>0.0001</td>\n",
              "      <td>0.822234</td>\n",
              "      <td>0.582755</td>\n",
              "    </tr>\n",
              "    <tr>\n",
              "      <th>5</th>\n",
              "      <td>04</td>\n",
              "      <td>32</td>\n",
              "      <td>192</td>\n",
              "      <td>96</td>\n",
              "      <td>32</td>\n",
              "      <td>160</td>\n",
              "      <td>5</td>\n",
              "      <td>0.0001</td>\n",
              "      <td>0.819666</td>\n",
              "      <td>0.515238</td>\n",
              "    </tr>\n",
              "    <tr>\n",
              "      <th>6</th>\n",
              "      <td>08</td>\n",
              "      <td>192</td>\n",
              "      <td>224</td>\n",
              "      <td>160</td>\n",
              "      <td>192</td>\n",
              "      <td>96</td>\n",
              "      <td>5</td>\n",
              "      <td>0.0001</td>\n",
              "      <td>0.811961</td>\n",
              "      <td>0.883144</td>\n",
              "    </tr>\n",
              "    <tr>\n",
              "      <th>7</th>\n",
              "      <td>01</td>\n",
              "      <td>96</td>\n",
              "      <td>64</td>\n",
              "      <td>192</td>\n",
              "      <td>96</td>\n",
              "      <td>64</td>\n",
              "      <td>5</td>\n",
              "      <td>0.0001</td>\n",
              "      <td>0.810493</td>\n",
              "      <td>0.574271</td>\n",
              "    </tr>\n",
              "    <tr>\n",
              "      <th>8</th>\n",
              "      <td>07</td>\n",
              "      <td>192</td>\n",
              "      <td>64</td>\n",
              "      <td>224</td>\n",
              "      <td>128</td>\n",
              "      <td>64</td>\n",
              "      <td>5</td>\n",
              "      <td>0.0001</td>\n",
              "      <td>0.809393</td>\n",
              "      <td>0.824913</td>\n",
              "    </tr>\n",
              "    <tr>\n",
              "      <th>9</th>\n",
              "      <td>17</td>\n",
              "      <td>224</td>\n",
              "      <td>256</td>\n",
              "      <td>128</td>\n",
              "      <td>32</td>\n",
              "      <td>128</td>\n",
              "      <td>3</td>\n",
              "      <td>0.0010</td>\n",
              "      <td>0.807191</td>\n",
              "      <td>0.611667</td>\n",
              "    </tr>\n",
              "    <tr>\n",
              "      <th>10</th>\n",
              "      <td>11</td>\n",
              "      <td>32</td>\n",
              "      <td>96</td>\n",
              "      <td>32</td>\n",
              "      <td>32</td>\n",
              "      <td>256</td>\n",
              "      <td>3</td>\n",
              "      <td>0.0010</td>\n",
              "      <td>0.799853</td>\n",
              "      <td>0.690908</td>\n",
              "    </tr>\n",
              "    <tr>\n",
              "      <th>11</th>\n",
              "      <td>13</td>\n",
              "      <td>96</td>\n",
              "      <td>128</td>\n",
              "      <td>96</td>\n",
              "      <td>32</td>\n",
              "      <td>96</td>\n",
              "      <td>3</td>\n",
              "      <td>0.0010</td>\n",
              "      <td>0.796001</td>\n",
              "      <td>0.580842</td>\n",
              "    </tr>\n",
              "    <tr>\n",
              "      <th>12</th>\n",
              "      <td>12</td>\n",
              "      <td>64</td>\n",
              "      <td>96</td>\n",
              "      <td>96</td>\n",
              "      <td>192</td>\n",
              "      <td>256</td>\n",
              "      <td>5</td>\n",
              "      <td>0.0010</td>\n",
              "      <td>0.779123</td>\n",
              "      <td>1.090236</td>\n",
              "    </tr>\n",
              "    <tr>\n",
              "      <th>13</th>\n",
              "      <td>15</td>\n",
              "      <td>96</td>\n",
              "      <td>128</td>\n",
              "      <td>64</td>\n",
              "      <td>256</td>\n",
              "      <td>224</td>\n",
              "      <td>3</td>\n",
              "      <td>0.0100</td>\n",
              "      <td>0.617318</td>\n",
              "      <td>0.987127</td>\n",
              "    </tr>\n",
              "    <tr>\n",
              "      <th>14</th>\n",
              "      <td>02</td>\n",
              "      <td>192</td>\n",
              "      <td>64</td>\n",
              "      <td>96</td>\n",
              "      <td>32</td>\n",
              "      <td>256</td>\n",
              "      <td>3</td>\n",
              "      <td>0.0100</td>\n",
              "      <td>0.180884</td>\n",
              "      <td>1.790055</td>\n",
              "    </tr>\n",
              "    <tr>\n",
              "      <th>15</th>\n",
              "      <td>05</td>\n",
              "      <td>160</td>\n",
              "      <td>192</td>\n",
              "      <td>32</td>\n",
              "      <td>160</td>\n",
              "      <td>160</td>\n",
              "      <td>5</td>\n",
              "      <td>0.0100</td>\n",
              "      <td>0.180884</td>\n",
              "      <td>1.790328</td>\n",
              "    </tr>\n",
              "    <tr>\n",
              "      <th>16</th>\n",
              "      <td>06</td>\n",
              "      <td>256</td>\n",
              "      <td>160</td>\n",
              "      <td>32</td>\n",
              "      <td>160</td>\n",
              "      <td>192</td>\n",
              "      <td>3</td>\n",
              "      <td>0.0100</td>\n",
              "      <td>0.180884</td>\n",
              "      <td>1.789637</td>\n",
              "    </tr>\n",
              "    <tr>\n",
              "      <th>17</th>\n",
              "      <td>09</td>\n",
              "      <td>160</td>\n",
              "      <td>128</td>\n",
              "      <td>64</td>\n",
              "      <td>160</td>\n",
              "      <td>96</td>\n",
              "      <td>5</td>\n",
              "      <td>0.0100</td>\n",
              "      <td>0.180884</td>\n",
              "      <td>1.792218</td>\n",
              "    </tr>\n",
              "    <tr>\n",
              "      <th>18</th>\n",
              "      <td>10</td>\n",
              "      <td>128</td>\n",
              "      <td>64</td>\n",
              "      <td>64</td>\n",
              "      <td>256</td>\n",
              "      <td>32</td>\n",
              "      <td>3</td>\n",
              "      <td>0.0100</td>\n",
              "      <td>0.180884</td>\n",
              "      <td>1.789902</td>\n",
              "    </tr>\n",
              "    <tr>\n",
              "      <th>19</th>\n",
              "      <td>18</td>\n",
              "      <td>192</td>\n",
              "      <td>256</td>\n",
              "      <td>128</td>\n",
              "      <td>64</td>\n",
              "      <td>160</td>\n",
              "      <td>5</td>\n",
              "      <td>0.0100</td>\n",
              "      <td>0.180884</td>\n",
              "      <td>1.791206</td>\n",
              "    </tr>\n",
              "  </tbody>\n",
              "</table>\n",
              "</div>\n",
              "    <div class=\"colab-df-buttons\">\n",
              "\n",
              "  <div class=\"colab-df-container\">\n",
              "    <button class=\"colab-df-convert\" onclick=\"convertToInteractive('df-24caf98a-f92b-46c1-aa0b-30c459e170f2')\"\n",
              "            title=\"Convert this dataframe to an interactive table.\"\n",
              "            style=\"display:none;\">\n",
              "\n",
              "  <svg xmlns=\"http://www.w3.org/2000/svg\" height=\"24px\" viewBox=\"0 -960 960 960\">\n",
              "    <path d=\"M120-120v-720h720v720H120Zm60-500h600v-160H180v160Zm220 220h160v-160H400v160Zm0 220h160v-160H400v160ZM180-400h160v-160H180v160Zm440 0h160v-160H620v160ZM180-180h160v-160H180v160Zm440 0h160v-160H620v160Z\"/>\n",
              "  </svg>\n",
              "    </button>\n",
              "\n",
              "  <style>\n",
              "    .colab-df-container {\n",
              "      display:flex;\n",
              "      gap: 12px;\n",
              "    }\n",
              "\n",
              "    .colab-df-convert {\n",
              "      background-color: #E8F0FE;\n",
              "      border: none;\n",
              "      border-radius: 50%;\n",
              "      cursor: pointer;\n",
              "      display: none;\n",
              "      fill: #1967D2;\n",
              "      height: 32px;\n",
              "      padding: 0 0 0 0;\n",
              "      width: 32px;\n",
              "    }\n",
              "\n",
              "    .colab-df-convert:hover {\n",
              "      background-color: #E2EBFA;\n",
              "      box-shadow: 0px 1px 2px rgba(60, 64, 67, 0.3), 0px 1px 3px 1px rgba(60, 64, 67, 0.15);\n",
              "      fill: #174EA6;\n",
              "    }\n",
              "\n",
              "    .colab-df-buttons div {\n",
              "      margin-bottom: 4px;\n",
              "    }\n",
              "\n",
              "    [theme=dark] .colab-df-convert {\n",
              "      background-color: #3B4455;\n",
              "      fill: #D2E3FC;\n",
              "    }\n",
              "\n",
              "    [theme=dark] .colab-df-convert:hover {\n",
              "      background-color: #434B5C;\n",
              "      box-shadow: 0px 1px 3px 1px rgba(0, 0, 0, 0.15);\n",
              "      filter: drop-shadow(0px 1px 2px rgba(0, 0, 0, 0.3));\n",
              "      fill: #FFFFFF;\n",
              "    }\n",
              "  </style>\n",
              "\n",
              "    <script>\n",
              "      const buttonEl =\n",
              "        document.querySelector('#df-24caf98a-f92b-46c1-aa0b-30c459e170f2 button.colab-df-convert');\n",
              "      buttonEl.style.display =\n",
              "        google.colab.kernel.accessAllowed ? 'block' : 'none';\n",
              "\n",
              "      async function convertToInteractive(key) {\n",
              "        const element = document.querySelector('#df-24caf98a-f92b-46c1-aa0b-30c459e170f2');\n",
              "        const dataTable =\n",
              "          await google.colab.kernel.invokeFunction('convertToInteractive',\n",
              "                                                    [key], {});\n",
              "        if (!dataTable) return;\n",
              "\n",
              "        const docLinkHtml = 'Like what you see? Visit the ' +\n",
              "          '<a target=\"_blank\" href=https://colab.research.google.com/notebooks/data_table.ipynb>data table notebook</a>'\n",
              "          + ' to learn more about interactive tables.';\n",
              "        element.innerHTML = '';\n",
              "        dataTable['output_type'] = 'display_data';\n",
              "        await google.colab.output.renderOutput(dataTable, element);\n",
              "        const docLink = document.createElement('div');\n",
              "        docLink.innerHTML = docLinkHtml;\n",
              "        element.appendChild(docLink);\n",
              "      }\n",
              "    </script>\n",
              "  </div>\n",
              "\n",
              "\n",
              "<div id=\"df-440a0290-6047-4ada-8948-e32030788aec\">\n",
              "  <button class=\"colab-df-quickchart\" onclick=\"quickchart('df-440a0290-6047-4ada-8948-e32030788aec')\"\n",
              "            title=\"Suggest charts\"\n",
              "            style=\"display:none;\">\n",
              "\n",
              "<svg xmlns=\"http://www.w3.org/2000/svg\" height=\"24px\"viewBox=\"0 0 24 24\"\n",
              "     width=\"24px\">\n",
              "    <g>\n",
              "        <path d=\"M19 3H5c-1.1 0-2 .9-2 2v14c0 1.1.9 2 2 2h14c1.1 0 2-.9 2-2V5c0-1.1-.9-2-2-2zM9 17H7v-7h2v7zm4 0h-2V7h2v10zm4 0h-2v-4h2v4z\"/>\n",
              "    </g>\n",
              "</svg>\n",
              "  </button>\n",
              "\n",
              "<style>\n",
              "  .colab-df-quickchart {\n",
              "      --bg-color: #E8F0FE;\n",
              "      --fill-color: #1967D2;\n",
              "      --hover-bg-color: #E2EBFA;\n",
              "      --hover-fill-color: #174EA6;\n",
              "      --disabled-fill-color: #AAA;\n",
              "      --disabled-bg-color: #DDD;\n",
              "  }\n",
              "\n",
              "  [theme=dark] .colab-df-quickchart {\n",
              "      --bg-color: #3B4455;\n",
              "      --fill-color: #D2E3FC;\n",
              "      --hover-bg-color: #434B5C;\n",
              "      --hover-fill-color: #FFFFFF;\n",
              "      --disabled-bg-color: #3B4455;\n",
              "      --disabled-fill-color: #666;\n",
              "  }\n",
              "\n",
              "  .colab-df-quickchart {\n",
              "    background-color: var(--bg-color);\n",
              "    border: none;\n",
              "    border-radius: 50%;\n",
              "    cursor: pointer;\n",
              "    display: none;\n",
              "    fill: var(--fill-color);\n",
              "    height: 32px;\n",
              "    padding: 0;\n",
              "    width: 32px;\n",
              "  }\n",
              "\n",
              "  .colab-df-quickchart:hover {\n",
              "    background-color: var(--hover-bg-color);\n",
              "    box-shadow: 0 1px 2px rgba(60, 64, 67, 0.3), 0 1px 3px 1px rgba(60, 64, 67, 0.15);\n",
              "    fill: var(--button-hover-fill-color);\n",
              "  }\n",
              "\n",
              "  .colab-df-quickchart-complete:disabled,\n",
              "  .colab-df-quickchart-complete:disabled:hover {\n",
              "    background-color: var(--disabled-bg-color);\n",
              "    fill: var(--disabled-fill-color);\n",
              "    box-shadow: none;\n",
              "  }\n",
              "\n",
              "  .colab-df-spinner {\n",
              "    border: 2px solid var(--fill-color);\n",
              "    border-color: transparent;\n",
              "    border-bottom-color: var(--fill-color);\n",
              "    animation:\n",
              "      spin 1s steps(1) infinite;\n",
              "  }\n",
              "\n",
              "  @keyframes spin {\n",
              "    0% {\n",
              "      border-color: transparent;\n",
              "      border-bottom-color: var(--fill-color);\n",
              "      border-left-color: var(--fill-color);\n",
              "    }\n",
              "    20% {\n",
              "      border-color: transparent;\n",
              "      border-left-color: var(--fill-color);\n",
              "      border-top-color: var(--fill-color);\n",
              "    }\n",
              "    30% {\n",
              "      border-color: transparent;\n",
              "      border-left-color: var(--fill-color);\n",
              "      border-top-color: var(--fill-color);\n",
              "      border-right-color: var(--fill-color);\n",
              "    }\n",
              "    40% {\n",
              "      border-color: transparent;\n",
              "      border-right-color: var(--fill-color);\n",
              "      border-top-color: var(--fill-color);\n",
              "    }\n",
              "    60% {\n",
              "      border-color: transparent;\n",
              "      border-right-color: var(--fill-color);\n",
              "    }\n",
              "    80% {\n",
              "      border-color: transparent;\n",
              "      border-right-color: var(--fill-color);\n",
              "      border-bottom-color: var(--fill-color);\n",
              "    }\n",
              "    90% {\n",
              "      border-color: transparent;\n",
              "      border-bottom-color: var(--fill-color);\n",
              "    }\n",
              "  }\n",
              "</style>\n",
              "\n",
              "  <script>\n",
              "    async function quickchart(key) {\n",
              "      const quickchartButtonEl =\n",
              "        document.querySelector('#' + key + ' button');\n",
              "      quickchartButtonEl.disabled = true;  // To prevent multiple clicks.\n",
              "      quickchartButtonEl.classList.add('colab-df-spinner');\n",
              "      try {\n",
              "        const charts = await google.colab.kernel.invokeFunction(\n",
              "            'suggestCharts', [key], {});\n",
              "      } catch (error) {\n",
              "        console.error('Error during call to suggestCharts:', error);\n",
              "      }\n",
              "      quickchartButtonEl.classList.remove('colab-df-spinner');\n",
              "      quickchartButtonEl.classList.add('colab-df-quickchart-complete');\n",
              "    }\n",
              "    (() => {\n",
              "      let quickchartButtonEl =\n",
              "        document.querySelector('#df-440a0290-6047-4ada-8948-e32030788aec button');\n",
              "      quickchartButtonEl.style.display =\n",
              "        google.colab.kernel.accessAllowed ? 'block' : 'none';\n",
              "    })();\n",
              "  </script>\n",
              "</div>\n",
              "\n",
              "  <div id=\"id_c30696de-8253-4bce-ae0d-94cf673363ef\">\n",
              "    <style>\n",
              "      .colab-df-generate {\n",
              "        background-color: #E8F0FE;\n",
              "        border: none;\n",
              "        border-radius: 50%;\n",
              "        cursor: pointer;\n",
              "        display: none;\n",
              "        fill: #1967D2;\n",
              "        height: 32px;\n",
              "        padding: 0 0 0 0;\n",
              "        width: 32px;\n",
              "      }\n",
              "\n",
              "      .colab-df-generate:hover {\n",
              "        background-color: #E2EBFA;\n",
              "        box-shadow: 0px 1px 2px rgba(60, 64, 67, 0.3), 0px 1px 3px 1px rgba(60, 64, 67, 0.15);\n",
              "        fill: #174EA6;\n",
              "      }\n",
              "\n",
              "      [theme=dark] .colab-df-generate {\n",
              "        background-color: #3B4455;\n",
              "        fill: #D2E3FC;\n",
              "      }\n",
              "\n",
              "      [theme=dark] .colab-df-generate:hover {\n",
              "        background-color: #434B5C;\n",
              "        box-shadow: 0px 1px 3px 1px rgba(0, 0, 0, 0.15);\n",
              "        filter: drop-shadow(0px 1px 2px rgba(0, 0, 0, 0.3));\n",
              "        fill: #FFFFFF;\n",
              "      }\n",
              "    </style>\n",
              "    <button class=\"colab-df-generate\" onclick=\"generateWithVariable('df')\"\n",
              "            title=\"Generate code using this dataframe.\"\n",
              "            style=\"display:none;\">\n",
              "\n",
              "  <svg xmlns=\"http://www.w3.org/2000/svg\" height=\"24px\"viewBox=\"0 0 24 24\"\n",
              "       width=\"24px\">\n",
              "    <path d=\"M7,19H8.4L18.45,9,17,7.55,7,17.6ZM5,21V16.75L18.45,3.32a2,2,0,0,1,2.83,0l1.4,1.43a1.91,1.91,0,0,1,.58,1.4,1.91,1.91,0,0,1-.58,1.4L9.25,21ZM18.45,9,17,7.55Zm-12,3A5.31,5.31,0,0,0,4.9,8.1,5.31,5.31,0,0,0,1,6.5,5.31,5.31,0,0,0,4.9,4.9,5.31,5.31,0,0,0,6.5,1,5.31,5.31,0,0,0,8.1,4.9,5.31,5.31,0,0,0,12,6.5,5.46,5.46,0,0,0,6.5,12Z\"/>\n",
              "  </svg>\n",
              "    </button>\n",
              "    <script>\n",
              "      (() => {\n",
              "      const buttonEl =\n",
              "        document.querySelector('#id_c30696de-8253-4bce-ae0d-94cf673363ef button.colab-df-generate');\n",
              "      buttonEl.style.display =\n",
              "        google.colab.kernel.accessAllowed ? 'block' : 'none';\n",
              "\n",
              "      buttonEl.onclick = () => {\n",
              "        google.colab.notebook.generateWithVariable('df');\n",
              "      }\n",
              "      })();\n",
              "    </script>\n",
              "  </div>\n",
              "\n",
              "    </div>\n",
              "  </div>\n"
            ],
            "application/vnd.google.colaboratory.intrinsic+json": {
              "type": "dataframe",
              "variable_name": "df",
              "summary": "{\n  \"name\": \"df\",\n  \"rows\": 20,\n  \"fields\": [\n    {\n      \"column\": \"trial_id\",\n      \"properties\": {\n        \"dtype\": \"string\",\n        \"num_unique_values\": 20,\n        \"samples\": [\n          \"16\",\n          \"09\",\n          \"05\"\n        ],\n        \"semantic_type\": \"\",\n        \"description\": \"\"\n      }\n    },\n    {\n      \"column\": \"conv_1_filters\",\n      \"properties\": {\n        \"dtype\": \"number\",\n        \"std\": 65,\n        \"min\": 32,\n        \"max\": 256,\n        \"num_unique_values\": 8,\n        \"samples\": [\n          96,\n          224,\n          160\n        ],\n        \"semantic_type\": \"\",\n        \"description\": \"\"\n      }\n    },\n    {\n      \"column\": \"conv_2_filters\",\n      \"properties\": {\n        \"dtype\": \"number\",\n        \"std\": 68,\n        \"min\": 32,\n        \"max\": 256,\n        \"num_unique_values\": 8,\n        \"samples\": [\n          160,\n          64,\n          128\n        ],\n        \"semantic_type\": \"\",\n        \"description\": \"\"\n      }\n    },\n    {\n      \"column\": \"conv_3_filters\",\n      \"properties\": {\n        \"dtype\": \"number\",\n        \"std\": 65,\n        \"min\": 32,\n        \"max\": 256,\n        \"num_unique_values\": 8,\n        \"samples\": [\n          96,\n          224,\n          256\n        ],\n        \"semantic_type\": \"\",\n        \"description\": \"\"\n      }\n    },\n    {\n      \"column\": \"dense_units\",\n      \"properties\": {\n        \"dtype\": \"number\",\n        \"std\": 79,\n        \"min\": 32,\n        \"max\": 256,\n        \"num_unique_values\": 7,\n        \"samples\": [\n          96,\n          64,\n          192\n        ],\n        \"semantic_type\": \"\",\n        \"description\": \"\"\n      }\n    },\n    {\n      \"column\": \"dense_units_2\",\n      \"properties\": {\n        \"dtype\": \"number\",\n        \"std\": 67,\n        \"min\": 32,\n        \"max\": 256,\n        \"num_unique_values\": 8,\n        \"samples\": [\n          160,\n          224,\n          64\n        ],\n        \"semantic_type\": \"\",\n        \"description\": \"\"\n      }\n    },\n    {\n      \"column\": \"kernel_size\",\n      \"properties\": {\n        \"dtype\": \"number\",\n        \"std\": 1,\n        \"min\": 3,\n        \"max\": 5,\n        \"num_unique_values\": 2,\n        \"samples\": [\n          5,\n          3\n        ],\n        \"semantic_type\": \"\",\n        \"description\": \"\"\n      }\n    },\n    {\n      \"column\": \"learning_rate\",\n      \"properties\": {\n        \"dtype\": \"number\",\n        \"std\": 0.004721671760142409,\n        \"min\": 0.0001,\n        \"max\": 0.01,\n        \"num_unique_values\": 3,\n        \"samples\": [\n          0.0001,\n          0.001\n        ],\n        \"semantic_type\": \"\",\n        \"description\": \"\"\n      }\n    },\n    {\n      \"column\": \"val_accuracy\",\n      \"properties\": {\n        \"dtype\": \"number\",\n        \"std\": 0.2941293312534151,\n        \"min\": 0.1808842420578003,\n        \"max\": 0.8345257639884949,\n        \"num_unique_values\": 15,\n        \"samples\": [\n          0.8071913123130798,\n          0.7960007190704346\n        ],\n        \"semantic_type\": \"\",\n        \"description\": \"\"\n      }\n    },\n    {\n      \"column\": \"val_loss\",\n      \"properties\": {\n        \"dtype\": \"number\",\n        \"std\": 0.5450092608567263,\n        \"min\": 0.49321767687797546,\n        \"max\": 1.7922183275222778,\n        \"num_unique_values\": 20,\n        \"samples\": [\n          0.6016747951507568,\n          1.7922183275222778\n        ],\n        \"semantic_type\": \"\",\n        \"description\": \"\"\n      }\n    }\n  ]\n}"
            }
          },
          "metadata": {}
        }
      ]
    },
    {
      "cell_type": "code",
      "source": [
        "# Effect of Convolutional Filters on Accuracy\n",
        "plt.figure(figsize=(10, 5))\n",
        "plt.scatter(df['conv_1_filters'], df['val_accuracy'], label='Conv1 Filters', color='red')\n",
        "plt.scatter(df['conv_2_filters'], df['val_accuracy'], label='Conv2 Filters', color='blue')\n",
        "plt.scatter(df['conv_3_filters'], df['val_accuracy'], label='Conv3 Filters', color='green')\n",
        "plt.xlabel(\"Number of Filters\")\n",
        "plt.ylabel(\"Validation Accuracy\")\n",
        "plt.title(\"Impact of Filters on Accuracy\")\n",
        "plt.legend()\n",
        "plt.show()\n",
        "\n",
        "# Effect of Learning Rate on Accuracy\n",
        "plt.figure(figsize=(10, 5))\n",
        "plt.scatter(df['learning_rate'], df['val_accuracy'], color='purple')\n",
        "plt.xlabel(\"Learning Rate\")\n",
        "plt.ylabel(\"Validation Accuracy\")\n",
        "plt.xscale('log')  # Log scale for learning rate\n",
        "plt.title(\"Effect of Learning Rate on Accuracy\")\n",
        "plt.show()"
      ],
      "metadata": {
        "colab": {
          "base_uri": "https://localhost:8080/",
          "height": 962
        },
        "id": "ZKcx-usWYmyF",
        "outputId": "b45d342e-fe5a-4f28-dc75-518fae7b529b"
      },
      "execution_count": 92,
      "outputs": [
        {
          "output_type": "display_data",
          "data": {
            "text/plain": [
              "<Figure size 1000x500 with 1 Axes>"
            ],
            "image/png": "[encoded data removed]"
          },
          "metadata": {}
        },
        {
          "output_type": "display_data",
          "data": {
            "text/plain": [
              "<Figure size 1000x500 with 1 Axes>"
            ],
            "image/png": "[encoded data removed]"
          },
          "metadata": {}
        }
      ]
    },
    {
      "cell_type": "code",
      "source": [
        "def model_builder_2(hp):\n",
        "    model = keras.Sequential()\n",
        "\n",
        "    # First Conv Layer\n",
        "    model.add(layers.Conv2D(\n",
        "        filters=hp.Int('conv_1_filters', min_value=32, max_value=256, step=32),\n",
        "        kernel_size=hp.Choice('conv_1_kernel', values=[3, 5]),\n",
        "        activation=hp.Choice('conv_1_activation', values=['relu', 'tanh', 'selu'])\n",
        "    ))\n",
        "    model.add(layers.MaxPooling2D(pool_size=(2, 2)))\n",
        "\n",
        "    # Second Conv Layer\n",
        "    model.add(layers.Conv2D(\n",
        "        filters=hp.Int('conv_2_filters', min_value=32, max_value=256, step=32),\n",
        "        kernel_size=hp.Choice('conv_2_kernel', values=[3, 5]),\n",
        "        activation=hp.Choice('conv_2_activation', values=['relu', 'tanh', 'selu'])\n",
        "    ))\n",
        "    model.add(layers.MaxPooling2D(pool_size=(2, 2)))\n",
        "\n",
        "    # Third Conv Layer\n",
        "    model.add(layers.Conv2D(\n",
        "        filters=hp.Int('conv_3_filters', min_value=32, max_value=256, step=32),\n",
        "        kernel_size=hp.Choice('conv_3_kernel', values=[3, 5]),\n",
        "        activation=hp.Choice('conv_3_activation', values=['relu', 'tanh', 'selu'])\n",
        "    ))\n",
        "\n",
        "    model.add(layers.Flatten())\n",
        "\n",
        "    # Fully Connected Dense Layer\n",
        "    model.add(layers.Dense(\n",
        "        units=hp.Int('dense_units', min_value=32, max_value=256, step=32),\n",
        "        activation=hp.Choice('dense_activation', values=['relu', 'tanh', 'selu'])\n",
        "    ))\n",
        "    model.add(layers.Dense(\n",
        "        units=hp.Int('dense_units_2', min_value=32, max_value=256, step=32),\n",
        "        activation=hp.Choice('dense_activation_2', values=['relu', 'tanh', 'selu'])\n",
        "    ))\n",
        "\n",
        "    # Output Layer\n",
        "    model.add(layers.Dense(6, activation='softmax'))\n",
        "\n",
        "    # Compile the model\n",
        "    model.compile(\n",
        "        optimizer=keras.optimizers.Adam(\n",
        "            hp.Choice('learning_rate', values=[1e-2, 1e-3, 1e-4])\n",
        "        ),\n",
        "        loss='categorical_crossentropy',\n",
        "        metrics=['accuracy']\n",
        "    )\n",
        "\n",
        "    return model"
      ],
      "metadata": {
        "id": "AwsHAb9mAbLB"
      },
      "execution_count": 5,
      "outputs": []
    },
    {
      "cell_type": "code",
      "source": [
        "# Initialize Hyperband tuner\n",
        "tuner = kt.Hyperband(\n",
        "    model_builder_2,\n",
        "    objective='val_accuracy',\n",
        "    max_epochs=20,  # Max epochs to train the best models\n",
        "    factor=3,  # Reduction factor\n",
        "    directory='hyperband_results',\n",
        "    project_name='cnn_hyperband_tuning'\n",
        ")\n",
        "\n",
        "# Start the search\n",
        "tuner.search(X_train, y_train, epochs=10, validation_data=(X_val, y_val), batch_size=16)\n",
        "\n",
        "# Get the best hyperparameters\n",
        "best_hps = tuner.get_best_hyperparameters(num_trials=1)[0]\n",
        "\n",
        "# Print the best parameters found\n",
        "print(f\"\"\"\n",
        "Best Hyperparameters:\n",
        "- Conv1 Filters: {best_hps.get('conv_1_filters')}\n",
        "- Conv1 Kernel: {best_hps.get('conv_1_kernel')}\n",
        "- Conv1 Activation: {best_hps.get('conv_1_activation')}\n",
        "- Conv2 Filters: {best_hps.get('conv_2_filters')}\n",
        "- Conv2 Kernel: {best_hps.get('conv_2_kernel')}\n",
        "- Conv2 Activation: {best_hps.get('conv_2_activation')}\n",
        "- Conv3 Filters: {best_hps.get('conv_3_filters')}\n",
        "- Conv3 Kernel: {best_hps.get('conv_3_kernel')}\n",
        "- Conv3 Activation: {best_hps.get('conv_3_activation')}\n",
        "- Dense Units: {best_hps.get('dense_units')}\n",
        "- Dense Activation: {best_hps.get('dense_activation')}\n",
        "- Dense Units 2: {best_hps.get('dense_units_2')}\n",
        "- Dense Activation 2: {best_hps.get('dense_activation_2')}\n",
        "- Learning Rate: {best_hps.get('learning_rate')}\n",
        "\"\"\")"
      ],
      "metadata": {
        "colab": {
          "base_uri": "https://localhost:8080/"
        },
        "id": "AspFfXKFBSLB",
        "outputId": "6dd0605c-73ca-4c3a-ee0d-1e64e52376ad"
      },
      "execution_count": 8,
      "outputs": [
        {
          "output_type": "stream",
          "name": "stdout",
          "text": [
            "Trial 30 Complete [00h 06m 46s]\n",
            "val_accuracy: 0.8203999400138855\n",
            "\n",
            "Best val_accuracy So Far: 0.8332415819168091\n",
            "Total elapsed time: 01h 08m 00s\n",
            "\n",
            "Best Hyperparameters:\n",
            "- Conv1 Filters: 64\n",
            "- Conv1 Kernel: 3\n",
            "- Conv1 Activation: selu\n",
            "- Conv2 Filters: 256\n",
            "- Conv2 Kernel: 3\n",
            "- Conv2 Activation: relu\n",
            "- Conv3 Filters: 96\n",
            "- Conv3 Kernel: 5\n",
            "- Conv3 Activation: relu\n",
            "- Dense Units: 224\n",
            "- Dense Activation: tanh\n",
            "- Dense Units 2: 32\n",
            "- Dense Activation 2: selu\n",
            "- Learning Rate: 0.0001\n",
            "\n"
          ]
        }
      ]
    },
    {
      "cell_type": "code",
      "source": [
        "# Build and train the best model\n",
        "hypertuned_model = tuner.hypermodel.build(best_hps)\n",
        "history = hypertuned_model.fit(X_train, y_train, epochs=20, validation_data=(X_val, y_val))\n",
        "\n",
        "# Evaluate on test data\n",
        "test_loss, test_acc = hypertuned_model.evaluate(X_test, y_test)\n",
        "print(f\"Test Accuracy: {test_acc:.4f}\\nTest Loss: {test_loss:.4f}\\n\")"
      ],
      "metadata": {
        "colab": {
          "base_uri": "https://localhost:8080/"
        },
        "id": "ZBm_D9SAL32b",
        "outputId": "569691fc-95b6-4d63-e636-0f502bdcfd22"
      },
      "execution_count": 9,
      "outputs": [
        {
          "output_type": "stream",
          "name": "stdout",
          "text": [
            "Epoch 1/20\n",
            "\u001b[1m682/682\u001b[0m \u001b[32m━━━━━━━━━━━━━━━━━━━━\u001b[0m\u001b[37m\u001b[0m \u001b[1m21s\u001b[0m 21ms/step - accuracy: 0.5663 - loss: 1.1382 - val_accuracy: 0.7338 - val_loss: 0.7259\n",
            "Epoch 2/20\n",
            "\u001b[1m682/682\u001b[0m \u001b[32m━━━━━━━━━━━━━━━━━━━━\u001b[0m\u001b[37m\u001b[0m \u001b[1m10s\u001b[0m 14ms/step - accuracy: 0.7490 - loss: 0.6787 - val_accuracy: 0.7542 - val_loss: 0.6698\n",
            "Epoch 3/20\n",
            "\u001b[1m682/682\u001b[0m \u001b[32m━━━━━━━━━━━━━━━━━━━━\u001b[0m\u001b[37m\u001b[0m \u001b[1m10s\u001b[0m 14ms/step - accuracy: 0.8243 - loss: 0.4871 - val_accuracy: 0.7722 - val_loss: 0.6168\n",
            "Epoch 4/20\n",
            "\u001b[1m682/682\u001b[0m \u001b[32m━━━━━━━━━━━━━━━━━━━━\u001b[0m\u001b[37m\u001b[0m \u001b[1m10s\u001b[0m 14ms/step - accuracy: 0.8635 - loss: 0.3817 - val_accuracy: 0.8019 - val_loss: 0.5496\n",
            "Epoch 5/20\n",
            "\u001b[1m682/682\u001b[0m \u001b[32m━━━━━━━━━━━━━━━━━━━━\u001b[0m\u001b[37m\u001b[0m \u001b[1m10s\u001b[0m 14ms/step - accuracy: 0.9070 - loss: 0.2633 - val_accuracy: 0.8232 - val_loss: 0.5406\n",
            "Epoch 6/20\n",
            "\u001b[1m682/682\u001b[0m \u001b[32m━━━━━━━━━━━━━━━━━━━━\u001b[0m\u001b[37m\u001b[0m \u001b[1m10s\u001b[0m 14ms/step - accuracy: 0.9436 - loss: 0.1690 - val_accuracy: 0.8114 - val_loss: 0.5878\n",
            "Epoch 7/20\n",
            "\u001b[1m682/682\u001b[0m \u001b[32m━━━━━━━━━━━━━━━━━━━━\u001b[0m\u001b[37m\u001b[0m \u001b[1m10s\u001b[0m 14ms/step - accuracy: 0.9734 - loss: 0.0916 - val_accuracy: 0.8043 - val_loss: 0.6886\n",
            "Epoch 8/20\n",
            "\u001b[1m682/682\u001b[0m \u001b[32m━━━━━━━━━━━━━━━━━━━━\u001b[0m\u001b[37m\u001b[0m \u001b[1m10s\u001b[0m 14ms/step - accuracy: 0.9853 - loss: 0.0561 - val_accuracy: 0.8142 - val_loss: 0.7126\n",
            "Epoch 9/20\n",
            "\u001b[1m682/682\u001b[0m \u001b[32m━━━━━━━━━━━━━━━━━━━━\u001b[0m\u001b[37m\u001b[0m \u001b[1m10s\u001b[0m 14ms/step - accuracy: 0.9928 - loss: 0.0304 - val_accuracy: 0.8092 - val_loss: 0.7625\n",
            "Epoch 10/20\n",
            "\u001b[1m682/682\u001b[0m \u001b[32m━━━━━━━━━━━━━━━━━━━━\u001b[0m\u001b[37m\u001b[0m \u001b[1m10s\u001b[0m 14ms/step - accuracy: 0.9955 - loss: 0.0215 - val_accuracy: 0.8010 - val_loss: 0.8591\n",
            "Epoch 11/20\n",
            "\u001b[1m682/682\u001b[0m \u001b[32m━━━━━━━━━━━━━━━━━━━━\u001b[0m\u001b[37m\u001b[0m \u001b[1m10s\u001b[0m 14ms/step - accuracy: 0.9931 - loss: 0.0244 - val_accuracy: 0.8028 - val_loss: 0.8655\n",
            "Epoch 12/20\n",
            "\u001b[1m682/682\u001b[0m \u001b[32m━━━━━━━━━━━━━━━━━━━━\u001b[0m\u001b[37m\u001b[0m \u001b[1m10s\u001b[0m 14ms/step - accuracy: 0.9949 - loss: 0.0182 - val_accuracy: 0.7786 - val_loss: 1.0360\n",
            "Epoch 13/20\n",
            "\u001b[1m682/682\u001b[0m \u001b[32m━━━━━━━━━━━━━━━━━━━━\u001b[0m\u001b[37m\u001b[0m \u001b[1m10s\u001b[0m 14ms/step - accuracy: 0.9901 - loss: 0.0322 - val_accuracy: 0.8010 - val_loss: 0.9411\n",
            "Epoch 14/20\n",
            "\u001b[1m682/682\u001b[0m \u001b[32m━━━━━━━━━━━━━━━━━━━━\u001b[0m\u001b[37m\u001b[0m \u001b[1m10s\u001b[0m 14ms/step - accuracy: 0.9993 - loss: 0.0044 - val_accuracy: 0.7868 - val_loss: 1.0728\n",
            "Epoch 15/20\n",
            "\u001b[1m682/682\u001b[0m \u001b[32m━━━━━━━━━━━━━━━━━━━━\u001b[0m\u001b[37m\u001b[0m \u001b[1m10s\u001b[0m 14ms/step - accuracy: 0.9941 - loss: 0.0188 - val_accuracy: 0.7982 - val_loss: 1.0379\n",
            "Epoch 16/20\n",
            "\u001b[1m682/682\u001b[0m \u001b[32m━━━━━━━━━━━━━━━━━━━━\u001b[0m\u001b[37m\u001b[0m \u001b[1m10s\u001b[0m 14ms/step - accuracy: 0.9975 - loss: 0.0094 - val_accuracy: 0.8015 - val_loss: 0.9941\n",
            "Epoch 17/20\n",
            "\u001b[1m682/682\u001b[0m \u001b[32m━━━━━━━━━━━━━━━━━━━━\u001b[0m\u001b[37m\u001b[0m \u001b[1m10s\u001b[0m 14ms/step - accuracy: 0.9985 - loss: 0.0053 - val_accuracy: 0.7755 - val_loss: 1.0955\n",
            "Epoch 18/20\n",
            "\u001b[1m682/682\u001b[0m \u001b[32m━━━━━━━━━━━━━━━━━━━━\u001b[0m\u001b[37m\u001b[0m \u001b[1m10s\u001b[0m 14ms/step - accuracy: 0.9938 - loss: 0.0185 - val_accuracy: 0.8092 - val_loss: 1.0193\n",
            "Epoch 19/20\n",
            "\u001b[1m682/682\u001b[0m \u001b[32m━━━━━━━━━━━━━━━━━━━━\u001b[0m\u001b[37m\u001b[0m \u001b[1m10s\u001b[0m 14ms/step - accuracy: 0.9980 - loss: 0.0051 - val_accuracy: 0.7932 - val_loss: 1.1537\n",
            "Epoch 20/20\n",
            "\u001b[1m682/682\u001b[0m \u001b[32m━━━━━━━━━━━━━━━━━━━━\u001b[0m\u001b[37m\u001b[0m \u001b[1m10s\u001b[0m 14ms/step - accuracy: 0.9970 - loss: 0.0086 - val_accuracy: 0.8118 - val_loss: 1.0578\n",
            "\u001b[1m107/107\u001b[0m \u001b[32m━━━━━━━━━━━━━━━━━━━━\u001b[0m\u001b[37m\u001b[0m \u001b[1m2s\u001b[0m 17ms/step - accuracy: 0.8055 - loss: 1.2252\n",
            "Test Accuracy: 0.8072\n",
            "Test Loss: 1.1609\n",
            "\n"
          ]
        }
      ]
    }
  ],
  "metadata": {
    "kernelspec": {
      "display_name": "Python 3",
      "name": "python3"
    },
    "language_info": {
      "codemirror_mode": {
        "name": "ipython",
        "version": 3
      },
      "file_extension": ".py",
      "mimetype": "text/x-python",
      "name": "python",
      "nbconvert_exporter": "python",
      "pygments_lexer": "ipython3",
      "version": "3.10.16"
    },
    "colab": {
      "provenance": [],
      "machine_shape": "hm",
      "gpuType": "A100"
    },
    "accelerator": "GPU"
  },
  "nbformat": 4,
  "nbformat_minor": 0
}