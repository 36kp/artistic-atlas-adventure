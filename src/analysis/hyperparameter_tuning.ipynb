{
 "cells": [
  {
   "cell_type": "code",
   "execution_count": 3,
   "metadata": {},
   "outputs": [],
   "source": [
    "import keras\n",
    "from keras import layers\n",
    "import keras_tuner as kt\n",
    "import pickle\n",
    "from sklearn.model_selection import train_test_split"
   ]
  },
  {
   "cell_type": "code",
   "execution_count": 5,
   "metadata": {},
   "outputs": [],
   "source": [
    "def model_builder(hp):\n",
    "    model = keras.Sequential()\n",
    "    \n",
    "    # First Conv Layer\n",
    "    model.add(layers.Conv2D(\n",
    "        filters=hp.Int('conv_1_filters', min_value=32, max_value=128, step=32),\n",
    "        kernel_size=hp.Choice('conv_1_kernel', values=[3, 5]),\n",
    "        activation='relu'\n",
    "    ))\n",
    "    model.add(layers.MaxPooling2D(pool_size=(2, 2)))\n",
    "\n",
    "    # Second Conv Layer\n",
    "    model.add(layers.Conv2D(\n",
    "        filters=hp.Int('conv_2_filters', min_value=32, max_value=128, step=32),\n",
    "        kernel_size=hp.Choice('conv_2_kernel', values=[3, 5]),\n",
    "        activation='relu'\n",
    "    ))\n",
    "    model.add(layers.MaxPooling2D(pool_size=(2, 2)))\n",
    "\n",
    "    # Third Conv Layer\n",
    "    model.add(layers.Conv2D(\n",
    "        filters=hp.Int('conv_3_filters', min_value=32, max_value=128, step=32),\n",
    "        kernel_size=hp.Choice('conv_3_kernel', values=[3, 5]),\n",
    "        activation='relu'\n",
    "    ))\n",
    "\n",
    "    model.add(layers.Flatten())\n",
    "\n",
    "    # Fully Connected Dense Layer\n",
    "    model.add(layers.Dense(\n",
    "        units=hp.Int('dense_units', min_value=32, max_value=128, step=32),\n",
    "        activation='relu'\n",
    "    ))\n",
    "\n",
    "    # Output Layer\n",
    "    model.add(layers.Dense(6, activation='softmax'))\n",
    "\n",
    "    # Compile the model\n",
    "    model.compile(\n",
    "        optimizer=keras.optimizers.Adam(\n",
    "            hp.Choice('learning_rate', values=[1e-2, 1e-3, 1e-4])\n",
    "        ),\n",
    "        loss='categorical_crossentropy',\n",
    "        metrics=['accuracy']\n",
    "    )\n",
    "\n",
    "    return model"
   ]
  },
  {
   "cell_type": "code",
   "execution_count": 4,
   "metadata": {},
   "outputs": [],
   "source": [
    "# Load already augmented data from saved pickle files\n",
    "X_train_aug = pickle.load(open(\"../../pickles/X_train_aug.pkl\", \"rb\"))\n",
    "y_train_aug = pickle.load(open(\"../../pickles/y_train_aug.pkl\", \"rb\"))\n",
    "X_test = pickle.load(open(\"../../pickles/X_test.pkl\", \"rb\"))\n",
    "y_test = pickle.load(open(\"../../pickles/y_test.pkl\", \"rb\"))\n",
    "\n",
    "# further split the training data into training and validation\n",
    "X_train, X_val, y_train, y_val = train_test_split(X_train_aug, y_train_aug, test_size=0.2, random_state=42)"
   ]
  },
  {
   "cell_type": "code",
   "execution_count": 6,
   "metadata": {},
   "outputs": [
    {
     "name": "stdout",
     "output_type": "stream",
     "text": [
      "Trial 10 Complete [00h 45m 34s]\n",
      "val_accuracy: 0.8128783702850342\n",
      "\n",
      "Best val_accuracy So Far: 0.8130618333816528\n",
      "Total elapsed time: 09h 10m 56s\n",
      "Epoch 1/20\n",
      "\u001b[1m682/682\u001b[0m \u001b[32m━━━━━━━━━━━━━━━━━━━━\u001b[0m\u001b[37m\u001b[0m \u001b[1m272s\u001b[0m 398ms/step - accuracy: 0.5659 - loss: 1.1200 - val_accuracy: 0.7118 - val_loss: 0.7844\n",
      "Epoch 2/20\n",
      "\u001b[1m682/682\u001b[0m \u001b[32m━━━━━━━━━━━━━━━━━━━━\u001b[0m\u001b[37m\u001b[0m \u001b[1m259s\u001b[0m 379ms/step - accuracy: 0.7345 - loss: 0.7075 - val_accuracy: 0.7311 - val_loss: 0.7374\n",
      "Epoch 3/20\n",
      "\u001b[1m682/682\u001b[0m \u001b[32m━━━━━━━━━━━━━━━━━━━━\u001b[0m\u001b[37m\u001b[0m \u001b[1m258s\u001b[0m 378ms/step - accuracy: 0.7956 - loss: 0.5591 - val_accuracy: 0.7736 - val_loss: 0.6216\n",
      "Epoch 4/20\n",
      "\u001b[1m682/682\u001b[0m \u001b[32m━━━━━━━━━━━━━━━━━━━━\u001b[0m\u001b[37m\u001b[0m \u001b[1m259s\u001b[0m 380ms/step - accuracy: 0.8340 - loss: 0.4580 - val_accuracy: 0.7850 - val_loss: 0.6010\n",
      "Epoch 5/20\n",
      "\u001b[1m682/682\u001b[0m \u001b[32m━━━━━━━━━━━━━━━━━━━━\u001b[0m\u001b[37m\u001b[0m \u001b[1m257s\u001b[0m 377ms/step - accuracy: 0.8628 - loss: 0.3821 - val_accuracy: 0.7894 - val_loss: 0.6089\n",
      "Epoch 6/20\n",
      "\u001b[1m682/682\u001b[0m \u001b[32m━━━━━━━━━━━━━━━━━━━━\u001b[0m\u001b[37m\u001b[0m \u001b[1m257s\u001b[0m 377ms/step - accuracy: 0.8949 - loss: 0.3037 - val_accuracy: 0.7921 - val_loss: 0.6056\n",
      "Epoch 7/20\n",
      "\u001b[1m682/682\u001b[0m \u001b[32m━━━━━━━━━━━━━━━━━━━━\u001b[0m\u001b[37m\u001b[0m \u001b[1m258s\u001b[0m 378ms/step - accuracy: 0.9169 - loss: 0.2423 - val_accuracy: 0.7795 - val_loss: 0.6580\n",
      "Epoch 8/20\n",
      "\u001b[1m682/682\u001b[0m \u001b[32m━━━━━━━━━━━━━━━━━━━━\u001b[0m\u001b[37m\u001b[0m \u001b[1m258s\u001b[0m 378ms/step - accuracy: 0.9406 - loss: 0.1864 - val_accuracy: 0.7802 - val_loss: 0.7118\n",
      "Epoch 9/20\n",
      "\u001b[1m682/682\u001b[0m \u001b[32m━━━━━━━━━━━━━━━━━━━━\u001b[0m\u001b[37m\u001b[0m \u001b[1m262s\u001b[0m 384ms/step - accuracy: 0.9551 - loss: 0.1455 - val_accuracy: 0.7984 - val_loss: 0.6865\n",
      "Epoch 10/20\n",
      "\u001b[1m682/682\u001b[0m \u001b[32m━━━━━━━━━━━━━━━━━━━━\u001b[0m\u001b[37m\u001b[0m \u001b[1m257s\u001b[0m 378ms/step - accuracy: 0.9674 - loss: 0.1080 - val_accuracy: 0.8024 - val_loss: 0.7202\n",
      "Epoch 11/20\n",
      "\u001b[1m682/682\u001b[0m \u001b[32m━━━━━━━━━━━━━━━━━━━━\u001b[0m\u001b[37m\u001b[0m \u001b[1m258s\u001b[0m 378ms/step - accuracy: 0.9816 - loss: 0.0705 - val_accuracy: 0.7984 - val_loss: 0.7552\n",
      "Epoch 12/20\n",
      "\u001b[1m682/682\u001b[0m \u001b[32m━━━━━━━━━━━━━━━━━━━━\u001b[0m\u001b[37m\u001b[0m \u001b[1m258s\u001b[0m 378ms/step - accuracy: 0.9843 - loss: 0.0593 - val_accuracy: 0.7795 - val_loss: 0.9224\n",
      "Epoch 13/20\n",
      "\u001b[1m682/682\u001b[0m \u001b[32m━━━━━━━━━━━━━━━━━━━━\u001b[0m\u001b[37m\u001b[0m \u001b[1m257s\u001b[0m 377ms/step - accuracy: 0.9853 - loss: 0.0549 - val_accuracy: 0.7896 - val_loss: 0.9164\n",
      "Epoch 14/20\n",
      "\u001b[1m682/682\u001b[0m \u001b[32m━━━━━━━━━━━━━━━━━━━━\u001b[0m\u001b[37m\u001b[0m \u001b[1m259s\u001b[0m 380ms/step - accuracy: 0.9871 - loss: 0.0478 - val_accuracy: 0.7870 - val_loss: 0.9773\n",
      "Epoch 15/20\n",
      "\u001b[1m682/682\u001b[0m \u001b[32m━━━━━━━━━━━━━━━━━━━━\u001b[0m\u001b[37m\u001b[0m \u001b[1m257s\u001b[0m 377ms/step - accuracy: 0.9883 - loss: 0.0444 - val_accuracy: 0.7973 - val_loss: 0.9272\n",
      "Epoch 16/20\n",
      "\u001b[1m682/682\u001b[0m \u001b[32m━━━━━━━━━━━━━━━━━━━━\u001b[0m\u001b[37m\u001b[0m \u001b[1m262s\u001b[0m 385ms/step - accuracy: 0.9925 - loss: 0.0298 - val_accuracy: 0.7966 - val_loss: 1.0323\n",
      "Epoch 17/20\n",
      "\u001b[1m682/682\u001b[0m \u001b[32m━━━━━━━━━━━━━━━━━━━━\u001b[0m\u001b[37m\u001b[0m \u001b[1m264s\u001b[0m 387ms/step - accuracy: 0.9940 - loss: 0.0251 - val_accuracy: 0.7901 - val_loss: 1.0112\n",
      "Epoch 18/20\n",
      "\u001b[1m682/682\u001b[0m \u001b[32m━━━━━━━━━━━━━━━━━━━━\u001b[0m\u001b[37m\u001b[0m \u001b[1m257s\u001b[0m 377ms/step - accuracy: 0.9920 - loss: 0.0313 - val_accuracy: 0.7894 - val_loss: 0.9592\n",
      "Epoch 19/20\n",
      "\u001b[1m682/682\u001b[0m \u001b[32m━━━━━━━━━━━━━━━━━━━━\u001b[0m\u001b[37m\u001b[0m \u001b[1m259s\u001b[0m 380ms/step - accuracy: 0.9948 - loss: 0.0234 - val_accuracy: 0.7960 - val_loss: 1.0120\n",
      "Epoch 20/20\n",
      "\u001b[1m682/682\u001b[0m \u001b[32m━━━━━━━━━━━━━━━━━━━━\u001b[0m\u001b[37m\u001b[0m \u001b[1m261s\u001b[0m 383ms/step - accuracy: 0.9983 - loss: 0.0122 - val_accuracy: 0.7991 - val_loss: 1.0845\n",
      "\u001b[1m107/107\u001b[0m \u001b[32m━━━━━━━━━━━━━━━━━━━━\u001b[0m\u001b[37m\u001b[0m \u001b[1m10s\u001b[0m 96ms/step - accuracy: 0.7872 - loss: 1.2819\n",
      "Test Accuracy: 0.7998\n"
     ]
    }
   ],
   "source": [
    "# Initialize the tuner\n",
    "tuner = kt.RandomSearch(\n",
    "    model_builder,\n",
    "    objective='val_accuracy',\n",
    "    max_trials=10,  # Number of different models to try\n",
    "    executions_per_trial=1,  # Number of times to train each model\n",
    "    directory='keras_tuner_results',\n",
    "    project_name='cnn_tuning'\n",
    ")\n",
    "\n",
    "# Perform Hyperparameter Search\n",
    "tuner.search(X_train, y_train, epochs=10, validation_data=(X_val, y_val), batch_size=32)\n",
    "\n",
    "# Get the Best Hyperparameters\n",
    "best_hps = tuner.get_best_hyperparameters(num_trials=1)[0]\n",
    "\n",
    "# Build and Train the Best Model\n",
    "best_model = tuner.hypermodel.build(best_hps)\n",
    "history = best_model.fit(X_train, y_train, epochs=20, validation_data=(X_val, y_val))\n",
    "\n",
    "# Evaluate on Test Data\n",
    "test_loss, test_acc = best_model.evaluate(X_test, y_test)\n",
    "print(f\"Test Accuracy: {test_acc:.4f}\")"
   ]
  },
  {
   "cell_type": "code",
   "execution_count": 8,
   "metadata": {},
   "outputs": [
    {
     "data": {
      "text/plain": [
       "{'conv_1_filters': 32,\n",
       " 'conv_1_kernel': 5,\n",
       " 'conv_2_filters': 64,\n",
       " 'conv_2_kernel': 5,\n",
       " 'conv_3_filters': 128,\n",
       " 'conv_3_kernel': 3,\n",
       " 'dense_units': 128,\n",
       " 'learning_rate': 0.0001}"
      ]
     },
     "metadata": {},
     "output_type": "display_data"
    }
   ],
   "source": [
    "display(best_hps.values)"
   ]
  },
  {
   "cell_type": "code",
   "execution_count": 7,
   "metadata": {},
   "outputs": [],
   "source": [
    "best_model.save(\"../../models/tuned_model.keras\")"
   ]
  }
 ],
 "metadata": {
  "kernelspec": {
   "display_name": "dev",
   "language": "python",
   "name": "python3"
  },
  "language_info": {
   "codemirror_mode": {
    "name": "ipython",
    "version": 3
   },
   "file_extension": ".py",
   "mimetype": "text/x-python",
   "name": "python",
   "nbconvert_exporter": "python",
   "pygments_lexer": "ipython3",
   "version": "3.10.16"
  }
 },
 "nbformat": 4,
 "nbformat_minor": 2
}
