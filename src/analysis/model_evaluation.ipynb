{
 "cells": [
  {
   "cell_type": "code",
   "execution_count": 1,
   "metadata": {},
   "outputs": [],
   "source": [
    "import tensorflow as tf\n",
    "from tensorflow import keras\n",
    "from tensorflow.keras import layers\n",
    "from tensorflow.keras.optimizers import Adam\n",
    "import pickle\n",
    "from sklearn.model_selection import train_test_split"
   ]
  },
  {
   "cell_type": "code",
   "execution_count": 2,
   "metadata": {},
   "outputs": [],
   "source": [
    "# Load already augmented data from saved pickle files\n",
    "X_train_aug = pickle.load(open(\"../../pickles/X_train_aug.pkl\", \"rb\"))\n",
    "y_train_aug = pickle.load(open(\"../../pickles/y_train_aug.pkl\", \"rb\"))\n",
    "X_test = pickle.load(open(\"../../pickles/X_test.pkl\", \"rb\"))\n",
    "y_test = pickle.load(open(\"../../pickles/y_test.pkl\", \"rb\"))"
   ]
  },
  {
   "cell_type": "code",
   "execution_count": 3,
   "metadata": {},
   "outputs": [
    {
     "data": {
      "text/plain": [
       "(27254, 150, 150, 3)"
      ]
     },
     "metadata": {},
     "output_type": "display_data"
    },
    {
     "data": {
      "text/plain": [
       "(27254, 6)"
      ]
     },
     "metadata": {},
     "output_type": "display_data"
    },
    {
     "data": {
      "text/plain": [
       "(3407, 150, 150, 3)"
      ]
     },
     "metadata": {},
     "output_type": "display_data"
    },
    {
     "data": {
      "text/plain": [
       "(3407, 6)"
      ]
     },
     "metadata": {},
     "output_type": "display_data"
    }
   ],
   "source": [
    "# Confirm the shapes of the data\n",
    "display(X_train_aug.shape, y_train_aug.shape, X_test.shape, y_test.shape)"
   ]
  },
  {
   "cell_type": "code",
   "execution_count": 4,
   "metadata": {},
   "outputs": [],
   "source": [
    "# further split the training data into training and validation\n",
    "X_train, X_val, y_train, y_val = train_test_split(X_train_aug, y_train_aug, test_size=0.2, random_state=42)"
   ]
  },
  {
   "cell_type": "code",
   "execution_count": 5,
   "metadata": {},
   "outputs": [
    {
     "name": "stdout",
     "output_type": "stream",
     "text": [
      "Epoch 1/10\n",
      "\u001b[1m682/682\u001b[0m \u001b[32m━━━━━━━━━━━━━━━━━━━━\u001b[0m\u001b[37m\u001b[0m \u001b[1m182s\u001b[0m 265ms/step - accuracy: 0.5769 - loss: 1.0784 - val_accuracy: 0.6969 - val_loss: 0.7746\n",
      "Epoch 2/10\n",
      "\u001b[1m682/682\u001b[0m \u001b[32m━━━━━━━━━━━━━━━━━━━━\u001b[0m\u001b[37m\u001b[0m \u001b[1m181s\u001b[0m 265ms/step - accuracy: 0.7789 - loss: 0.5934 - val_accuracy: 0.7887 - val_loss: 0.5976\n",
      "Epoch 3/10\n",
      "\u001b[1m682/682\u001b[0m \u001b[32m━━━━━━━━━━━━━━━━━━━━\u001b[0m\u001b[37m\u001b[0m \u001b[1m173s\u001b[0m 254ms/step - accuracy: 0.8537 - loss: 0.4213 - val_accuracy: 0.7848 - val_loss: 0.6172\n",
      "Epoch 4/10\n",
      "\u001b[1m682/682\u001b[0m \u001b[32m━━━━━━━━━━━━━━━━━━━━\u001b[0m\u001b[37m\u001b[0m \u001b[1m142s\u001b[0m 208ms/step - accuracy: 0.9029 - loss: 0.2680 - val_accuracy: 0.7773 - val_loss: 0.7391\n",
      "Epoch 5/10\n",
      "\u001b[1m682/682\u001b[0m \u001b[32m━━━━━━━━━━━━━━━━━━━━\u001b[0m\u001b[37m\u001b[0m \u001b[1m142s\u001b[0m 208ms/step - accuracy: 0.9472 - loss: 0.1545 - val_accuracy: 0.7758 - val_loss: 0.7919\n",
      "Epoch 6/10\n",
      "\u001b[1m682/682\u001b[0m \u001b[32m━━━━━━━━━━━━━━━━━━━━\u001b[0m\u001b[37m\u001b[0m \u001b[1m149s\u001b[0m 219ms/step - accuracy: 0.9721 - loss: 0.0875 - val_accuracy: 0.7808 - val_loss: 0.9820\n",
      "Epoch 7/10\n",
      "\u001b[1m682/682\u001b[0m \u001b[32m━━━━━━━━━━━━━━━━━━━━\u001b[0m\u001b[37m\u001b[0m \u001b[1m194s\u001b[0m 285ms/step - accuracy: 0.9815 - loss: 0.0579 - val_accuracy: 0.7624 - val_loss: 1.3568\n",
      "Epoch 8/10\n",
      "\u001b[1m682/682\u001b[0m \u001b[32m━━━━━━━━━━━━━━━━━━━━\u001b[0m\u001b[37m\u001b[0m \u001b[1m178s\u001b[0m 261ms/step - accuracy: 0.9825 - loss: 0.0551 - val_accuracy: 0.7709 - val_loss: 1.2982\n",
      "Epoch 9/10\n",
      "\u001b[1m682/682\u001b[0m \u001b[32m━━━━━━━━━━━━━━━━━━━━\u001b[0m\u001b[37m\u001b[0m \u001b[1m169s\u001b[0m 248ms/step - accuracy: 0.9897 - loss: 0.0389 - val_accuracy: 0.7802 - val_loss: 1.3260\n",
      "Epoch 10/10\n",
      "\u001b[1m682/682\u001b[0m \u001b[32m━━━━━━━━━━━━━━━━━━━━\u001b[0m\u001b[37m\u001b[0m \u001b[1m167s\u001b[0m 245ms/step - accuracy: 0.9878 - loss: 0.0427 - val_accuracy: 0.7696 - val_loss: 1.4490\n"
     ]
    }
   ],
   "source": [
    "# Create the model using Convolutional Neural Network\n",
    "model = keras.Sequential([\n",
    "    layers.Conv2D(32, (3, 3), activation='relu'),   # 32 filters, 3x3 kernel\n",
    "    layers.MaxPooling2D((2, 2)),                    # 2x2 pool size\n",
    "    layers.Conv2D(64, (3, 3), activation='relu'),   # 64 filters, 3x3 kernel\n",
    "    layers.MaxPooling2D((2, 2)),                    # 2x2 pool size\n",
    "    layers.Conv2D(64, (3, 3), activation='relu'),   # 64 filters, 3x3 kernel       \n",
    "    layers.Flatten(),                               # Flatten the 3D output to 1D\n",
    "    layers.Dense(64, activation='relu'),            # 64 neurons\n",
    "    layers.Dense(6, activation='softmax')           # 6 classes\n",
    "])\n",
    "\n",
    "# Compile the model\n",
    "model.compile(optimizer='adam', loss='categorical_crossentropy', metrics=['accuracy'])\n",
    "\n",
    "# Train the model\n",
    "batch_size = 32\n",
    "epochs = 10\n",
    "history = model.fit(\n",
    "    X_train, y_train, \n",
    "    batch_size=batch_size, \n",
    "    epochs=epochs, \n",
    "    validation_data=(X_val, y_val))"
   ]
  },
  {
   "cell_type": "code",
   "execution_count": 6,
   "metadata": {},
   "outputs": [
    {
     "name": "stdout",
     "output_type": "stream",
     "text": [
      "\u001b[1m107/107\u001b[0m \u001b[32m━━━━━━━━━━━━━━━━━━━━\u001b[0m\u001b[37m\u001b[0m \u001b[1m7s\u001b[0m 64ms/step - accuracy: 0.7752 - loss: 1.6503\n"
     ]
    },
    {
     "data": {
      "text/plain": [
       "[1.5873265266418457, 0.7775169014930725]"
      ]
     },
     "execution_count": 6,
     "metadata": {},
     "output_type": "execute_result"
    }
   ],
   "source": [
    "# Evaluate the model\n",
    "model.evaluate(X_test, y_test)"
   ]
  },
  {
   "cell_type": "code",
   "execution_count": 9,
   "metadata": {},
   "outputs": [],
   "source": [
    "model.save(\"../../models/model_softmax_ohe_10e.keras\")"
   ]
  }
 ],
 "metadata": {
  "kernelspec": {
   "display_name": "dev",
   "language": "python",
   "name": "python3"
  },
  "language_info": {
   "codemirror_mode": {
    "name": "ipython",
    "version": 3
   },
   "file_extension": ".py",
   "mimetype": "text/x-python",
   "name": "python",
   "nbconvert_exporter": "python",
   "pygments_lexer": "ipython3",
   "version": "3.10.16"
  }
 },
 "nbformat": 4,
 "nbformat_minor": 2
}
