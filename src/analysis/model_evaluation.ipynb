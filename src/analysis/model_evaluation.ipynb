{
 "cells": [
  {
   "cell_type": "code",
   "execution_count": 17,
   "metadata": {},
   "outputs": [],
   "source": [
    "import tensorflow as tf\n",
    "from tensorflow import keras\n",
    "from tensorflow.keras import layers\n",
    "from tensorflow.keras.optimizers import Adam\n",
    "import pickle\n",
    "from sklearn.model_selection import train_test_split\n",
    "import matplotlib.pyplot as plt\n",
    "import pandas as pd"
   ]
  },
  {
   "cell_type": "code",
   "execution_count": 2,
   "metadata": {},
   "outputs": [],
   "source": [
    "# Load already augmented data from saved pickle files\n",
    "X_train_aug = pickle.load(open(\"../../pickles/X_train_aug.pkl\", \"rb\"))\n",
    "y_train_aug = pickle.load(open(\"../../pickles/y_train_aug.pkl\", \"rb\"))\n",
    "X_test = pickle.load(open(\"../../pickles/X_test.pkl\", \"rb\"))\n",
    "y_test = pickle.load(open(\"../../pickles/y_test.pkl\", \"rb\"))"
   ]
  },
  {
   "cell_type": "code",
   "execution_count": null,
   "metadata": {},
   "outputs": [],
   "source": [
    "# Confirm the shapes of the data\n",
    "display(X_train_aug.shape, y_train_aug.shape, X_test.shape, y_test.shape)"
   ]
  },
  {
   "cell_type": "code",
   "execution_count": 4,
   "metadata": {},
   "outputs": [],
   "source": [
    "# further split the training data into training and validation\n",
    "X_train, X_val, y_train, y_val = train_test_split(X_train_aug, y_train_aug, test_size=0.2, random_state=42)"
   ]
  },
  {
   "cell_type": "code",
   "execution_count": null,
   "metadata": {},
   "outputs": [],
   "source": [
    "# Create the model using Convolutional Neural Network\n",
    "model = keras.Sequential([\n",
    "    layers.Conv2D(32, (3, 3), activation='relu'),   # 32 filters, 3x3 kernel\n",
    "    layers.MaxPooling2D((2, 2)),                    # 2x2 pool size\n",
    "    layers.Conv2D(64, (3, 3), activation='relu'),   # 64 filters, 3x3 kernel\n",
    "    layers.MaxPooling2D((2, 2)),                    # 2x2 pool size\n",
    "    layers.Conv2D(64, (3, 3), activation='relu'),   # 64 filters, 3x3 kernel       \n",
    "    layers.Flatten(),                               # Flatten the 3D output to 1D\n",
    "    layers.Dense(64, activation='relu'),            # 64 neurons\n",
    "    layers.Dense(6, activation='softmax')           # 6 classes\n",
    "])\n",
    "\n",
    "# Compile the model\n",
    "model.compile(optimizer='adam', loss='categorical_crossentropy', metrics=['accuracy'])\n",
    "\n",
    "# Train the model\n",
    "batch_size = 32\n",
    "epochs = 10\n",
    "history = model.fit(\n",
    "    X_train, y_train, \n",
    "    batch_size=batch_size, \n",
    "    epochs=epochs, \n",
    "    validation_data=(X_val, y_val))"
   ]
  },
  {
   "cell_type": "code",
   "execution_count": null,
   "metadata": {},
   "outputs": [],
   "source": [
    "# Evaluate the model\n",
    "model.evaluate(X_test, y_test)"
   ]
  },
  {
   "cell_type": "code",
   "execution_count": 15,
   "metadata": {},
   "outputs": [],
   "source": [
    "def plot_training_history(history):\n",
    "    # Extracting training history\n",
    "    acc = history.history['accuracy']\n",
    "    val_acc = history.history['val_accuracy']\n",
    "    loss = history.history['loss']\n",
    "    val_loss = history.history['val_loss']\n",
    "    epochs = range(1, len(acc) + 1)\n",
    "\n",
    "    # Create subplots for accuracy and loss\n",
    "    fig, axs = plt.subplots(1, 2, figsize=(12, 5))\n",
    "\n",
    "    # Plot accuracy\n",
    "    axs[0].plot(epochs, acc, 'bo-', label='Training Accuracy')\n",
    "    axs[0].plot(epochs, val_acc, 'r*-', label='Validation Accuracy')\n",
    "    axs[0].set_title('Training & Validation Accuracy')\n",
    "    axs[0].set_xlabel('Epochs')\n",
    "    axs[0].set_ylabel('Accuracy')\n",
    "    axs[0].legend()\n",
    "\n",
    "    # Plot loss\n",
    "    axs[1].plot(epochs, loss, 'bo-', label='Training Loss')\n",
    "    axs[1].plot(epochs, val_loss, 'r*-', label='Validation Loss')\n",
    "    axs[1].set_title('Training & Validation Loss')\n",
    "    axs[1].set_xlabel('Epochs')\n",
    "    axs[1].set_ylabel('Loss')\n",
    "    axs[1].legend()\n",
    "\n",
    "    plt.tight_layout()\n",
    "    plt.show()"
   ]
  },
  {
   "cell_type": "code",
   "execution_count": null,
   "metadata": {},
   "outputs": [],
   "source": [
    "plot_training_history(history)"
   ]
  },
  {
   "cell_type": "code",
   "execution_count": null,
   "metadata": {},
   "outputs": [],
   "source": [
    "df = pd.DataFrame(history.history)\n",
    "\n",
    "# Plot validation accuracy and validation loss on the same line chart\n",
    "plt.figure(figsize=(10, 5))\n",
    "plt.plot(range(1, len(df) + 1) , df['val_accuracy'], marker='o', linestyle='-', color='blue', label='Validation Accuracy')\n",
    "plt.plot(range(1, len(df) + 1), df['val_loss'], marker='s', linestyle='--', color='red', label='Validation Loss')\n",
    "\n",
    "plt.xlabel('Epochs')\n",
    "plt.ylabel('Value')\n",
    "plt.title('Validation Accuracy & Loss over Epochs')\n",
    "plt.legend()\n",
    "plt.grid(True)\n",
    "plt.show()"
   ]
  },
  {
   "cell_type": "code",
   "execution_count": 7,
   "metadata": {},
   "outputs": [],
   "source": [
    "model.save(\"../../models/model_softmax_ohe_10e.keras\")"
   ]
  },
  {
   "cell_type": "code",
   "execution_count": null,
   "metadata": {},
   "outputs": [],
   "source": [
    "model.summary()"
   ]
  },
  {
   "cell_type": "code",
   "execution_count": null,
   "metadata": {},
   "outputs": [],
   "source": [
    "tf.keras.utils.plot_model(model, to_file='model_softmax_ohe_10e.png',\n",
    "                          show_shapes=True,\n",
    "                          show_dtype=False,\n",
    "                          show_layer_names=True,\n",
    "                          rankdir=\"TB\",\n",
    "                          expand_nested=False,\n",
    "                          dpi=96)"
   ]
  },
  {
   "cell_type": "code",
   "execution_count": null,
   "metadata": {},
   "outputs": [],
   "source": [
    "import visualkeras \n",
    "visualkeras.layered_view(model)\n"
   ]
  }
 ],
 "metadata": {
  "kernelspec": {
   "display_name": "dev",
   "language": "python",
   "name": "python3"
  },
  "language_info": {
   "codemirror_mode": {
    "name": "ipython",
    "version": 3
   },
   "file_extension": ".py",
   "mimetype": "text/x-python",
   "name": "python",
   "nbconvert_exporter": "python",
   "pygments_lexer": "ipython3",
   "version": "3.10.16"
  }
 },
 "nbformat": 4,
 "nbformat_minor": 2
}
