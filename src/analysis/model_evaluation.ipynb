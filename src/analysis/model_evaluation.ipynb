{
 "cells": [
  {
   "cell_type": "code",
   "execution_count": 1,
   "metadata": {},
   "outputs": [],
   "source": [
    "import tensorflow as tf\n",
    "from tensorflow import keras\n",
    "from tensorflow.keras import layers\n",
    "from tensorflow.keras.optimizers import Adam\n",
    "import pickle\n",
    "from sklearn.model_selection import train_test_split"
   ]
  },
  {
   "cell_type": "code",
   "execution_count": 2,
   "metadata": {},
   "outputs": [],
   "source": [
    "# Load already augmented data from saved pickle files\n",
    "X_train_aug = pickle.load(open(\"../../pickles/X_train_aug.pkl\", \"rb\"))\n",
    "y_train_aug = pickle.load(open(\"../../pickles/y_train_aug.pkl\", \"rb\"))\n",
    "X_test = pickle.load(open(\"../../pickles/X_test.pkl\", \"rb\"))\n",
    "y_test = pickle.load(open(\"../../pickles/y_test.pkl\", \"rb\"))"
   ]
  },
  {
   "cell_type": "code",
   "execution_count": 3,
   "metadata": {},
   "outputs": [
    {
     "data": {
      "text/plain": [
       "(27254, 150, 150, 3)"
      ]
     },
     "metadata": {},
     "output_type": "display_data"
    },
    {
     "data": {
      "text/plain": [
       "(27254, 6)"
      ]
     },
     "metadata": {},
     "output_type": "display_data"
    },
    {
     "data": {
      "text/plain": [
       "(3407, 150, 150, 3)"
      ]
     },
     "metadata": {},
     "output_type": "display_data"
    },
    {
     "data": {
      "text/plain": [
       "(3407, 6)"
      ]
     },
     "metadata": {},
     "output_type": "display_data"
    }
   ],
   "source": [
    "# Confirm the shapes of the data\n",
    "display(X_train_aug.shape, y_train_aug.shape, X_test.shape, y_test.shape)"
   ]
  },
  {
   "cell_type": "code",
   "execution_count": 4,
   "metadata": {},
   "outputs": [],
   "source": [
    "# further split the training data into training and validation\n",
    "X_train, X_val, y_train, y_val = train_test_split(X_train_aug, y_train_aug, test_size=0.2, random_state=42)"
   ]
  },
  {
   "cell_type": "code",
   "execution_count": 5,
   "metadata": {},
   "outputs": [
    {
     "name": "stdout",
     "output_type": "stream",
     "text": [
      "Epoch 1/10\n",
      "\u001b[1m682/682\u001b[0m \u001b[32m━━━━━━━━━━━━━━━━━━━━\u001b[0m\u001b[37m\u001b[0m \u001b[1m145s\u001b[0m 212ms/step - accuracy: 0.5497 - loss: 1.1309 - val_accuracy: 0.7252 - val_loss: 0.7358\n",
      "Epoch 2/10\n",
      "\u001b[1m682/682\u001b[0m \u001b[32m━━━━━━━━━━━━━━━━━━━━\u001b[0m\u001b[37m\u001b[0m \u001b[1m136s\u001b[0m 200ms/step - accuracy: 0.7637 - loss: 0.6400 - val_accuracy: 0.7718 - val_loss: 0.6267\n",
      "Epoch 3/10\n",
      "\u001b[1m682/682\u001b[0m \u001b[32m━━━━━━━━━━━━━━━━━━━━\u001b[0m\u001b[37m\u001b[0m \u001b[1m140s\u001b[0m 205ms/step - accuracy: 0.8291 - loss: 0.4675 - val_accuracy: 0.7843 - val_loss: 0.6265\n",
      "Epoch 4/10\n",
      "\u001b[1m682/682\u001b[0m \u001b[32m━━━━━━━━━━━━━━━━━━━━\u001b[0m\u001b[37m\u001b[0m \u001b[1m136s\u001b[0m 200ms/step - accuracy: 0.8902 - loss: 0.3056 - val_accuracy: 0.7707 - val_loss: 0.7328\n",
      "Epoch 5/10\n",
      "\u001b[1m682/682\u001b[0m \u001b[32m━━━━━━━━━━━━━━━━━━━━\u001b[0m\u001b[37m\u001b[0m \u001b[1m133s\u001b[0m 195ms/step - accuracy: 0.9432 - loss: 0.1666 - val_accuracy: 0.7887 - val_loss: 0.8176\n",
      "Epoch 6/10\n",
      "\u001b[1m682/682\u001b[0m \u001b[32m━━━━━━━━━━━━━━━━━━━━\u001b[0m\u001b[37m\u001b[0m \u001b[1m136s\u001b[0m 199ms/step - accuracy: 0.9680 - loss: 0.0976 - val_accuracy: 0.7789 - val_loss: 0.9145\n",
      "Epoch 7/10\n",
      "\u001b[1m682/682\u001b[0m \u001b[32m━━━━━━━━━━━━━━━━━━━━\u001b[0m\u001b[37m\u001b[0m \u001b[1m134s\u001b[0m 197ms/step - accuracy: 0.9792 - loss: 0.0643 - val_accuracy: 0.7956 - val_loss: 1.0653\n",
      "Epoch 8/10\n",
      "\u001b[1m682/682\u001b[0m \u001b[32m━━━━━━━━━━━━━━━━━━━━\u001b[0m\u001b[37m\u001b[0m \u001b[1m134s\u001b[0m 197ms/step - accuracy: 0.9873 - loss: 0.0443 - val_accuracy: 0.7729 - val_loss: 1.1971\n",
      "Epoch 9/10\n",
      "\u001b[1m682/682\u001b[0m \u001b[32m━━━━━━━━━━━━━━━━━━━━\u001b[0m\u001b[37m\u001b[0m \u001b[1m134s\u001b[0m 197ms/step - accuracy: 0.9910 - loss: 0.0364 - val_accuracy: 0.7799 - val_loss: 1.3799\n",
      "Epoch 10/10\n",
      "\u001b[1m682/682\u001b[0m \u001b[32m━━━━━━━━━━━━━━━━━━━━\u001b[0m\u001b[37m\u001b[0m \u001b[1m134s\u001b[0m 197ms/step - accuracy: 0.9851 - loss: 0.0462 - val_accuracy: 0.7426 - val_loss: 1.6462\n"
     ]
    }
   ],
   "source": [
    "# Create the model using Convolutional Neural Network\n",
    "model = keras.Sequential([\n",
    "    layers.Conv2D(32, (3, 3), activation='relu'),   # 32 filters, 3x3 kernel\n",
    "    layers.MaxPooling2D((2, 2)),                    # 2x2 pool size\n",
    "    layers.Conv2D(64, (3, 3), activation='relu'),   # 64 filters, 3x3 kernel\n",
    "    layers.MaxPooling2D((2, 2)),                    # 2x2 pool size\n",
    "    layers.Conv2D(64, (3, 3), activation='relu'),   # 64 filters, 3x3 kernel       \n",
    "    layers.Flatten(),                               # Flatten the 3D output to 1D\n",
    "    layers.Dense(64, activation='relu'),            # 64 neurons\n",
    "    layers.Dense(6, activation='sigmoid')           # 6 classes\n",
    "])\n",
    "\n",
    "# Compile the model\n",
    "model.compile(optimizer='adam', loss='categorical_crossentropy', metrics=['accuracy'])\n",
    "\n",
    "# Train the model\n",
    "batch_size = 32\n",
    "epochs = 10\n",
    "history = model.fit(\n",
    "    X_train, y_train, \n",
    "    batch_size=batch_size, \n",
    "    epochs=epochs, \n",
    "    validation_data=(X_val, y_val))"
   ]
  },
  {
   "cell_type": "code",
   "execution_count": 6,
   "metadata": {},
   "outputs": [
    {
     "name": "stdout",
     "output_type": "stream",
     "text": [
      "\u001b[1m107/107\u001b[0m \u001b[32m━━━━━━━━━━━━━━━━━━━━\u001b[0m\u001b[37m\u001b[0m \u001b[1m6s\u001b[0m 52ms/step - accuracy: 0.7404 - loss: 1.9139\n"
     ]
    },
    {
     "data": {
      "text/plain": [
       "[1.8375205993652344, 0.7516877055168152]"
      ]
     },
     "execution_count": 6,
     "metadata": {},
     "output_type": "execute_result"
    }
   ],
   "source": [
    "# Evaluate the model\n",
    "model.evaluate(X_test, y_test)"
   ]
  }
 ],
 "metadata": {
  "kernelspec": {
   "display_name": "dev",
   "language": "python",
   "name": "python3"
  },
  "language_info": {
   "codemirror_mode": {
    "name": "ipython",
    "version": 3
   },
   "file_extension": ".py",
   "mimetype": "text/x-python",
   "name": "python",
   "nbconvert_exporter": "python",
   "pygments_lexer": "ipython3",
   "version": "3.10.16"
  }
 },
 "nbformat": 4,
 "nbformat_minor": 2
}
