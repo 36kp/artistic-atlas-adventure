{
 "cells": [
  {
   "cell_type": "code",
   "execution_count": 1,
   "metadata": {},
   "outputs": [],
   "source": [
    "import tensorflow as tf\n",
    "from tensorflow import keras\n",
    "from tensorflow.keras import layers\n",
    "from tensorflow.keras.optimizers import Adam\n",
    "import pickle\n",
    "from sklearn.model_selection import train_test_split"
   ]
  },
  {
   "cell_type": "code",
   "execution_count": 2,
   "metadata": {},
   "outputs": [],
   "source": [
    "# Load already augmented data from saved pickle files\n",
    "X_train_aug = pickle.load(open(\"../../pickles/X_train_aug.pkl\", \"rb\"))\n",
    "y_train_aug = pickle.load(open(\"../../pickles/y_train_aug.pkl\", \"rb\"))\n",
    "X_test = pickle.load(open(\"../../pickles/X_test.pkl\", \"rb\"))\n",
    "y_test = pickle.load(open(\"../../pickles/y_test.pkl\", \"rb\"))"
   ]
  },
  {
   "cell_type": "code",
   "execution_count": null,
   "metadata": {},
   "outputs": [],
   "source": [
    "# Confirm the shapes of the data\n",
    "display(X_train_aug.shape, y_train_aug.shape, X_test.shape, y_test.shape)"
   ]
  },
  {
   "cell_type": "code",
   "execution_count": 4,
   "metadata": {},
   "outputs": [],
   "source": [
    "# further split the training data into training and validation\n",
    "X_train, X_val, y_train, y_val = train_test_split(X_train_aug, y_train_aug, test_size=0.2, random_state=42)"
   ]
  },
  {
   "cell_type": "code",
   "execution_count": null,
   "metadata": {},
   "outputs": [],
   "source": [
    "# Create the model using Convolutional Neural Network\n",
    "model = keras.Sequential([\n",
    "    layers.Conv2D(32, (3, 3), activation='relu'),   # 32 filters, 3x3 kernel\n",
    "    layers.MaxPooling2D((2, 2)),                    # 2x2 pool size\n",
    "    layers.Conv2D(64, (3, 3), activation='relu'),   # 64 filters, 3x3 kernel\n",
    "    layers.MaxPooling2D((2, 2)),                    # 2x2 pool size\n",
    "    layers.Conv2D(64, (3, 3), activation='relu'),   # 64 filters, 3x3 kernel       \n",
    "    layers.Flatten(),                               # Flatten the 3D output to 1D\n",
    "    layers.Dense(64, activation='relu'),            # 64 neurons\n",
    "    layers.Dense(6, activation='softmax')           # 6 classes\n",
    "])\n",
    "\n",
    "# Compile the model\n",
    "model.compile(optimizer='adam', loss='categorical_crossentropy', metrics=['accuracy'])\n",
    "\n",
    "# Train the model\n",
    "batch_size = 32\n",
    "epochs = 10\n",
    "history = model.fit(\n",
    "    X_train, y_train, \n",
    "    batch_size=batch_size, \n",
    "    epochs=epochs, \n",
    "    validation_data=(X_val, y_val))"
   ]
  },
  {
   "cell_type": "code",
   "execution_count": null,
   "metadata": {},
   "outputs": [],
   "source": [
    "# Evaluate the model\n",
    "model.evaluate(X_test, y_test)"
   ]
  },
  {
   "cell_type": "code",
   "execution_count": null,
   "metadata": {},
   "outputs": [],
   "source": [
    "model.save(\"../../models/model_sigmoid_ohe_10e.h5\")"
   ]
  }
 ],
 "metadata": {
  "kernelspec": {
   "display_name": "dev",
   "language": "python",
   "name": "python3"
  },
  "language_info": {
   "codemirror_mode": {
    "name": "ipython",
    "version": 3
   },
   "file_extension": ".py",
   "mimetype": "text/x-python",
   "name": "python",
   "nbconvert_exporter": "python",
   "pygments_lexer": "ipython3",
   "version": "3.10.16"
  }
 },
 "nbformat": 4,
 "nbformat_minor": 2
}
