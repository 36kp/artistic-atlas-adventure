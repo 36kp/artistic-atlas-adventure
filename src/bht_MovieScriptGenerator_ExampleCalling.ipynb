{
 "cells": [
  {
   "cell_type": "code",
   "execution_count": 3,
   "metadata": {},
   "outputs": [],
   "source": [
    "import os\n",
    "import sys\n",
    "\n",
    "sys.path.append(os.path.abspath(r\"./utilities\"))\n",
    "import MovieScriptGenerator"
   ]
  },
  {
   "cell_type": "code",
   "execution_count": 4,
   "metadata": {},
   "outputs": [
    {
     "name": "stdout",
     "output_type": "stream",
     "text": [
      "[Errno 2] No such file or directory: './Resources/buildings/0.jpg'\n"
     ]
    }
   ],
   "source": [
    "image_path = \"./Resources/buildings/0.jpg\"\n",
    "movieScriptGenerator = MovieScriptGenerator.MovieScriptGenerator()\n",
    "script = movieScriptGenerator.generate_script(image_path)\n",
    "print(script)"
   ]
  }
 ],
 "metadata": {
  "kernelspec": {
   "display_name": "Python 3",
   "language": "python",
   "name": "python3"
  },
  "language_info": {
   "codemirror_mode": {
    "name": "ipython",
    "version": 3
   },
   "file_extension": ".py",
   "mimetype": "text/x-python",
   "name": "python",
   "nbconvert_exporter": "python",
   "pygments_lexer": "ipython3",
   "version": "3.10.11"
  }
 },
 "nbformat": 4,
 "nbformat_minor": 2
}
