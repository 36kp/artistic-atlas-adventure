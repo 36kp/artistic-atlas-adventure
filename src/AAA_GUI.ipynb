{
 "cells": [
  {
   "cell_type": "code",
   "execution_count": null,
   "metadata": {},
   "outputs": [],
   "source": [
    "# import libraries\n",
    "import io\n",
    "import os\n",
    "import sys\n",
    "import uuid\n",
    "import pickle\n",
    "\n",
    "import google.generativeai as genai\n",
    "import gradio as gr\n",
    "import numpy as np\n",
    "\n",
    "from PIL import Image\n",
    "from dotenv import load_dotenv\n",
    "\n",
    "from tensorflow import keras\n",
    "from tensorflow.keras.preprocessing import image\n",
    "\n",
    "sys.path.append(os.path.abspath(r\"./utilities\"))\n",
    "import MovieScriptGenerator\n",
    "import MoviePosterGenerator"
   ]
  },
  {
   "cell_type": "code",
   "execution_count": 2,
   "metadata": {},
   "outputs": [],
   "source": [
    "# temporary directory to save images that the user uploads\n",
    "SAVE_DIR = \"temp_images\"\n",
    "os.makedirs(SAVE_DIR, exist_ok=True)"
   ]
  },
  {
   "cell_type": "code",
   "execution_count": 3,
   "metadata": {},
   "outputs": [],
   "source": [
    "def getName(class_id):\n",
    "    if class_id == 0:\n",
    "        return \"Buildings\"\n",
    "    elif class_id == 1:\n",
    "        return \"Forest\"\n",
    "    elif class_id == 2:\n",
    "        return \"Glacier\"\n",
    "    elif class_id == 3:\n",
    "        return \"Mountain\"\n",
    "    elif class_id == 4:\n",
    "        return \"Sea\"\n",
    "    elif class_id == 5:\n",
    "        return \"Street\"\n",
    "    else:\n",
    "        return \"Unknown\""
   ]
  },
  {
   "cell_type": "code",
   "execution_count": 4,
   "metadata": {},
   "outputs": [],
   "source": [
    "def run_prediction(filePath):\n",
    "    print(\"Running prediction\")\n",
    "    #model = keras.models.load_model(\"../models/keras_model.h5\")\n",
    "    #model = keras.models.load_model(\"../models/model_softmax_ohe_10e.keras\")\n",
    "    #model = keras.models.load_model(\"../models/tuner_model.keras\")\n",
    "    model = keras.models.load_model(\"../models/tuned_model_randomsearch.keras\")\n",
    "\n",
    "    img = Image.open(filePath)\n",
    "    img = img.resize((150, 150))\n",
    "\n",
    "    img_array = image.img_to_array(img)\n",
    "    img_array = img_array / 255.0 \n",
    "    img_array = np.expand_dims(img_array, axis=0)\n",
    "\n",
    "    shape = img_array.shape\n",
    "    dtype = (img_array.dtype)\n",
    "\n",
    "    predictions = model.predict(img_array)\n",
    "    confidence = np.max(predictions)\n",
    "    predicted_class = np.argmax(predictions)\n",
    "    return f\"\"\"AAA image classification identifies the provided image to be {getName(predicted_class)} with {(confidence*100):.2f}% confidence\"\"\""
   ]
  },
  {
   "cell_type": "code",
   "execution_count": 5,
   "metadata": {},
   "outputs": [],
   "source": [
    "def generate(image):\n",
    "    \"\"\"\n",
    "    Processes an input image to generate a movie script and a resized movie poster.\n",
    "\n",
    "    Args:\n",
    "        image (PIL.Image.Image): The input image.\n",
    "\n",
    "    Returns:\n",
    "        tuple: (str, PIL.Image.Image)\n",
    "            - The generated movie script as a string.\n",
    "            - The resized movie poster as a PIL.Image.Image object.\n",
    "    \"\"\"\n",
    "    file_path = os.path.join(SAVE_DIR, f\"{uuid.uuid4().hex}.jpg\")\n",
    "    image.save(file_path)\n",
    "    movieScriptGenerator = MovieScriptGenerator.MovieScriptGenerator()\n",
    "    script = movieScriptGenerator.generate_script(file_path)\n",
    "    moviePosterGenerator = MoviePosterGenerator.MoviePosterGenerator()\n",
    "    poster = moviePosterGenerator.generate_poster(script)\n",
    "    new_size = (300, 300)\n",
    "    resized_poster = poster.resize(new_size, Image.LANCZOS)\n",
    "    predict = run_prediction(file_path)\n",
    "    return predict, script, resized_poster"
   ]
  },
  {
   "cell_type": "code",
   "execution_count": null,
   "metadata": {},
   "outputs": [],
   "source": [
    "# Creates a Gradio interface for CNN processing, generating a movie script and poster from an image\n",
    "\n",
    "with gr.Blocks(theme=gr.themes.Soft()) as gui:\n",
    "    # 🎬 Title\n",
    "    gr.Markdown(\"## 🎥 Movie Script & Poster Generator 🎭\")\n",
    "    \n",
    "    with gr.Row():\n",
    "        with gr.Column():\n",
    "            gr.Markdown(\"### Upload an Image 🖼\")\n",
    "            image_input = gr.Image(type=\"pil\", label=\"Paste or Upload Image\")  \n",
    "            generate_button = gr.Button(\"🤖 Process the image 🤖\") \n",
    "\n",
    "    with gr.Row():\n",
    "        with gr.Column():\n",
    "            gr.Markdown(\"### 📊 Predicted Information\")\n",
    "            text_predict = gr.Textbox(label=\"Prediction Information\", interactive=False)\n",
    "    \n",
    "    with gr.Row():\n",
    "        with gr.Column():\n",
    "            gr.Markdown(\"### 📜 Generated Movie Script\")\n",
    "            text_output = gr.Markdown(label=\"Movie Information\")\n",
    "        \n",
    "        with gr.Column():\n",
    "            gr.Markdown(\"### 🎨 Generated Movie Poster\")\n",
    "            image_output = gr.Image(type=\"pil\", label=\"Movie Poster\")\n",
    "\n",
    "    generate_button.click(fn=generate, inputs=image_input, outputs=[text_predict, text_output, image_output])\n",
    "\n",
    "# Launch the UI\n",
    "gui.launch(share=True)"
   ]
  }
 ],
 "metadata": {
  "kernelspec": {
   "display_name": "base",
   "language": "python",
   "name": "python3"
  },
  "language_info": {
   "codemirror_mode": {
    "name": "ipython",
    "version": 3
   },
   "file_extension": ".py",
   "mimetype": "text/x-python",
   "name": "python",
   "nbconvert_exporter": "python",
   "pygments_lexer": "ipython3",
   "version": "3.12.2"
  }
 },
 "nbformat": 4,
 "nbformat_minor": 2
}
