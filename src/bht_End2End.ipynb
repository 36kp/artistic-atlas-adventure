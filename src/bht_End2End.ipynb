{
 "cells": [
  {
   "cell_type": "code",
   "execution_count": 1,
   "metadata": {},
   "outputs": [
    {
     "name": "stderr",
     "output_type": "stream",
     "text": [
      "c:\\Users\\hknal\\AppData\\Local\\Programs\\Python\\Python310\\lib\\site-packages\\tqdm\\auto.py:21: TqdmWarning: IProgress not found. Please update jupyter and ipywidgets. See https://ipywidgets.readthedocs.io/en/stable/user_install.html\n",
      "  from .autonotebook import tqdm as notebook_tqdm\n"
     ]
    }
   ],
   "source": [
    "# import libraries\n",
    "import io\n",
    "import os\n",
    "import sys\n",
    "import uuid\n",
    "\n",
    "import google.generativeai as genai\n",
    "import gradio as gr\n",
    "\n",
    "from PIL import Image\n",
    "from dotenv import load_dotenv\n",
    "\n",
    "sys.path.append(os.path.abspath(r\"./utilities\"))\n",
    "import MovieScriptGenerator\n",
    "import MoviePosterGenerator"
   ]
  },
  {
   "cell_type": "code",
   "execution_count": 2,
   "metadata": {},
   "outputs": [],
   "source": [
    "# temporary directory to save images that the user uploads\n",
    "SAVE_DIR = \"temp_images\"\n",
    "os.makedirs(SAVE_DIR, exist_ok=True)"
   ]
  },
  {
   "cell_type": "code",
   "execution_count": 3,
   "metadata": {},
   "outputs": [],
   "source": [
    "def generate(image):\n",
    "    \"\"\"\n",
    "    Processes an input image to generate a movie script and a resized movie poster.\n",
    "\n",
    "    Args:\n",
    "        image (PIL.Image.Image): The input image.\n",
    "\n",
    "    Returns:\n",
    "        tuple: (str, PIL.Image.Image)\n",
    "            - The generated movie script as a string.\n",
    "            - The resized movie poster as a PIL.Image.Image object.\n",
    "    \"\"\"\n",
    "    file_path = os.path.join(SAVE_DIR, f\"{uuid.uuid4().hex}.jpg\")\n",
    "    image.save(file_path)\n",
    "    movieScriptGenerator = MovieScriptGenerator.MovieScriptGenerator()\n",
    "    script = movieScriptGenerator.generate_script(file_path)\n",
    "    moviePosterGenerator = MoviePosterGenerator.MoviePosterGenerator()\n",
    "    poster = moviePosterGenerator.generate_poster(script)\n",
    "    new_size = (300, 300)\n",
    "    resized_poster = poster.resize(new_size, Image.LANCZOS)\n",
    "    return script, resized_poster"
   ]
  },
  {
   "cell_type": "code",
   "execution_count": 4,
   "metadata": {},
   "outputs": [
    {
     "name": "stdout",
     "output_type": "stream",
     "text": [
      "* Running on local URL:  http://127.0.0.1:7860\n",
      "* Running on public URL: https://f7262ec1c09fd7b716.gradio.live\n",
      "\n",
      "This share link expires in 72 hours. For free permanent hosting and GPU upgrades, run `gradio deploy` from the terminal in the working directory to deploy to Hugging Face Spaces (https://huggingface.co/spaces)\n"
     ]
    },
    {
     "data": {
      "text/html": [
       "<div><iframe src=\"https://f7262ec1c09fd7b716.gradio.live\" width=\"100%\" height=\"500\" allow=\"autoplay; camera; microphone; clipboard-read; clipboard-write;\" frameborder=\"0\" allowfullscreen></iframe></div>"
      ],
      "text/plain": [
       "<IPython.core.display.HTML object>"
      ]
     },
     "metadata": {},
     "output_type": "display_data"
    },
    {
     "data": {
      "text/plain": []
     },
     "execution_count": 4,
     "metadata": {},
     "output_type": "execute_result"
    }
   ],
   "source": [
    "# Create a Gradio interface for generating a movie script and poster from an image\n",
    "\n",
    "app = gr.Interface(\n",
    "    fn=generate,\n",
    "    inputs=gr.Image(type=\"pil\"), \n",
    "    outputs=[gr.Textbox(label=\"Movie information\"), \n",
    "             gr.Image(type=\"pil\", label=\"Movie Poster\")],  \n",
    "    title=\"Movie Script Generator and Poster Generator\",\n",
    "    description=\"Paste or upload an image. The system will generate movie information and create a poster.\")\n",
    "# Launch the app\n",
    "app.launch(share=True)"
   ]
  },
  {
   "cell_type": "code",
   "execution_count": 5,
   "metadata": {},
   "outputs": [
    {
     "name": "stdout",
     "output_type": "stream",
     "text": [
      "* Running on local URL:  http://127.0.0.1:7861\n",
      "* Running on public URL: https://87ceb9e04bf096062f.gradio.live\n",
      "\n",
      "This share link expires in 72 hours. For free permanent hosting and GPU upgrades, run `gradio deploy` from the terminal in the working directory to deploy to Hugging Face Spaces (https://huggingface.co/spaces)\n"
     ]
    },
    {
     "data": {
      "text/html": [
       "<div><iframe src=\"https://87ceb9e04bf096062f.gradio.live\" width=\"100%\" height=\"500\" allow=\"autoplay; camera; microphone; clipboard-read; clipboard-write;\" frameborder=\"0\" allowfullscreen></iframe></div>"
      ],
      "text/plain": [
       "<IPython.core.display.HTML object>"
      ]
     },
     "metadata": {},
     "output_type": "display_data"
    },
    {
     "data": {
      "text/plain": []
     },
     "execution_count": 5,
     "metadata": {},
     "output_type": "execute_result"
    }
   ],
   "source": [
    "# Version 2: Gradio UI with Blocks for better layout\n",
    "\n",
    "with gr.Blocks() as demo:\n",
    "    # 🎬 Title\n",
    "    gr.Markdown(\"## 🎥 Movie Script & Poster Generator 🎭\")\n",
    "    \n",
    "    with gr.Row():\n",
    "        with gr.Column():\n",
    "            gr.Markdown(\"### Upload an Image 🎨\")\n",
    "            image_input = gr.Image(type=\"pil\", label=\"Paste or Upload Image\")  \n",
    "            generate_button = gr.Button(\"🎬 Generate Movie\")  # Added button for better UX\n",
    "                \n",
    "    with gr.Row():\n",
    "        with gr.Column():\n",
    "            gr.Markdown(\"### 📜 Generated Movie Script\")\n",
    "            text_output = gr.Textbox(label=\"Movie Information\", interactive=False)\n",
    "        \n",
    "        with gr.Column():\n",
    "            gr.Markdown(\"### 🎨 Generated Movie Poster\")\n",
    "            image_output = gr.Image(type=\"pil\", label=\"Movie Poster\")\n",
    "\n",
    "    generate_button.click(fn=generate, inputs=image_input, outputs=[text_output, image_output])\n",
    "\n",
    "# Launch the UI\n",
    "demo.launch(share=True)"
   ]
  }
 ],
 "metadata": {
  "kernelspec": {
   "display_name": "Python 3",
   "language": "python",
   "name": "python3"
  },
  "language_info": {
   "codemirror_mode": {
    "name": "ipython",
    "version": 3
   },
   "file_extension": ".py",
   "mimetype": "text/x-python",
   "name": "python",
   "nbconvert_exporter": "python",
   "pygments_lexer": "ipython3",
   "version": "3.10.11"
  }
 },
 "nbformat": 4,
 "nbformat_minor": 2
}
