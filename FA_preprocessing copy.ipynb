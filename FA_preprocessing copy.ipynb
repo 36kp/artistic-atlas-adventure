{
 "cells": [
  {
   "cell_type": "code",
   "execution_count": 12,
   "metadata": {},
   "outputs": [],
   "source": [
    "import pandas as pd\n",
    "import numpy as np\n",
    "from PIL import Image\n",
    "import os"
   ]
  },
  {
   "cell_type": "code",
   "execution_count": 13,
   "metadata": {},
   "outputs": [
    {
     "data": {
      "text/plain": [
       "['buildings', 'forest', 'glacier', 'mountain', 'sea', 'street']"
      ]
     },
     "execution_count": 13,
     "metadata": {},
     "output_type": "execute_result"
    }
   ],
   "source": [
    "# get the subfolders in root folder \n",
    "root_folder = r\"Resources\"\n",
    "sub_folder_names = os.listdir(root_folder)\n",
    "sub_folder_names"
   ]
  },
  {
   "cell_type": "code",
   "execution_count": 14,
   "metadata": {},
   "outputs": [
    {
     "data": {
      "text/html": [
       "<div>\n",
       "<style scoped>\n",
       "    .dataframe tbody tr th:only-of-type {\n",
       "        vertical-align: middle;\n",
       "    }\n",
       "\n",
       "    .dataframe tbody tr th {\n",
       "        vertical-align: top;\n",
       "    }\n",
       "\n",
       "    .dataframe thead th {\n",
       "        text-align: right;\n",
       "    }\n",
       "</style>\n",
       "<table border=\"1\" class=\"dataframe\">\n",
       "  <thead>\n",
       "    <tr style=\"text-align: right;\">\n",
       "      <th></th>\n",
       "      <th>image_id</th>\n",
       "      <th>label</th>\n",
       "    </tr>\n",
       "  </thead>\n",
       "  <tbody>\n",
       "    <tr>\n",
       "      <th>0</th>\n",
       "      <td>0.jpg</td>\n",
       "      <td>buildings</td>\n",
       "    </tr>\n",
       "    <tr>\n",
       "      <th>1</th>\n",
       "      <td>10006.jpg</td>\n",
       "      <td>buildings</td>\n",
       "    </tr>\n",
       "    <tr>\n",
       "      <th>2</th>\n",
       "      <td>1001.jpg</td>\n",
       "      <td>buildings</td>\n",
       "    </tr>\n",
       "    <tr>\n",
       "      <th>3</th>\n",
       "      <td>10014.jpg</td>\n",
       "      <td>buildings</td>\n",
       "    </tr>\n",
       "    <tr>\n",
       "      <th>4</th>\n",
       "      <td>10018.jpg</td>\n",
       "      <td>buildings</td>\n",
       "    </tr>\n",
       "    <tr>\n",
       "      <th>...</th>\n",
       "      <td>...</td>\n",
       "      <td>...</td>\n",
       "    </tr>\n",
       "    <tr>\n",
       "      <th>2878</th>\n",
       "      <td>9961.jpg</td>\n",
       "      <td>street</td>\n",
       "    </tr>\n",
       "    <tr>\n",
       "      <th>2879</th>\n",
       "      <td>9967.jpg</td>\n",
       "      <td>street</td>\n",
       "    </tr>\n",
       "    <tr>\n",
       "      <th>2880</th>\n",
       "      <td>9978.jpg</td>\n",
       "      <td>street</td>\n",
       "    </tr>\n",
       "    <tr>\n",
       "      <th>2881</th>\n",
       "      <td>9989.jpg</td>\n",
       "      <td>street</td>\n",
       "    </tr>\n",
       "    <tr>\n",
       "      <th>2882</th>\n",
       "      <td>999.jpg</td>\n",
       "      <td>street</td>\n",
       "    </tr>\n",
       "  </tbody>\n",
       "</table>\n",
       "<p>17034 rows × 2 columns</p>\n",
       "</div>"
      ],
      "text/plain": [
       "       image_id      label\n",
       "0         0.jpg  buildings\n",
       "1     10006.jpg  buildings\n",
       "2      1001.jpg  buildings\n",
       "3     10014.jpg  buildings\n",
       "4     10018.jpg  buildings\n",
       "...         ...        ...\n",
       "2878   9961.jpg     street\n",
       "2879   9967.jpg     street\n",
       "2880   9978.jpg     street\n",
       "2881   9989.jpg     street\n",
       "2882    999.jpg     street\n",
       "\n",
       "[17034 rows x 2 columns]"
      ]
     },
     "execution_count": 14,
     "metadata": {},
     "output_type": "execute_result"
    }
   ],
   "source": [
    "#empty list for dataframes\n",
    "df_list = []\n",
    "\n",
    "# make dataframes for each subfolder and label each image\n",
    "for sub_folder_name in sub_folder_names:\n",
    "    subfolder_path = os.path.join(root_folder, sub_folder_name)\n",
    "    if not os.path.isdir(subfolder_path):\n",
    "        continue  # Skip if it's not a directory // such as .DS_Store\n",
    "    else:\n",
    "        file_names = os.listdir(subfolder_path)\n",
    "        df = pd.DataFrame(file_names, columns=['image_id'])\n",
    "        df['label'] = sub_folder_name\n",
    "        df_list.append(df)\n",
    "\n",
    "# concat list of dataframes into one dataframe\n",
    "concat_df = pd.concat(df_list)\n",
    "concat_df"
   ]
  },
  {
   "cell_type": "code",
   "execution_count": 15,
   "metadata": {},
   "outputs": [
    {
     "name": "stdout",
     "output_type": "stream",
     "text": [
      "<class 'pandas.core.frame.DataFrame'>\n",
      "Index: 17034 entries, 0 to 2882\n",
      "Data columns (total 2 columns):\n",
      " #   Column    Non-Null Count  Dtype \n",
      "---  ------    --------------  ----- \n",
      " 0   image_id  17034 non-null  object\n",
      " 1   label     17034 non-null  object\n",
      "dtypes: object(2)\n",
      "memory usage: 399.2+ KB\n"
     ]
    }
   ],
   "source": [
    "#check if there are null values\n",
    "concat_df.info()"
   ]
  },
  {
   "cell_type": "code",
   "execution_count": 16,
   "metadata": {},
   "outputs": [
    {
     "data": {
      "text/plain": [
       "17034"
      ]
     },
     "execution_count": 16,
     "metadata": {},
     "output_type": "execute_result"
    }
   ],
   "source": [
    "# check that all image ids are unique\n",
    "len(concat_df['image_id'].unique())"
   ]
  },
  {
   "cell_type": "code",
   "execution_count": 17,
   "metadata": {},
   "outputs": [
    {
     "data": {
      "text/plain": [
       "label\n",
       "mountain     3037\n",
       "glacier      2957\n",
       "street       2883\n",
       "sea          2784\n",
       "forest       2745\n",
       "buildings    2628\n",
       "Name: count, dtype: int64"
      ]
     },
     "execution_count": 17,
     "metadata": {},
     "output_type": "execute_result"
    }
   ],
   "source": [
    "# value counts for labels\n",
    "concat_df['label'].value_counts()"
   ]
  },
  {
   "cell_type": "code",
   "execution_count": 18,
   "metadata": {},
   "outputs": [
    {
     "data": {
      "text/plain": [
       "<Axes: ylabel='label'>"
      ]
     },
     "execution_count": 18,
     "metadata": {},
     "output_type": "execute_result"
    },
    {
     "data": {
      "image/png": "[encoded data removed]",
      "text/plain": [
       "<Figure size 640x480 with 1 Axes>"
      ]
     },
     "metadata": {},
     "output_type": "display_data"
    }
   ],
   "source": [
    "# graph value counts\n",
    "concat_df['label'].value_counts().sort_values().plot.barh()"
   ]
  },
  {
   "cell_type": "code",
   "execution_count": 30,
   "metadata": {},
   "outputs": [],
   "source": [
    "# create empty list to store images\n",
    "imgs = []\n",
    "# create empty list to image formats\n",
    "imgs_format = []\n",
    "\n",
    "# iterate through each row and get file path for each img\n",
    "# open image and append it to empty list\n",
    "for row in concat_df.itertuples():\n",
    "    file_path = os.path.join(root_folder, row.label, row.image_id)\n",
    "    with Image.open(file_path) as img:\n",
    "        imgs_format.append(img.format)\n",
    "        imgs.append(img.copy())\n",
    "    \n"
   ]
  },
  {
   "cell_type": "code",
   "execution_count": 32,
   "metadata": {},
   "outputs": [
    {
     "data": {
      "text/plain": [
       "{'JPEG'}"
      ]
     },
     "execution_count": 32,
     "metadata": {},
     "output_type": "execute_result"
    }
   ],
   "source": [
    "# make sure all images in same file format\n",
    "set(imgs_format)"
   ]
  },
  {
   "cell_type": "code",
   "execution_count": 20,
   "metadata": {},
   "outputs": [
    {
     "data": {
      "text/plain": [
       "{(150, 72),\n",
       " (150, 76),\n",
       " (150, 81),\n",
       " (150, 97),\n",
       " (150, 100),\n",
       " (150, 102),\n",
       " (150, 103),\n",
       " (150, 105),\n",
       " (150, 108),\n",
       " (150, 110),\n",
       " (150, 111),\n",
       " (150, 113),\n",
       " (150, 115),\n",
       " (150, 119),\n",
       " (150, 120),\n",
       " (150, 123),\n",
       " (150, 124),\n",
       " (150, 131),\n",
       " (150, 133),\n",
       " (150, 134),\n",
       " (150, 135),\n",
       " (150, 136),\n",
       " (150, 140),\n",
       " (150, 141),\n",
       " (150, 142),\n",
       " (150, 143),\n",
       " (150, 144),\n",
       " (150, 145),\n",
       " (150, 146),\n",
       " (150, 147),\n",
       " (150, 149),\n",
       " (150, 150)}"
      ]
     },
     "execution_count": 20,
     "metadata": {},
     "output_type": "execute_result"
    }
   ],
   "source": [
    "# Check for unique image sizes\n",
    "sizes = set([img.size for img in imgs])\n",
    "sizes"
   ]
  },
  {
   "cell_type": "code",
   "execution_count": 21,
   "metadata": {},
   "outputs": [
    {
     "data": {
      "text/plain": [
       "{'(150, 150)': 16979,\n",
       " '(150, 124)': 1,\n",
       " '(150, 113)': 7,\n",
       " '(150, 108)': 2,\n",
       " '(150, 133)': 1,\n",
       " '(150, 115)': 1,\n",
       " '(150, 135)': 3,\n",
       " '(150, 141)': 2,\n",
       " '(150, 136)': 2,\n",
       " '(150, 110)': 2,\n",
       " '(150, 105)': 1,\n",
       " '(150, 111)': 3,\n",
       " '(150, 120)': 1,\n",
       " '(150, 149)': 2,\n",
       " '(150, 143)': 2,\n",
       " '(150, 146)': 2,\n",
       " '(150, 134)': 2,\n",
       " '(150, 142)': 2,\n",
       " '(150, 123)': 2,\n",
       " '(150, 119)': 1,\n",
       " '(150, 102)': 1,\n",
       " '(150, 76)': 2,\n",
       " '(150, 72)': 1,\n",
       " '(150, 97)': 1,\n",
       " '(150, 144)': 2,\n",
       " '(150, 103)': 1,\n",
       " '(150, 131)': 2,\n",
       " '(150, 81)': 2,\n",
       " '(150, 100)': 1,\n",
       " '(150, 145)': 1,\n",
       " '(150, 147)': 1,\n",
       " '(150, 140)': 1}"
      ]
     },
     "execution_count": 21,
     "metadata": {},
     "output_type": "execute_result"
    }
   ],
   "source": [
    "# create an empty dictionary to store img size counts\n",
    "img_size_count = {}\n",
    "\n",
    "# get counts for each image size\n",
    "for img in imgs:\n",
    "    if str(img.size) in img_size_count:\n",
    "        img_size_count[str(img.size)] += 1\n",
    "    else:\n",
    "        img_size_count[str(img.size)] = 1\n",
    "\n",
    "# print to determine which image size is most abundant in dataset\n",
    "img_size_count"
   ]
  },
  {
   "cell_type": "code",
   "execution_count": 22,
   "metadata": {},
   "outputs": [
    {
     "data": {
      "image/jpeg": "[encoded data removed]",
      "image/png": "[encoded data removed]",
      "text/plain": [
       "<PIL.Image.Image image mode=RGB size=150x150>"
      ]
     },
     "execution_count": 22,
     "metadata": {},
     "output_type": "execute_result"
    }
   ],
   "source": [
    "# use target size that is most abundant in dataset \n",
    "target_size = (150, 150)\n",
    "\n",
    "# resize images\n",
    "resized_imgs = [img.resize(target_size, resample = Image.LANCZOS) for img in imgs]\n",
    "resized_imgs[1]"
   ]
  },
  {
   "cell_type": "code",
   "execution_count": 23,
   "metadata": {},
   "outputs": [
    {
     "data": {
      "text/plain": [
       "{(150, 150)}"
      ]
     },
     "execution_count": 23,
     "metadata": {},
     "output_type": "execute_result"
    }
   ],
   "source": [
    "# check if resizing images was succesful by checking unique values again\n",
    "sizes = set([img.size for img in resized_imgs])\n",
    "sizes"
   ]
  },
  {
   "cell_type": "code",
   "execution_count": 24,
   "metadata": {},
   "outputs": [
    {
     "data": {
      "text/plain": [
       "{'RGB'}"
      ]
     },
     "execution_count": 24,
     "metadata": {},
     "output_type": "execute_result"
    }
   ],
   "source": [
    "# make sure all images are in RGB format\n",
    "set([img.mode for img in resized_imgs])"
   ]
  },
  {
   "cell_type": "code",
   "execution_count": 26,
   "metadata": {},
   "outputs": [
    {
     "name": "stdout",
     "output_type": "stream",
     "text": [
      "Pixel Values:\n",
      "[[[247. 247. 245.]\n",
      "  [247. 247. 245.]\n",
      "  [248. 248. 246.]\n",
      "  ...\n",
      "  [248. 248. 248.]\n",
      "  [247. 247. 245.]\n",
      "  [247. 247. 245.]]\n",
      "\n",
      " [[246. 246. 244.]\n",
      "  [247. 247. 245.]\n",
      "  [247. 247. 245.]\n",
      "  ...\n",
      "  [248. 248. 248.]\n",
      "  [247. 247. 245.]\n",
      "  [247. 247. 245.]]\n",
      "\n",
      " [[246. 246. 244.]\n",
      "  [246. 246. 244.]\n",
      "  [247. 247. 245.]\n",
      "  ...\n",
      "  [248. 248. 248.]\n",
      "  [247. 247. 245.]\n",
      "  [247. 247. 245.]]\n",
      "\n",
      " ...\n",
      "\n",
      " [[ 47.  46.  44.]\n",
      "  [ 62.  61.  59.]\n",
      "  [ 49.  48.  46.]\n",
      "  ...\n",
      "  [ 51.  46.  43.]\n",
      "  [ 45.  40.  37.]\n",
      "  [ 94.  89.  86.]]\n",
      "\n",
      " [[ 77.  76.  74.]\n",
      "  [ 47.  46.  44.]\n",
      "  [ 43.  42.  40.]\n",
      "  ...\n",
      "  [ 22.  17.  14.]\n",
      "  [ 55.  50.  47.]\n",
      "  [ 39.  34.  31.]]\n",
      "\n",
      " [[ 59.  58.  56.]\n",
      "  [ 55.  54.  52.]\n",
      "  [ 60.  59.  57.]\n",
      "  ...\n",
      "  [ 31.  26.  23.]\n",
      "  [ 51.  46.  43.]\n",
      "  [ 63.  58.  55.]]]\n"
     ]
    }
   ],
   "source": [
    "# Convert all images to floating point numpy arrays\n",
    "float_images = [np.array(img).astype(np.float32) for img in resized_imgs]\n",
    "\n",
    "# Display the pixel values of the first image\n",
    "print(\"Pixel Values:\")\n",
    "print(float_images[0])"
   ]
  },
  {
   "cell_type": "code",
   "execution_count": 27,
   "metadata": {},
   "outputs": [
    {
     "name": "stdout",
     "output_type": "stream",
     "text": [
      "Pixel Values:\n",
      "[[[0.96862745 0.96862745 0.9607843 ]\n",
      "  [0.96862745 0.96862745 0.9607843 ]\n",
      "  [0.972549   0.972549   0.9647059 ]\n",
      "  ...\n",
      "  [0.972549   0.972549   0.972549  ]\n",
      "  [0.96862745 0.96862745 0.9607843 ]\n",
      "  [0.96862745 0.96862745 0.9607843 ]]\n",
      "\n",
      " [[0.9647059  0.9647059  0.95686275]\n",
      "  [0.96862745 0.96862745 0.9607843 ]\n",
      "  [0.96862745 0.96862745 0.9607843 ]\n",
      "  ...\n",
      "  [0.972549   0.972549   0.972549  ]\n",
      "  [0.96862745 0.96862745 0.9607843 ]\n",
      "  [0.96862745 0.96862745 0.9607843 ]]\n",
      "\n",
      " [[0.9647059  0.9647059  0.95686275]\n",
      "  [0.9647059  0.9647059  0.95686275]\n",
      "  [0.96862745 0.96862745 0.9607843 ]\n",
      "  ...\n",
      "  [0.972549   0.972549   0.972549  ]\n",
      "  [0.96862745 0.96862745 0.9607843 ]\n",
      "  [0.96862745 0.96862745 0.9607843 ]]\n",
      "\n",
      " ...\n",
      "\n",
      " [[0.18431373 0.18039216 0.17254902]\n",
      "  [0.24313726 0.23921569 0.23137255]\n",
      "  [0.19215687 0.1882353  0.18039216]\n",
      "  ...\n",
      "  [0.2        0.18039216 0.16862746]\n",
      "  [0.1764706  0.15686275 0.14509805]\n",
      "  [0.36862746 0.34901962 0.3372549 ]]\n",
      "\n",
      " [[0.3019608  0.29803923 0.2901961 ]\n",
      "  [0.18431373 0.18039216 0.17254902]\n",
      "  [0.16862746 0.16470589 0.15686275]\n",
      "  ...\n",
      "  [0.08627451 0.06666667 0.05490196]\n",
      "  [0.21568628 0.19607843 0.18431373]\n",
      "  [0.15294118 0.13333334 0.12156863]]\n",
      "\n",
      " [[0.23137255 0.22745098 0.21960784]\n",
      "  [0.21568628 0.21176471 0.20392157]\n",
      "  [0.23529412 0.23137255 0.22352941]\n",
      "  ...\n",
      "  [0.12156863 0.10196079 0.09019608]\n",
      "  [0.2        0.18039216 0.16862746]\n",
      "  [0.24705882 0.22745098 0.21568628]]]\n"
     ]
    }
   ],
   "source": [
    "# Normalize pixel values to a range between 0 and 1,\n",
    "# divide all pixel values by the max of 255\n",
    "normalized_images = [img/255 for img in float_images]\n",
    "\n",
    "# Display the pixel values of the first image\n",
    "print(\"Pixel Values:\")\n",
    "print(normalized_images[0])"
   ]
  },
  {
   "cell_type": "code",
   "execution_count": 28,
   "metadata": {},
   "outputs": [],
   "source": [
    "# Add batch dimension\n",
    "reshaped_image_array = np.expand_dims(normalized_images, axis=0)"
   ]
  },
  {
   "cell_type": "code",
   "execution_count": 29,
   "metadata": {},
   "outputs": [
    {
     "data": {
      "text/plain": [
       "(1, 17034, 150, 150, 3)"
      ]
     },
     "execution_count": 29,
     "metadata": {},
     "output_type": "execute_result"
    }
   ],
   "source": [
    "reshaped_image_array.shape"
   ]
  }
 ],
 "metadata": {
  "kernelspec": {
   "display_name": "dev",
   "language": "python",
   "name": "python3"
  },
  "language_info": {
   "codemirror_mode": {
    "name": "ipython",
    "version": 3
   },
   "file_extension": ".py",
   "mimetype": "text/x-python",
   "name": "python",
   "nbconvert_exporter": "python",
   "pygments_lexer": "ipython3",
   "version": "3.10.14"
  }
 },
 "nbformat": 4,
 "nbformat_minor": 2
}
