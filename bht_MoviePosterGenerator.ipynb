{
 "cells": [
  {
   "cell_type": "code",
   "execution_count": 25,
   "metadata": {},
   "outputs": [],
   "source": [
    "import openai\n",
    "from PIL import Image\n",
    "from dotenv import load_dotenv\n",
    "import io\n",
    "import os\n",
    "import requests\n",
    "\n",
    "# pip install openai"
   ]
  },
  {
   "cell_type": "code",
   "execution_count": 26,
   "metadata": {},
   "outputs": [],
   "source": [
    "# Load environment variables.\n",
    "load_dotenv()\n",
    "\n",
    "# Store the API key in a variable.\n",
    "OPENAI_API_KEY = os.getenv(\"OPENAI_API_KEY\")\n"
   ]
  },
  {
   "cell_type": "code",
   "execution_count": 27,
   "metadata": {},
   "outputs": [],
   "source": [
    "# Set API Key\n",
    "openai.api_key = OPENAI_API_KEY"
   ]
  },
  {
   "cell_type": "code",
   "execution_count": null,
   "metadata": {},
   "outputs": [],
   "source": [
    "script_summary = \"\"\"\n",
    "The film opens with a breathtaking, yet foreboding, panorama of a vast, glacier-covered mountain range mirroring itself in a still, mist-shrouded lake, much like the picture. A team of four scientists—Dr. Lena Hanson (a seasoned glaciologist haunted by a past tragedy), Dr. Ben Carter (a driven young geologist eager to prove himself),  Maya Sharma (a sharp-witted climatologist), and Mark Olsen (a skeptical but experienced mountaineer)—arrive at their isolated research station to study the accelerated melting of the glacier.  As they delve deeper into their research, they uncover ancient artifacts buried within the ice – strange, unsettling objects that hint at a civilization lost to time. Their discovery attracts unwanted attention, as a mysterious group with its own agenda seeks to exploit the glacier's secrets, putting the team in a deadly race against time to uncover the truth before it's too late. The glacier itself seems to react to their findings, unleashing unexpected and potentially catastrophic environmental consequences.\n",
    "I also want a theme of plumming\n",
    "No text, no typography, no words, purely visual.\n",
    "\"\"\"\n",
    "\n",
    "prompt_rules = f\"\"\"\n",
    "No not include text, typography, words.  Just purely visual.\n",
    "Pg-13 rating.\n",
    "\"\"\"\n",
    "\n",
    "prompt = script_summary + prompt_rules\n",
    "prompt\n"
   ]
  },
  {
   "cell_type": "code",
   "execution_count": 36,
   "metadata": {},
   "outputs": [],
   "source": [
    "dalle_response = openai.images.generate(\n",
    "  model=\"dall-e-3\",\n",
    "  prompt=script_summary,\n",
    "  n=1,\n",
    "  size=\"1024x1024\"\n",
    ")"
   ]
  },
  {
   "cell_type": "code",
   "execution_count": null,
   "metadata": {},
   "outputs": [],
   "source": [
    "image_url = dalle_response.data[0].url\n",
    "print(\"\\nMovie Poster Generated! View it here:\", image_url)"
   ]
  },
  {
   "cell_type": "code",
   "execution_count": null,
   "metadata": {},
   "outputs": [],
   "source": [
    "response = requests.get(image_url)\n",
    "with open(\"movie_poster.png\", \"wb\") as file:\n",
    "    file.write(response.content)\n",
    "print(\"Movie poster saved as movie_poster.png\")\n",
    "\n",
    "show_image = Image.open(io.BytesIO(response.content))\n",
    "show_image.show()"
   ]
  }
 ],
 "metadata": {
  "kernelspec": {
   "display_name": "base",
   "language": "python",
   "name": "python3"
  },
  "language_info": {
   "codemirror_mode": {
    "name": "ipython",
    "version": 3
   },
   "file_extension": ".py",
   "mimetype": "text/x-python",
   "name": "python",
   "nbconvert_exporter": "python",
   "pygments_lexer": "ipython3",
   "version": "3.12.2"
  }
 },
 "nbformat": 4,
 "nbformat_minor": 2
}
